{
 "cells": [
  {
   "cell_type": "markdown",
   "metadata": {},
   "source": [
    "# Lattices of normalized ideals of numerical semigroups"
   ]
  },
  {
   "cell_type": "markdown",
   "metadata": {},
   "source": [
    "We start by loading the [numericalsgps](https://gap-packages.github.io/numericalsgps/) package, and with a procedure to check if a given set is the Apéry set of an ideal of a numerical semigroup (with respect to the multiplicity of the numerical semigroup)."
   ]
  },
  {
   "cell_type": "code",
   "execution_count": 2,
   "metadata": {
    "vscode": {
     "languageId": "gap"
    }
   },
   "outputs": [
    {
     "data": {
      "text/plain": [
       "true"
      ]
     },
     "execution_count": 1,
     "metadata": {
      "text/plain": ""
     },
     "output_type": "execute_result"
    }
   ],
   "source": [
    "LoadPackage(\"numericalsgps\");\n",
    "\n",
    "# detects if a given list is the apery list of an ideal of s\n",
    "isaperylistideal:=function(ap,s)\n",
    "    local aps, m;\n",
    "    if not(IsListOfIntegersNS(ap)) then\n",
    "        return false;\n",
    "    fi;\n",
    "\n",
    "    if not(ForAll(ap, x->x>=0)) then    \n",
    "        return false;\n",
    "    fi;\n",
    "    m:=Multiplicity(s);\n",
    "    if Length(ap)<>m then\n",
    "        return false;\n",
    "    fi;\n",
    "\n",
    "    aps:=AperyList(s);\n",
    "    return ForAll(Cartesian([1..m],[1..m]), i-> ap[i[1]]+aps[i[2]] >= ap[1+(i[1]+i[2]-2) mod m]);\n",
    "end;;"
   ]
  },
  {
   "cell_type": "markdown",
   "metadata": {},
   "source": [
    "With this, we can compute the set of all normalized ideals of a numerical semigroup $S$, which we denote by $\\mathfrak{I}_0(S)$."
   ]
  },
  {
   "cell_type": "code",
   "execution_count": 3,
   "metadata": {
    "vscode": {
     "languageId": "gap"
    }
   },
   "outputs": [],
   "source": [
    "# computes the set of normalized ideals of s\n",
    "I0:=function(s)\n",
    "    local k, c, v, m;\n",
    "    m:=Multiplicity(s);\n",
    "    k:=Concatenation([0],KunzCoordinates(s));\n",
    "    c:=Cartesian(List([1..m],i->[0..k[i]]));\n",
    "    c:=Filtered(c, k->isaperylistideal(List([1..m],i->k[i]*m+i-1),s));\n",
    "    v:=List(c, k->List([1..m],i->k[i]*m+i-1)+s);\n",
    "    return v;\n",
    "end;;"
   ]
  },
  {
   "cell_type": "markdown",
   "metadata": {},
   "source": [
    "We want to focus on when the poser $(\\mathfrak{I}_0(S),\\preceq)$ is a lattice, with $I\\preceq J$ if there exists $K$ such that $I+K=J$."
   ]
  },
  {
   "cell_type": "code",
   "execution_count": 4,
   "metadata": {
    "vscode": {
     "languageId": "gap"
    }
   },
   "outputs": [],
   "source": [
    "leadd:=function(i,j,ids)\n",
    "    local cand;\n",
    "    if not(IsSubset(j,i)) then\n",
    "        return(false);\n",
    "    fi;\n",
    "    cand:=Filtered(ids,k->IsSubset(j,k));\n",
    "    return ForAny(cand, k->j=i+k);\n",
    "end;;"
   ]
  },
  {
   "cell_type": "markdown",
   "metadata": {},
   "source": [
    "Computing the set of maximal and minimal elements of a set of ideals will be handy later."
   ]
  },
  {
   "cell_type": "code",
   "execution_count": 6,
   "metadata": {
    "vscode": {
     "languageId": "gap"
    }
   },
   "outputs": [],
   "source": [
    "# computes minimal elements of a set of ideals\n",
    "minimals:=function(l,is)\n",
    "    return Filtered(l,i->Filtered(l,j->leadd(j,i,is))=[i]);\n",
    "end;;\n",
    "\n",
    "#computes maximal elements of a set of ideals\n",
    "maximals:=function(l,is)\n",
    "    return Filtered(l,i->Filtered(l,j->leadd(i,j,is))=[i]);\n",
    "end;;\n"
   ]
  },
  {
   "cell_type": "markdown",
   "metadata": {},
   "source": [
    "In order to compute the join of two ideals, we will need the set of upper bounds of a set of ideals."
   ]
  },
  {
   "cell_type": "code",
   "execution_count": 8,
   "metadata": {
    "vscode": {
     "languageId": "gap"
    }
   },
   "outputs": [],
   "source": [
    "# upper bounds for a set of ideals li\n",
    "upperbounds:=function(li,is)\n",
    "    return Filtered(is,k->ForAll(li,i->leadd(i,k,is)));\n",
    "end;;\n",
    "\n",
    "# join for a set of ideals li\n",
    "join:=function(li,is)\n",
    "    local maxs,ub;\n",
    "    ub:=upperbounds(li,is);\n",
    "    maxs:=minimals(ub,is);\n",
    "    if Length(maxs)<>1 then \n",
    "        return fail;\n",
    "    fi;\n",
    "    return maxs[1];\n",
    "end;;"
   ]
  },
  {
   "cell_type": "markdown",
   "metadata": {},
   "source": [
    "We can compute the ideals covering a given ideal in the following way."
   ]
  },
  {
   "cell_type": "code",
   "execution_count": 14,
   "metadata": {
    "vscode": {
     "languageId": "gap"
    }
   },
   "outputs": [
    {
     "data": {
      "text/plain": [
       "[ [ 0, 1, 3 ], [ 0, 3, 5 ], [ 0, 3, 6 ] ]"
      ]
     },
     "execution_count": 14,
     "metadata": {
      "text/plain": ""
     },
     "output_type": "execute_result"
    }
   ],
   "source": [
    "s:=NumericalSemigroup(4,7,9,10);;\n",
    "is:=I0(s);;\n",
    "i:=[0,3]+s;;\n",
    "cv:=minimals(Difference(upperbounds([i],is),[i]),is);;\n",
    "List(cv,MinimalGenerators);"
   ]
  },
  {
   "cell_type": "markdown",
   "metadata": {},
   "source": [
    "We proceed analogously for the meet of a set of ideals."
   ]
  },
  {
   "cell_type": "code",
   "execution_count": 10,
   "metadata": {
    "vscode": {
     "languageId": "gap"
    }
   },
   "outputs": [],
   "source": [
    "# lower bounds for a set of ideals li\n",
    "lowerbounds:=function(li,is)\n",
    "    return Filtered(is,k->ForAll(li,i->leadd(k,i,is)));\n",
    "end;;\n",
    "\n",
    "# meet for a set of ideals li\n",
    "meet:=function(li,is)\n",
    "    local mins,lb;\n",
    "    lb:=lowerbounds(li,is);\n",
    "    mins:=maximals(lb,is);\n",
    "    if Length(mins)<>1 then \n",
    "        return fail;\n",
    "    fi;\n",
    "    return mins[1];\n",
    "end;;"
   ]
  },
  {
   "cell_type": "markdown",
   "metadata": {},
   "source": [
    "We now have all the ingredients to check if the set of normalized ideals of a numerical semigroup is a join semiattice"
   ]
  },
  {
   "cell_type": "code",
   "execution_count": 11,
   "metadata": {
    "vscode": {
     "languageId": "gap"
    }
   },
   "outputs": [],
   "source": [
    "# checks if every two ideals has a suppremum\n",
    "isjoinsemilatticei0:=function(s)\n",
    "    local is,cis,ub, minimals,t;\n",
    "\n",
    "    minimals:=function(l)\n",
    "        return Filtered(l,i->Filtered(l,j->leadd(j,i,is))=[i]);\n",
    "    end;\n",
    "\n",
    "    is:=I0(s);\n",
    "    cis:=IteratorOfCartesianProduct(is,is);\n",
    "    for t in cis do\n",
    "        ub:=Filtered(is,i->leadd(t[1],i,is) and leadd(t[2],i,is));\n",
    "        if Length(minimals(ub))>1 then \n",
    "            Info(InfoNumSgps,2,\"There is no supremum for \", MinimalGenerators(t[1]), \" and \", MinimalGenerators(t[2]));\n",
    "            return false;\n",
    "        fi;\n",
    "    od;\n",
    "    return true;\n",
    "end;;"
   ]
  },
  {
   "cell_type": "markdown",
   "metadata": {},
   "source": [
    "It is well known that the join of two ideals does not have to be the union nor the sum of these ideals. We use $S=\\langle 4,9\\rangle$ to illustrate this. We start by proving that $(\\mathfrak{I}_0(S),\\preceq)$ is a join semilattice (this may take some time of computation; half a minute on an M3 macbook pro)."
   ]
  },
  {
   "cell_type": "code",
   "execution_count": 19,
   "metadata": {
    "vscode": {
     "languageId": "gap"
    }
   },
   "outputs": [
    {
     "data": {
      "text/plain": [
       "true"
      ]
     },
     "execution_count": 19,
     "metadata": {
      "text/plain": ""
     },
     "output_type": "execute_result"
    }
   ],
   "source": [
    "s:=NumericalSemigroup(4,9);;\n",
    "isjoinsemilatticei0(s);"
   ]
  },
  {
   "cell_type": "markdown",
   "metadata": {},
   "source": [
    "For $I=\\{0,1,2\\}+S$ and $J=\\{0,1,6\\}+S$, we get that the three ideals $I\\vee J$, $I\\cup J$ and $I+J$ are pairwise different."
   ]
  },
  {
   "cell_type": "code",
   "execution_count": 25,
   "metadata": {
    "vscode": {
     "languageId": "gap"
    }
   },
   "outputs": [
    {
     "data": {
      "text/plain": [
       "[ 0, 1, 2, 7 ]"
      ]
     },
     "execution_count": 23,
     "metadata": {
      "text/plain": ""
     },
     "output_type": "execute_result"
    },
    {
     "data": {
      "text/plain": [
       "[ 0, 1, 2 ]"
      ]
     },
     "execution_count": 24,
     "metadata": {
      "text/plain": ""
     },
     "output_type": "execute_result"
    },
    {
     "data": {
      "text/plain": [
       "[ 0, 1, 2, 3 ]"
      ]
     },
     "execution_count": 25,
     "metadata": {
      "text/plain": ""
     },
     "output_type": "execute_result"
    }
   ],
   "source": [
    "is:=I0(s);;\n",
    "i:=[0,1,2]+s;;\n",
    "j:=[0,1,6]+s;;\n",
    "MinimalGenerators(join([i,j],is));\n",
    "MinimalGenerators(Union(i,j));\n",
    "MinimalGenerators(i+j);"
   ]
  },
  {
   "cell_type": "markdown",
   "metadata": {},
   "source": [
    "Next, we show that for $S=\\langle 5,6,7,8,9\\rangle$, the poset $(\\mathfrak{I}_0(S),\\preceq)$ is not a join semilattice. To see this, we show that $(\\{0,1\\}+S)\\vee (\\{0,1,3\\}+S)$ does not exist."
   ]
  },
  {
   "cell_type": "code",
   "execution_count": 33,
   "metadata": {
    "vscode": {
     "languageId": "gap"
    }
   },
   "outputs": [
    {
     "data": {
      "text/plain": [
       "[ [ 0, 1, 2, 3, 4 ], [ 0, 1, 2, 3 ], [ 0, 1, 3, 4 ] ]"
      ]
     },
     "execution_count": 31,
     "metadata": {
      "text/plain": ""
     },
     "output_type": "execute_result"
    },
    {
     "data": {
      "text/plain": [
       "[ [ 0, 1, 2, 3 ], [ 0, 1, 3, 4 ] ]"
      ]
     },
     "execution_count": 32,
     "metadata": {
      "text/plain": ""
     },
     "output_type": "execute_result"
    },
    {
     "data": {
      "text/plain": [
       "fail"
      ]
     },
     "execution_count": 33,
     "metadata": {
      "text/plain": ""
     },
     "output_type": "execute_result"
    }
   ],
   "source": [
    "s:=NumericalSemigroup(5,6,7,8,9);;\n",
    "is:=I0(s);;\n",
    "i:=[0,1]+s;;\n",
    "j:=[0,1,3]+s;;\n",
    "ub:=upperbounds([i,j],is);;\n",
    "List(ub,MinimalGenerators);\n",
    "List(minimals(ub,is),MinimalGenerators);\n",
    "join([i,j],is);"
   ]
  },
  {
   "cell_type": "code",
   "execution_count": 12,
   "metadata": {
    "vscode": {
     "languageId": "gap"
    }
   },
   "outputs": [],
   "source": [
    "ismeetemilatticei0:=function(s)\n",
    "    local is,cis,ub, maximals,t;\n",
    "\n",
    "    maximals:=function(l)\n",
    "        return Filtered(l,i->Filtered(l,j->leadd(i,j,is))=[i]);\n",
    "    end;\n",
    "\n",
    "    is:=I0(s);\n",
    "    cis:=IteratorOfCartesianProduct(is,is);\n",
    "    for t in cis do\n",
    "        ub:=Filtered(is,i->leadd(i,t[1],is) and leadd(i,t[2],is));\n",
    "        if Length(maximals(ub))>1 then \n",
    "            Info(InfoNumSgps,2,\"There is no infimum for \", MinimalGenerators(t[1]), \" and \", MinimalGenerators(t[2]));\n",
    "            return false;\n",
    "        fi;\n",
    "    od;\n",
    "    return true;\n",
    "end;;\n"
   ]
  },
  {
   "cell_type": "code",
   "execution_count": 13,
   "metadata": {
    "vscode": {
     "languageId": "gap"
    }
   },
   "outputs": [
    {
     "data": {
      "text/plain": [
       "function( s ) ... end"
      ]
     },
     "execution_count": 13,
     "metadata": {
      "text/plain": ""
     },
     "output_type": "execute_result"
    }
   ],
   "source": [
    "\n",
    "isdistributivei0:=function(s)\n",
    "    local is,cis,m,j;\n",
    "    m:={a,b}->meet([a,b],is);\n",
    "    j:={a,b}->join([a,b],is);\n",
    "    is:=I0(s);\n",
    "    cis:=Tuples(is,3);\n",
    "    return ForAll(cis,p->m(j(p[1],p[2]),p[3])=j(m(p[1],p[3]),m(p[2],p[3])));\n",
    "end;\n"
   ]
  },
  {
   "cell_type": "markdown",
   "metadata": {},
   "source": [
    "Let us see that for $S=\\langle 4, 5, 6, 7\\rangle$, the poset $(\\mathfrak{I}_0(S),\\preceq)$ is a lattice that is not distributive."
   ]
  },
  {
   "cell_type": "code",
   "execution_count": 38,
   "metadata": {
    "vscode": {
     "languageId": "gap"
    }
   },
   "outputs": [
    {
     "data": {
      "text/plain": [
       "true"
      ]
     },
     "execution_count": 38,
     "metadata": {
      "text/plain": ""
     },
     "output_type": "execute_result"
    }
   ],
   "source": [
    "s:=NumericalSemigroup(4, 5, 6, 7);;\n",
    "isjoinsemilatticei0(s) and ismeetemilatticei0(s);"
   ]
  },
  {
   "cell_type": "code",
   "execution_count": 39,
   "metadata": {
    "vscode": {
     "languageId": "gap"
    }
   },
   "outputs": [
    {
     "data": {
      "text/plain": [
       "false"
      ]
     },
     "execution_count": 39,
     "metadata": {
      "text/plain": ""
     },
     "output_type": "execute_result"
    }
   ],
   "source": [
    "isdistributivei0(s);"
   ]
  },
  {
   "cell_type": "markdown",
   "metadata": {},
   "source": [
    "The same holds for $S=\\langle 3, 7, 8\\rangle$."
   ]
  },
  {
   "cell_type": "code",
   "execution_count": 42,
   "metadata": {
    "vscode": {
     "languageId": "gap"
    }
   },
   "outputs": [
    {
     "data": {
      "text/plain": [
       "true"
      ]
     },
     "execution_count": 41,
     "metadata": {
      "text/plain": ""
     },
     "output_type": "execute_result"
    },
    {
     "data": {
      "text/plain": [
       "false"
      ]
     },
     "execution_count": 42,
     "metadata": {
      "text/plain": ""
     },
     "output_type": "execute_result"
    }
   ],
   "source": [
    "s:=NumericalSemigroup(4, 5, 6, 7);;\n",
    "isjoinsemilatticei0(s) and ismeetemilatticei0(s);\n",
    "isdistributivei0(s);"
   ]
  },
  {
   "cell_type": "markdown",
   "metadata": {},
   "source": [
    "## Some Hasse diagrams"
   ]
  },
  {
   "cell_type": "markdown",
   "metadata": {},
   "source": [
    "The following function can be used to produce a dot string with the Hasse diagram of the set of normalized ideals of a numerical semgigroup. The ideals are represented as nodes labelled with their minimal sets of generators."
   ]
  },
  {
   "cell_type": "code",
   "execution_count": 14,
   "metadata": {
    "vscode": {
     "languageId": "gap"
    }
   },
   "outputs": [
    {
     "data": {
      "text/plain": [
       "function( s ) ... end"
      ]
     },
     "execution_count": 14,
     "metadata": {
      "text/plain": ""
     },
     "output_type": "execute_result"
    }
   ],
   "source": [
    "dotm:=function(s)\n",
    "    local r, output, out, i,j, str, a2k,m,is,e,ec,hasse,rp,added,aps,kcs,g, le, l1,l2,nis, ln;\n",
    "\n",
    "    str:=function(s)\n",
    "        return Concatenation(\"\\\"\",String(s),\"\\\"\");\n",
    "    end;\n",
    "    le:=function(a,b)\n",
    "        return ForAll([1..Length(a)],i->a[i]<=b[i]);\n",
    "    end;\n",
    "    a2k:=function(a)\n",
    "        return List([1..m-1],i->(a[i+1]-i)/m);\n",
    "    end;\n",
    "    hasse:=function(dom,rel)\n",
    "        local out;\n",
    "        \n",
    "        out:=Filtered(rel, p-> p[1]=p[2] or ForAny(Difference(dom,p), x->([p[1],x] in rel) and ([x,p[2]] in rel)));\n",
    "        \n",
    "        return Difference(rel,out);\n",
    "    end;\n",
    "\n",
    "    m:=Multiplicity(s);\n",
    "    g:=Genus(s);\n",
    "    is:=I0(s);\n",
    "    nis:=Length(is);\n",
    "    aps:=List(is,AperyList);\n",
    "    kcs:=List(aps,a2k);\n",
    "    out:=\"\";\n",
    "    added:=[];\n",
    "    output:=OutputTextString(out,true);\n",
    "    AppendTo(output,Concatenation(\"graph \",str(JoinStringsWithSeparator(List(MinimalGenerators(s),String),\"_\")),\"{\"));\n",
    "    AppendTo(output, str(Concatenation(\"&#10216;\",JoinStringsWithSeparator(List(MinimalGenerators(s),String),\", \"),\"&#10217;\")),\" [shape=plaintext];\\n\");\n",
    "    for i in [1..Length(is)] do\n",
    "        #ln:=str(Concatenation(String(a2k(AperyList(is[i]))),\" \",String(MinimalGenerators(is[i]))));\n",
    "        ln:=str(Concatenation(\"(\",JoinStringsWithSeparator(MinimalGenerators(is[i]),\",\"),\")\"));\n",
    "        AppendTo(output,i,\" [label=\",ln);\n",
    "        if is[i]+is[i]=is[i] then\n",
    "            AppendTo(output,\", style=filled];\\n\");\n",
    "        else\n",
    "            AppendTo(output,\"];\\n\");\n",
    "        fi;        \n",
    "    od;\n",
    "    ec:=[];\n",
    "    for i in [0..g-1] do\n",
    "        l1:=Filtered([1..nis],k->Sum(kcs[k])=i);\n",
    "        l2:=Filtered([1..nis],k->Sum(kcs[k])=i+1);\n",
    "        for j in l1 do\n",
    "            Append(ec,List(Filtered(l2,k->le(kcs[j],kcs[k])),k->[j,k]));\n",
    "        od;\n",
    "    od;\n",
    "    Print(\"Done computing hasse subset\\n\");\n",
    "    e:=[];\n",
    "    for i in [1..nis] do\n",
    "        l1:=Filtered([1..nis],k->le(kcs[i],kcs[k]));\n",
    "        l2:=Filtered(l1,k->ForAny(l1,j->is[j]+is[k]=is[i]));\n",
    "        Append(e,List(l2,j->[i,j]));\n",
    "    od;\n",
    "    Print(\"Done computing prec\\n\");\n",
    "    e:=hasse([1..nis],e);\n",
    "    Print(\"Done computing hasse prec\\n\");\n",
    "    e:=BinaryRelationByElements(Domain([1..Length(is)]),List(e,Tuple));\n",
    "    for r in ec do\n",
    "        AppendTo(output,r[1],\" -- \",r[2]);\n",
    "        if r[1] in PreImages(e,r[2]) then\n",
    "            AppendTo(output,\";\\n\");\n",
    "        else\n",
    "            AppendTo(output,\" [style=invis];\\n\");\n",
    "            #rp:=Filtered(e,p->p[1]=r[1] and p[2]<>p[1]);\n",
    "            #Print(\"Missing: \",r[1],\" \",r[2],\"\\n\");\n",
    "            rp:=ImagesElm(e,r[1]);\n",
    "            for i in rp do\n",
    "                if not([r[1],i] in Union(ec,added)) then\n",
    "                    #AppendTo(output,r[1],\" -- \",i,\" [style=bold, constraint=false];\\n\");\n",
    "                    AppendTo(output,r[1],\" -- \",i,\" [constraint=false];\\n\");\n",
    "                fi;\n",
    "                Add(added,[r[1],i]);\n",
    "            od;\n",
    "        fi;\n",
    "    od;\n",
    "    AppendTo(output,\"}\");\n",
    "    CloseStream(output);\n",
    "    return out;\n",
    "end;"
   ]
  },
  {
   "cell_type": "code",
   "execution_count": 45,
   "metadata": {
    "vscode": {
     "languageId": "gap"
    }
   },
   "outputs": [
    {
     "name": "stdout",
     "output_type": "stream",
     "text": [
      "Done computing hasse subset\n",
      "Done computing prec\n",
      "Done computing hasse prec\n"
     ]
    },
    {
     "data": {
      "image/svg+xml": [
       "<?xml version=\"1.0\" encoding=\"UTF-8\" standalone=\"no\"?>\n",
       "<!DOCTYPE svg PUBLIC \"-//W3C//DTD SVG 1.1//EN\"\n",
       " \"http://www.w3.org/Graphics/SVG/1.1/DTD/svg11.dtd\">\n",
       "<!-- Generated by graphviz version 12.1.2 (20240928.0832)\n",
       " -->\n",
       "<!-- Title: 4_5_6_7 Pages: 1 -->\n",
       "<svg width=\"271pt\" height=\"260pt\"\n",
       " viewBox=\"0.00 0.00 271.00 260.00\" xmlns=\"http://www.w3.org/2000/svg\" xmlns:xlink=\"http://www.w3.org/1999/xlink\">\n",
       "<g id=\"graph0\" class=\"graph\" transform=\"scale(1 1) rotate(0) translate(4 256)\">\n",
       "<title>4_5_6_7</title>\n",
       "<polygon fill=\"white\" stroke=\"none\" points=\"-4,4 -4,-256 267,-256 267,4 -4,4\"/>\n",
       "<!-- &#10216;4, 5, 6, 7&#10217; -->\n",
       "<g id=\"node1\" class=\"node\">\n",
       "<title>&#10216;4, 5, 6, 7&#10217;</title>\n",
       "<text text-anchor=\"middle\" x=\"38\" y=\"-228.95\" font-family=\"Times,serif\" font-size=\"14.00\">⟨4, 5, 6, 7⟩</text>\n",
       "</g>\n",
       "<!-- 1 -->\n",
       "<g id=\"node2\" class=\"node\">\n",
       "<title>1</title>\n",
       "<ellipse fill=\"lightgrey\" stroke=\"black\" cx=\"137\" cy=\"-234\" rx=\"43.16\" ry=\"18\"/>\n",
       "<text text-anchor=\"middle\" x=\"137\" y=\"-228.95\" font-family=\"Times,serif\" font-size=\"14.00\">(0,1,2,3)</text>\n",
       "</g>\n",
       "<!-- 2 -->\n",
       "<g id=\"node3\" class=\"node\">\n",
       "<title>2</title>\n",
       "<ellipse fill=\"none\" stroke=\"black\" cx=\"47\" cy=\"-162\" rx=\"36\" ry=\"18\"/>\n",
       "<text text-anchor=\"middle\" x=\"47\" y=\"-156.95\" font-family=\"Times,serif\" font-size=\"14.00\">(0,1,2)</text>\n",
       "</g>\n",
       "<!-- 1&#45;&#45;2 -->\n",
       "<g id=\"edge1\" class=\"edge\">\n",
       "<title>1&#45;&#45;2</title>\n",
       "<path fill=\"none\" stroke=\"black\" d=\"M117.47,-217.81C102.17,-205.91 81.01,-189.45 65.87,-177.68\"/>\n",
       "</g>\n",
       "<!-- 3 -->\n",
       "<g id=\"node4\" class=\"node\">\n",
       "<title>3</title>\n",
       "<ellipse fill=\"none\" stroke=\"black\" cx=\"137\" cy=\"-162\" rx=\"36\" ry=\"18\"/>\n",
       "<text text-anchor=\"middle\" x=\"137\" y=\"-156.95\" font-family=\"Times,serif\" font-size=\"14.00\">(0,1,3)</text>\n",
       "</g>\n",
       "<!-- 1&#45;&#45;3 -->\n",
       "<g id=\"edge2\" class=\"edge\">\n",
       "<title>1&#45;&#45;3</title>\n",
       "<path fill=\"none\" stroke=\"black\" d=\"M137,-215.7C137,-204.85 137,-190.92 137,-180.1\"/>\n",
       "</g>\n",
       "<!-- 5 -->\n",
       "<g id=\"node6\" class=\"node\">\n",
       "<title>5</title>\n",
       "<ellipse fill=\"lightgrey\" stroke=\"black\" cx=\"227\" cy=\"-162\" rx=\"36\" ry=\"18\"/>\n",
       "<text text-anchor=\"middle\" x=\"227\" y=\"-156.95\" font-family=\"Times,serif\" font-size=\"14.00\">(0,2,3)</text>\n",
       "</g>\n",
       "<!-- 1&#45;&#45;5 -->\n",
       "<g id=\"edge3\" class=\"edge\">\n",
       "<title>1&#45;&#45;5</title>\n",
       "<path fill=\"none\" stroke=\"black\" d=\"M156.53,-217.81C171.83,-205.91 192.99,-189.45 208.13,-177.68\"/>\n",
       "</g>\n",
       "<!-- 4 -->\n",
       "<g id=\"node5\" class=\"node\">\n",
       "<title>4</title>\n",
       "<ellipse fill=\"none\" stroke=\"black\" cx=\"61\" cy=\"-90\" rx=\"28.83\" ry=\"18\"/>\n",
       "<text text-anchor=\"middle\" x=\"61\" y=\"-84.95\" font-family=\"Times,serif\" font-size=\"14.00\">(0,1)</text>\n",
       "</g>\n",
       "<!-- 2&#45;&#45;4 -->\n",
       "<g id=\"edge4\" class=\"edge\">\n",
       "<title>2&#45;&#45;4</title>\n",
       "<path fill=\"none\" stroke=\"black\" d=\"M50.46,-143.7C52.63,-132.85 55.42,-118.92 57.58,-108.1\"/>\n",
       "</g>\n",
       "<!-- 6 -->\n",
       "<g id=\"node7\" class=\"node\">\n",
       "<title>6</title>\n",
       "<ellipse fill=\"lightgrey\" stroke=\"black\" cx=\"137\" cy=\"-90\" rx=\"28.83\" ry=\"18\"/>\n",
       "<text text-anchor=\"middle\" x=\"137\" y=\"-84.95\" font-family=\"Times,serif\" font-size=\"14.00\">(0,2)</text>\n",
       "</g>\n",
       "<!-- 2&#45;&#45;6 -->\n",
       "<!-- 3&#45;&#45;4 -->\n",
       "<g id=\"edge6\" class=\"edge\">\n",
       "<title>3&#45;&#45;4</title>\n",
       "<path fill=\"none\" stroke=\"black\" d=\"M120.51,-145.81C107.5,-133.83 89.47,-117.23 76.68,-105.44\"/>\n",
       "</g>\n",
       "<!-- 7 -->\n",
       "<g id=\"node8\" class=\"node\">\n",
       "<title>7</title>\n",
       "<ellipse fill=\"lightgrey\" stroke=\"black\" cx=\"213\" cy=\"-90\" rx=\"28.83\" ry=\"18\"/>\n",
       "<text text-anchor=\"middle\" x=\"213\" y=\"-84.95\" font-family=\"Times,serif\" font-size=\"14.00\">(0,3)</text>\n",
       "</g>\n",
       "<!-- 3&#45;&#45;7 -->\n",
       "<g id=\"edge7\" class=\"edge\">\n",
       "<title>3&#45;&#45;7</title>\n",
       "<path fill=\"none\" stroke=\"black\" d=\"M153.49,-145.81C166.5,-133.83 184.53,-117.23 197.32,-105.44\"/>\n",
       "</g>\n",
       "<!-- 8 -->\n",
       "<g id=\"node9\" class=\"node\">\n",
       "<title>8</title>\n",
       "<ellipse fill=\"lightgrey\" stroke=\"black\" cx=\"137\" cy=\"-18\" rx=\"27\" ry=\"18\"/>\n",
       "<text text-anchor=\"middle\" x=\"137\" y=\"-12.95\" font-family=\"Times,serif\" font-size=\"14.00\">(0)</text>\n",
       "</g>\n",
       "<!-- 4&#45;&#45;8 -->\n",
       "<g id=\"edge10\" class=\"edge\">\n",
       "<title>4&#45;&#45;8</title>\n",
       "<path fill=\"none\" stroke=\"black\" d=\"M76.75,-74.5C89.88,-62.4 108.48,-45.27 121.53,-33.25\"/>\n",
       "</g>\n",
       "<!-- 5&#45;&#45;6 -->\n",
       "<g id=\"edge8\" class=\"edge\">\n",
       "<title>5&#45;&#45;6</title>\n",
       "<path fill=\"none\" stroke=\"black\" d=\"M208.35,-146.5C192.49,-134.16 169.89,-116.58 154.4,-104.54\"/>\n",
       "</g>\n",
       "<!-- 5&#45;&#45;7 -->\n",
       "<g id=\"edge9\" class=\"edge\">\n",
       "<title>5&#45;&#45;7</title>\n",
       "<path fill=\"none\" stroke=\"black\" d=\"M223.54,-143.7C221.37,-132.85 218.58,-118.92 216.42,-108.1\"/>\n",
       "</g>\n",
       "<!-- 6&#45;&#45;8 -->\n",
       "<g id=\"edge11\" class=\"edge\">\n",
       "<title>6&#45;&#45;8</title>\n",
       "<path fill=\"none\" stroke=\"black\" d=\"M137,-71.7C137,-60.85 137,-46.92 137,-36.1\"/>\n",
       "</g>\n",
       "<!-- 7&#45;&#45;8 -->\n",
       "<g id=\"edge12\" class=\"edge\">\n",
       "<title>7&#45;&#45;8</title>\n",
       "<path fill=\"none\" stroke=\"black\" d=\"M197.25,-74.5C184.12,-62.4 165.52,-45.27 152.47,-33.25\"/>\n",
       "</g>\n",
       "</g>\n",
       "</svg>\n"
      ]
     },
     "execution_count": 45,
     "metadata": {
      "image/svg+xml": {
       "height": 500,
       "width": 500
      }
     },
     "output_type": "execute_result"
    }
   ],
   "source": [
    "s:=NumericalSemigroup(4,5,6,7);;\n",
    "JupyterSplashDot(dotm(s));"
   ]
  },
  {
   "cell_type": "markdown",
   "metadata": {},
   "source": [
    "## Irreducibility"
   ]
  },
  {
   "cell_type": "code",
   "execution_count": 15,
   "metadata": {
    "vscode": {
     "languageId": "gap"
    }
   },
   "outputs": [
    {
     "data": {
      "text/plain": [
       "function( i, is ) ... end"
      ]
     },
     "execution_count": 15,
     "metadata": {
      "text/plain": ""
     },
     "output_type": "execute_result"
    }
   ],
   "source": [
    "ismeetirreducible:=function(i,is)\n",
    "    local  nis, j,k, isi;\n",
    "    isi:=Filtered(Difference(is,[i]),j->leadd(i,j,is));\n",
    "    nis:=Length(isi);\n",
    "    for j in [1..nis] do\n",
    "        for k in [j+1..nis] do\n",
    "            if meet([isi[j],isi[k]],is)=i then\n",
    "                Info(InfoNumSgps,2,MinimalGenerators(i),\" is not meet irreducible for \", MinimalGenerators(is[j]), \" and \", MinimalGenerators(is[k]));\n",
    "                return false;\n",
    "            fi;\n",
    "        od;\n",
    "    od;\n",
    "    return true;\n",
    "end;\n"
   ]
  },
  {
   "cell_type": "code",
   "execution_count": 16,
   "metadata": {
    "vscode": {
     "languageId": "gap"
    }
   },
   "outputs": [
    {
     "data": {
      "text/plain": [
       "function( i, is ) ... end"
      ]
     },
     "execution_count": 16,
     "metadata": {
      "text/plain": ""
     },
     "output_type": "execute_result"
    }
   ],
   "source": [
    "isjoinirreducible:=function(i,is)\n",
    "    local  nis, j,k, isi;\n",
    "    isi:=Filtered(Difference(is,[i]),j->leadd(j,i,is));\n",
    "    nis:=Length(isi);\n",
    "    for j in [1..nis] do\n",
    "        for k in [j+1..nis] do\n",
    "            if join([isi[j],isi[k]],is)=i then\n",
    "                Info(InfoNumSgps,2,MinimalGenerators(i),\" is not join irreducible for \", MinimalGenerators(is[j]),  \" and \", MinimalGenerators(is[k]));\n",
    "                return false;\n",
    "            fi;\n",
    "        od;\n",
    "    od;\n",
    "    return true;\n",
    "end;\n"
   ]
  },
  {
   "cell_type": "code",
   "execution_count": 17,
   "metadata": {
    "vscode": {
     "languageId": "gap"
    }
   },
   "outputs": [
    {
     "data": {
      "text/plain": [
       "function( i, is ) ... end"
      ]
     },
     "execution_count": 17,
     "metadata": {
      "text/plain": ""
     },
     "output_type": "execute_result"
    }
   ],
   "source": [
    "isintersectionirreducible:=function(i,is)\n",
    "    local  nis, j,k, isi;\n",
    "    isi:=Filtered(Difference(is,[i]),j->IsSubset(j,i));\n",
    "    nis:=Length(isi);\n",
    "    for j in [1..nis] do\n",
    "        for k in [j+1..nis] do\n",
    "            if Intersection([isi[j],isi[k]])=i then\n",
    "                Info(InfoNumSgps,2,MinimalGenerators(i),\" is not intersection irreducible for \", MinimalGenerators(is[j]), \" and \", MinimalGenerators(is[k]));\n",
    "                return false;\n",
    "            fi;\n",
    "        od;\n",
    "    od;\n",
    "    return true;\n",
    "end;\n"
   ]
  },
  {
   "cell_type": "code",
   "execution_count": 19,
   "metadata": {
    "vscode": {
     "languageId": "gap"
    }
   },
   "outputs": [
    {
     "data": {
      "text/plain": [
       "function( i, is ) ... end"
      ]
     },
     "execution_count": 19,
     "metadata": {
      "text/plain": ""
     },
     "output_type": "execute_result"
    }
   ],
   "source": [
    "isunionirreducible:=function(i,is)\n",
    "    local  nis, j,k, isi;\n",
    "    isi:=Filtered(Difference(is,[i]),j->IsSubset(i,j));\n",
    "    nis:=Length(isi);\n",
    "    for j in [1..nis] do\n",
    "        for k in [j+1..nis] do\n",
    "            if Union([isi[j],isi[k]])=i then\n",
    "                Info(InfoNumSgps,2,MinimalGenerators(i),\" is not union irreducible for \", MinimalGenerators(is[j]), \" and \", MinimalGenerators(is[k]));\n",
    "                return false;\n",
    "            fi;\n",
    "        od;\n",
    "    od;\n",
    "    return true;\n",
    "end;\n"
   ]
  },
  {
   "cell_type": "code",
   "execution_count": 20,
   "metadata": {
    "vscode": {
     "languageId": "gap"
    }
   },
   "outputs": [
    {
     "data": {
      "text/plain": [
       "function( s ) ... end"
      ]
     },
     "execution_count": 20,
     "metadata": {
      "text/plain": ""
     },
     "output_type": "execute_result"
    }
   ],
   "source": [
    "irredsI0:=function(s)\n",
    "    local is, isnz;\n",
    "    is:=I0(s);;\n",
    "    isnz:=Difference(is,[0+s]);;\n",
    "    return Filtered(isnz,i->Filtered(Cartesian(isnz,isnz), p->i<>p[1] and i<>p[2] and i=p[1]+p[2])=[]);\n",
    "end;"
   ]
  },
  {
   "cell_type": "markdown",
   "metadata": {},
   "source": [
    "Let $S=\\langle 4,7,9\\rangle$. The ideal $I=\\{0,1,2\\}+S=(\\{0,1\\}+S)+(\\{0,1\\}+S)$, and so it is not $+$-irreducible."
   ]
  },
  {
   "cell_type": "code",
   "execution_count": 24,
   "metadata": {
    "vscode": {
     "languageId": "gap"
    }
   },
   "outputs": [
    {
     "data": {
      "text/plain": [
       "true"
      ]
     },
     "execution_count": 24,
     "metadata": {
      "text/plain": ""
     },
     "output_type": "execute_result"
    }
   ],
   "source": [
    "s:=NumericalSemigroup(4,7,9);;\n",
    "i:=[0,1,2]+s;;\n",
    "j:=[0,1]+s;;\n",
    "i=j+j;"
   ]
  },
  {
   "cell_type": "markdown",
   "metadata": {},
   "source": [
    "However $I$ is $\\vee$-irreducible."
   ]
  },
  {
   "cell_type": "code",
   "execution_count": 26,
   "metadata": {
    "vscode": {
     "languageId": "gap"
    }
   },
   "outputs": [
    {
     "data": {
      "text/plain": [
       "true"
      ]
     },
     "execution_count": 26,
     "metadata": {
      "text/plain": ""
     },
     "output_type": "execute_result"
    }
   ],
   "source": [
    "is:=I0(s);;\n",
    "isjoinirreducible(i,is);"
   ]
  },
  {
   "cell_type": "markdown",
   "metadata": {},
   "source": [
    "Now, let $S=\\langle 3,7\\rangle$. Then, $I=\\{0,4,8\\}+S$ is $\\wedge$-irreducible, but it is not $\\cap$-irreducible."
   ]
  },
  {
   "cell_type": "code",
   "execution_count": 30,
   "metadata": {
    "vscode": {
     "languageId": "gap"
    }
   },
   "outputs": [
    {
     "data": {
      "text/plain": [
       "true"
      ]
     },
     "execution_count": 30,
     "metadata": {
      "text/plain": ""
     },
     "output_type": "execute_result"
    }
   ],
   "source": [
    "s:=NumericalSemigroup(3,7);;\n",
    "is:=I0(s);;\n",
    "i:=[0,4,8]+s;;\n",
    "ismeetirreducible(i,is);"
   ]
  },
  {
   "cell_type": "code",
   "execution_count": 32,
   "metadata": {
    "vscode": {
     "languageId": "gap"
    }
   },
   "outputs": [
    {
     "name": "stdout",
     "output_type": "stream",
     "text": [
      "#I  [ 0, 4, 8 ] is not intersection irreducible for [ 0, 1 ] and [ 0, 2, 4 ]\n"
     ]
    },
    {
     "data": {
      "text/plain": [
       "false"
      ]
     },
     "execution_count": 32,
     "metadata": {
      "text/plain": ""
     },
     "output_type": "execute_result"
    }
   ],
   "source": [
    "SetInfoLevel(InfoNumSgps,2);;\n",
    "isintersectionirreducible(i,is);"
   ]
  },
  {
   "cell_type": "markdown",
   "metadata": {},
   "source": [
    "Which is telling us that $I=(\\{0,1\\}+S)\\cap (\\{0,2,4\\}+S)$."
   ]
  }
 ],
 "metadata": {
  "kernelspec": {
   "display_name": "GAP 4",
   "language": "gap",
   "name": "gap-4"
  },
  "language_info": {
   "codemirror_mode": "gap",
   "file_extension": ".g",
   "mimetype": "text/x-gap",
   "name": "GAP 4",
   "nbconvert_exporter": "",
   "pygments_lexer": "gap",
   "version": "4.12.2"
  }
 },
 "nbformat": 4,
 "nbformat_minor": 2
}
