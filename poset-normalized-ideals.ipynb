{
 "cells": [
  {
   "cell_type": "markdown",
   "metadata": {},
   "source": [
    "# The poset of normalized ideals of a numerical semigroup\n",
    "\n",
    "We will make use of the package [numericalsgps](https://gap-packages.github.io/numericalsgps/)"
   ]
  },
  {
   "cell_type": "code",
   "execution_count": 1,
   "metadata": {
    "vscode": {
     "languageId": "gap"
    }
   },
   "outputs": [
    {
     "data": {
      "text/plain": [
       "true"
      ]
     },
     "execution_count": 1,
     "metadata": {
      "text/plain": ""
     },
     "output_type": "execute_result"
    }
   ],
   "source": [
    "LoadPackage(\"numericalsgps\");"
   ]
  },
  {
   "cell_type": "markdown",
   "metadata": {},
   "source": [
    "The function `isaperylistideal` detect if a list of integers `ap` is the ideal of the semigroup `s`. With the help of this function, `I0` computes the set of normalized ideals of a numerical semigroup."
   ]
  },
  {
   "cell_type": "code",
   "execution_count": 5,
   "metadata": {
    "vscode": {
     "languageId": "gap"
    }
   },
   "outputs": [
    {
     "data": {
      "text/plain": [
       "function( ap, s ) ... end"
      ]
     },
     "execution_count": 4,
     "metadata": {
      "text/plain": ""
     },
     "output_type": "execute_result"
    },
    {
     "data": {
      "text/plain": [
       "function( s ) ... end"
      ]
     },
     "execution_count": 5,
     "metadata": {
      "text/plain": ""
     },
     "output_type": "execute_result"
    }
   ],
   "source": [
    "# detects if a given list is the apery list of an ideal of s\n",
    "isaperylistideal:=function(ap,s)\n",
    "    local aps, m;\n",
    "    if not(IsListOfIntegersNS(ap)) then\n",
    "        return false;\n",
    "    fi;\n",
    "\n",
    "    if not(ForAll(ap, x->x>=0)) then    \n",
    "        return false;\n",
    "    fi;\n",
    "    m:=Multiplicity(s);\n",
    "    if Length(ap)<>m then\n",
    "        return false;\n",
    "    fi;\n",
    "\n",
    "    aps:=AperyList(s);\n",
    "    return ForAll(Cartesian([1..m],[1..m]), i-> ap[i[1]]+aps[i[2]] >= ap[1+(i[1]+i[2]-2) mod m]);\n",
    "end;\n",
    "\n",
    "# computes the set of normalized ideals of s\n",
    "I0:=function(s)\n",
    "    local k, c, v, m;\n",
    "    m:=Multiplicity(s);\n",
    "    k:=Concatenation([0],KunzCoordinates(s));\n",
    "    c:=Cartesian(List([1..m],i->[0..k[i]]));\n",
    "    c:=Filtered(c, k->isaperylistideal(List([1..m],i->k[i]*m+i-1),s));\n",
    "    v:=List(c, k->List([1..m],i->k[i]*m+i-1)+s);\n",
    "    return v;\n",
    "end;"
   ]
  },
  {
   "cell_type": "markdown",
   "metadata": {},
   "source": [
    "On the set of normalized ideals of a numerical semigroup the relation $\\preceq$ is defined as $I\\preceq J$ if $I+K=J$ for some normalized ideal $K$"
   ]
  },
  {
   "cell_type": "code",
   "execution_count": 13,
   "metadata": {
    "vscode": {
     "languageId": "gap"
    }
   },
   "outputs": [
    {
     "data": {
      "text/plain": [
       "function( i, j, ids ) ... end"
      ]
     },
     "execution_count": 13,
     "metadata": {
      "text/plain": ""
     },
     "output_type": "execute_result"
    }
   ],
   "source": [
    "# i \\preceq j if i+k=j for some k\n",
    "leadd:=function(i,j,ids)\n",
    "    local cand;\n",
    "    if not(IsSubset(j,i)) then\n",
    "        return(false);\n",
    "    fi;\n",
    "    cand:=Filtered(ids,k->IsSubset(j,k));\n",
    "    return ForAny(cand, k->j=i+k);\n",
    "end;"
   ]
  },
  {
   "cell_type": "markdown",
   "metadata": {},
   "source": [
    "In the following example we see that for $S=\\langle 4,5,6,7\\rangle$, the relations $\\subseteq$ and $\\preceq$ on the set of normalized ideals of $S$ are not the same. \n",
    "\n",
    "In particular, $\\{0,2\\}+S\\subseteq \\{0,1,2\\}+S$, while $\\{0,2\\}+S\\not\\preceq \\{0,1,2\\}+S$."
   ]
  },
  {
   "cell_type": "code",
   "execution_count": 29,
   "metadata": {
    "vscode": {
     "languageId": "gap"
    }
   },
   "outputs": [
    {
     "data": {
      "text/plain": [
       "[ [ [ 0, 2 ], [ 0, 1, 2 ] ] ]"
      ]
     },
     "execution_count": 29,
     "metadata": {
      "text/plain": ""
     },
     "output_type": "execute_result"
    }
   ],
   "source": [
    "s:=NumericalSemigroup(4,5,6,7);;\n",
    "is:=I0(s);; #compute the set of normalized ideals of s\n",
    "f:=Filtered(Cartesian(is,is), p->IsSubset(p[2],p[1]) and not(leadd(p[1],p[2],is)));;\n",
    "List(f,p->List(p,MinimalGenerators));"
   ]
  },
  {
   "cell_type": "markdown",
   "metadata": {},
   "source": [
    "For $S=\\langle 3,5\\rangle$, both relations are the same."
   ]
  },
  {
   "cell_type": "code",
   "execution_count": 35,
   "metadata": {
    "vscode": {
     "languageId": "gap"
    }
   },
   "outputs": [
    {
     "data": {
      "text/plain": [
       "true"
      ]
     },
     "execution_count": 35,
     "metadata": {
      "text/plain": ""
     },
     "output_type": "execute_result"
    }
   ],
   "source": [
    "s:=NumericalSemigroup(3,5);;\n",
    "is:=I0(s);; #compute the set of normalized ideals of s\n",
    "ForAll(Cartesian(is,is),p->IsSubset(p[2],p[1])=leadd(p[1],p[2],is));"
   ]
  },
  {
   "cell_type": "markdown",
   "metadata": {},
   "source": [
    "The following auxiliary function computes the set of Kunz coordinates of a normalized ideal"
   ]
  },
  {
   "cell_type": "code",
   "execution_count": 38,
   "metadata": {
    "vscode": {
     "languageId": "gap"
    }
   },
   "outputs": [
    {
     "data": {
      "text/plain": [
       "function( i ) ... end"
      ]
     },
     "execution_count": 38,
     "metadata": {
      "text/plain": ""
     },
     "output_type": "execute_result"
    }
   ],
   "source": [
    "# Kunz coordinates of an ideal wrt multiplicity of the ambient semigroup\n",
    "kunzcoordinates:=function(i)\n",
    "    local s,m,ap;\n",
    "    s:=AmbientNumericalSemigroupOfIdeal(i);\n",
    "    m:=Multiplicity(s);\n",
    "    ap:=AperyList(i);\n",
    "    return List([2..m],i->(ap[i]-i+1)/m);\n",
    "end;"
   ]
  },
  {
   "cell_type": "markdown",
   "metadata": {},
   "source": [
    "We can then compute the set of minimal and maximal elements of a set of ideals with respect to this ordering."
   ]
  },
  {
   "cell_type": "code",
   "execution_count": 40,
   "metadata": {
    "vscode": {
     "languageId": "gap"
    }
   },
   "outputs": [
    {
     "data": {
      "text/plain": [
       "function( l, is ) ... end"
      ]
     },
     "execution_count": 39,
     "metadata": {
      "text/plain": ""
     },
     "output_type": "execute_result"
    },
    {
     "data": {
      "text/plain": [
       "function( l, is ) ... end"
      ]
     },
     "execution_count": 40,
     "metadata": {
      "text/plain": ""
     },
     "output_type": "execute_result"
    }
   ],
   "source": [
    "# computes minimal elements of a set of ideals\n",
    "minimals:=function(l,is)\n",
    "    return Filtered(l,i->Filtered(l,j->leadd(j,i,is))=[i]);\n",
    "end;\n",
    "\n",
    "#computes maximal elements of a set of ideals\n",
    "maximals:=function(l,is)\n",
    "    return Filtered(l,i->Filtered(l,j->leadd(i,j,is))=[i]);\n",
    "end;"
   ]
  },
  {
   "cell_type": "markdown",
   "metadata": {},
   "source": [
    "Also, we can calculate the set of uppper and lower bounds of a set with respect to $\\preceq$."
   ]
  },
  {
   "cell_type": "code",
   "execution_count": 42,
   "metadata": {
    "vscode": {
     "languageId": "gap"
    }
   },
   "outputs": [
    {
     "data": {
      "text/plain": [
       "function( li, is ) ... end"
      ]
     },
     "execution_count": 41,
     "metadata": {
      "text/plain": ""
     },
     "output_type": "execute_result"
    },
    {
     "data": {
      "text/plain": [
       "function( li, is ) ... end"
      ]
     },
     "execution_count": 42,
     "metadata": {
      "text/plain": ""
     },
     "output_type": "execute_result"
    }
   ],
   "source": [
    "# upper bounds for a set of ideals li\n",
    "upperbounds:=function(li,is)\n",
    "    return Filtered(is,k->ForAll(li,i->leadd(i,k,is)));\n",
    "end;\n",
    "\n",
    "# join for a set of ideals li\n",
    "join:=function(li,is)\n",
    "    local maxs,ub;\n",
    "    ub:=upperbounds(li,is);\n",
    "    maxs:=minimals(ub,is);\n",
    "    if Length(maxs)<>1 then \n",
    "        return fail;\n",
    "    fi;\n",
    "    return maxs[1];\n",
    "end;\n"
   ]
  },
  {
   "cell_type": "code",
   "execution_count": 44,
   "metadata": {
    "vscode": {
     "languageId": "gap"
    }
   },
   "outputs": [
    {
     "data": {
      "text/plain": [
       "function( li, is ) ... end"
      ]
     },
     "execution_count": 43,
     "metadata": {
      "text/plain": ""
     },
     "output_type": "execute_result"
    },
    {
     "data": {
      "text/plain": [
       "function( li, is ) ... end"
      ]
     },
     "execution_count": 44,
     "metadata": {
      "text/plain": ""
     },
     "output_type": "execute_result"
    }
   ],
   "source": [
    "# lower bounds for a set of ideals li\n",
    "lowerbounds:=function(li,is)\n",
    "    return Filtered(is,k->ForAll(li,i->leadd(k,i,is)));\n",
    "end;\n",
    "\n",
    "# meet for a set of ideals li\n",
    "meet:=function(li,is)\n",
    "    local mins,lb;\n",
    "    lb:=lowerbounds(li,is);\n",
    "    mins:=maximals(lb,is);\n",
    "    if Length(mins)<>1 then \n",
    "        return fail;\n",
    "    fi;\n",
    "    return mins[1];\n",
    "end;\n"
   ]
  },
  {
   "cell_type": "markdown",
   "metadata": {},
   "source": [
    "With all this, we can check if the set of normalized ideals of a numerical semigroup is a join semilattice (every two ideals have a supremum)."
   ]
  },
  {
   "cell_type": "code",
   "execution_count": 45,
   "metadata": {
    "vscode": {
     "languageId": "gap"
    }
   },
   "outputs": [
    {
     "data": {
      "text/plain": [
       "function( is ) ... end"
      ]
     },
     "execution_count": 45,
     "metadata": {
      "text/plain": ""
     },
     "output_type": "execute_result"
    }
   ],
   "source": [
    "# the same but with I0(s) as argument\n",
    "isjoinsemilattice:=function(is)\n",
    "    local cis,ub, minimals,t;\n",
    "\n",
    "    minimals:=function(l)\n",
    "        return Filtered(l,i->Filtered(l,j->leadd(j,i,is))=[i]);\n",
    "    end;\n",
    "\n",
    "    #is:=I0(s);\n",
    "    cis:=IteratorOfCartesianProduct(is,is);\n",
    "    for t in cis do\n",
    "        ub:=Filtered(is,i->leadd(t[1],i,is) and leadd(t[2],i,is));\n",
    "        if Length(minimals(ub))>1 then \n",
    "            Info(InfoNumSgps,2,\"There is no supremum for \", MinimalGenerators(t[1]), \" and \", MinimalGenerators(t[2]));\n",
    "            return false;\n",
    "        fi;\n",
    "    od;\n",
    "    return true;\n",
    "end;\n"
   ]
  },
  {
   "cell_type": "markdown",
   "metadata": {},
   "source": [
    "Or a meet semilattice (every two ideals have an infimum)."
   ]
  },
  {
   "cell_type": "code",
   "execution_count": 46,
   "metadata": {
    "vscode": {
     "languageId": "gap"
    }
   },
   "outputs": [
    {
     "data": {
      "text/plain": [
       "function( s ) ... end"
      ]
     },
     "execution_count": 46,
     "metadata": {
      "text/plain": ""
     },
     "output_type": "execute_result"
    }
   ],
   "source": [
    "# checks if every two ideals has an infimum\n",
    "ismeetsemilatticei0:=function(s)\n",
    "    local is,cis,ub, maximals,t;\n",
    "\n",
    "    maximals:=function(l)\n",
    "        return Filtered(l,i->Filtered(l,j->leadd(i,j,is))=[i]);\n",
    "    end;\n",
    "\n",
    "    is:=I0(s);\n",
    "    cis:=IteratorOfCartesianProduct(is,is);\n",
    "    for t in cis do\n",
    "        ub:=Filtered(is,i->leadd(i,t[1],is) and leadd(i,t[2],is));\n",
    "        if Length(maximals(ub))>1 then \n",
    "            Info(InfoNumSgps,2,\"There is no infimum for \", MinimalGenerators(t[1]), \" and \", MinimalGenerators(t[2]));\n",
    "            return false;\n",
    "        fi;\n",
    "    od;\n",
    "    return true;\n",
    "end;"
   ]
  },
  {
   "cell_type": "markdown",
   "metadata": {},
   "source": [
    "We are going to check that for $S=\\langle 3,7,8\\rangle$, the poset $(\\mathcal{I}_0(S),\\preceq)$ is a lattice. As it has a maximum and a minimum, it suffices to show that it is a join semilattice."
   ]
  },
  {
   "cell_type": "code",
   "execution_count": 52,
   "metadata": {
    "vscode": {
     "languageId": "gap"
    }
   },
   "outputs": [
    {
     "data": {
      "text/plain": [
       "true"
      ]
     },
     "execution_count": 52,
     "metadata": {
      "text/plain": ""
     },
     "output_type": "execute_result"
    }
   ],
   "source": [
    "s:=NumericalSemigroup(3,7,8);;\n",
    "is:=I0(s);;\n",
    "isjoinsemilattice(is);"
   ]
  },
  {
   "cell_type": "markdown",
   "metadata": {
    "vscode": {
     "languageId": "gap"
    }
   },
   "source": [
    "In this example, $\\subseteq$ and $\\preceq$ are not the same."
   ]
  },
  {
   "cell_type": "code",
   "execution_count": 54,
   "metadata": {
    "vscode": {
     "languageId": "gap"
    }
   },
   "outputs": [
    {
     "data": {
      "text/plain": [
       "[ [ [ 0, 4 ], [ 0, 1 ] ] ]"
      ]
     },
     "execution_count": 54,
     "metadata": {
      "text/plain": ""
     },
     "output_type": "execute_result"
    }
   ],
   "source": [
    "f:=Filtered(Cartesian(is,is), p->IsSubset(p[2],p[1]) and not(leadd(p[1],p[2],is)));;\n",
    "List(f,p->List(p,MinimalGenerators));"
   ]
  },
  {
   "cell_type": "markdown",
   "metadata": {},
   "source": [
    "The following example shows that for multiplicity four, there are ideals that are not idempotent and are covered by more than one ideal."
   ]
  },
  {
   "cell_type": "code",
   "execution_count": 58,
   "metadata": {
    "vscode": {
     "languageId": "gap"
    }
   },
   "outputs": [
    {
     "data": {
      "text/plain": [
       "false"
      ]
     },
     "execution_count": 58,
     "metadata": {
      "text/plain": ""
     },
     "output_type": "execute_result"
    }
   ],
   "source": [
    "s:=NumericalSemigroup(4,7,9,10);;\n",
    "is:=I0(s);;\n",
    "i:=[0,4*2+1,4*2+2,3]+s;;\n",
    "i+i=i;"
   ]
  },
  {
   "cell_type": "code",
   "execution_count": 62,
   "metadata": {
    "vscode": {
     "languageId": "gap"
    }
   },
   "outputs": [
    {
     "data": {
      "text/plain": [
       "[ [ 0, 2, 0 ], [ 1, 2, 0 ], [ 2, 1, 0 ] ]"
      ]
     },
     "execution_count": 62,
     "metadata": {
      "text/plain": ""
     },
     "output_type": "execute_result"
    }
   ],
   "source": [
    "c:=minimals(Difference(upperbounds([i],is),[i]),is);;\n",
    "List(c,kunzcoordinates);"
   ]
  },
  {
   "cell_type": "code",
   "execution_count": 63,
   "metadata": {
    "vscode": {
     "languageId": "gap"
    }
   },
   "outputs": [
    {
     "data": {
      "text/plain": [
       "function( s ) ... end"
      ]
     },
     "execution_count": 63,
     "metadata": {
      "text/plain": ""
     },
     "output_type": "execute_result"
    }
   ],
   "source": [
    "quarksI0:=function(s)\n",
    "    local is, isnz;\n",
    "    is:=I0(s);;\n",
    "    isnz:=Difference(is,[0+s]);;\n",
    "    return Filtered(isnz,i->Filtered(isnz,j->i<>j and IsSubset(i,j) and leadd(j,i,isnz))=[]);\n",
    "end;\n"
   ]
  },
  {
   "cell_type": "markdown",
   "metadata": {},
   "source": [
    "Next, we see an example of a numerical semigroup that is not irreducible and all of whose quarks have the same depth."
   ]
  },
  {
   "cell_type": "code",
   "execution_count": 66,
   "metadata": {
    "vscode": {
     "languageId": "gap"
    }
   },
   "outputs": [
    {
     "data": {
      "text/plain": [
       "[ [ 1, 3, 4 ], [ 2, 2, 4 ], [ 2, 3, 3 ] ]"
      ]
     },
     "execution_count": 66,
     "metadata": {
      "text/plain": ""
     },
     "output_type": "execute_result"
    }
   ],
   "source": [
    "s:=NumericalSemigroup(4, 9, 14, 19);;\n",
    "qis:=quarksI0(s);;\n",
    "List(qis,kunzcoordinates);"
   ]
  },
  {
   "cell_type": "code",
   "execution_count": 68,
   "metadata": {
    "vscode": {
     "languageId": "gap"
    }
   },
   "outputs": [
    {
     "data": {
      "text/plain": [
       "[ 8 ]"
      ]
     },
     "execution_count": 68,
     "metadata": {
      "text/plain": ""
     },
     "output_type": "execute_result"
    }
   ],
   "source": [
    "Set(List(qis,kunzcoordinates),Sum);"
   ]
  },
  {
   "cell_type": "code",
   "execution_count": 67,
   "metadata": {
    "vscode": {
     "languageId": "gap"
    }
   },
   "outputs": [
    {
     "data": {
      "text/plain": [
       "[ [ 2, 2, 4 ], [ 2, 3, 3 ] ]"
      ]
     },
     "execution_count": 67,
     "metadata": {
      "text/plain": ""
     },
     "output_type": "execute_result"
    }
   ],
   "source": [
    "List(Filtered(qis,i->i+i=i),kunzcoordinates);"
   ]
  }
 ],
 "metadata": {
  "kernelspec": {
   "display_name": "GAP 4",
   "language": "gap",
   "name": "gap-4"
  },
  "language_info": {
   "codemirror_mode": "gap",
   "file_extension": ".g",
   "mimetype": "text/x-gap",
   "name": "GAP 4",
   "nbconvert_exporter": "",
   "pygments_lexer": "gap",
   "version": "4.12.2"
  }
 },
 "nbformat": 4,
 "nbformat_minor": 2
}
