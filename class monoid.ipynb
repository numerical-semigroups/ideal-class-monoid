{
 "cells": [
  {
   "cell_type": "markdown",
   "id": "50334419",
   "metadata": {},
   "source": [
    "# Class monoid of ideals of a numerical semigroup"
   ]
  },
  {
   "cell_type": "markdown",
   "id": "1a334fd9",
   "metadata": {},
   "source": [
    "In this notebook, we show how to make some computations in the class monoid of ideals of a numerical semigroup. The theory behind the implementations can be found in the paper *Apéry sets and the class monoid of ideals of a numerical semigroup* by L. Casabella, M. D'Anna and P. A. García-Sánchez.\n",
    "\n",
    "We start by loading [`numericalsgps`](https://www.gap-system.org/Packages/numericalsgps.html), a [`GAP`](https://www.gap-system.org) package that allows to make computations with numerical and affine semigroups."
   ]
  },
  {
   "cell_type": "code",
   "execution_count": 1,
   "id": "f8d88947",
   "metadata": {
    "vscode": {
     "languageId": "gap 4"
    }
   },
   "outputs": [
    {
     "data": {
      "text/plain": [
       "true"
      ]
     },
     "execution_count": 1,
     "metadata": {
      "text/plain": ""
     },
     "output_type": "execute_result"
    }
   ],
   "source": [
    "LoadPackage(\"num\");"
   ]
  },
  {
   "cell_type": "markdown",
   "id": "a4a50299",
   "metadata": {},
   "source": [
    "## Apéry lists"
   ]
  },
  {
   "cell_type": "markdown",
   "id": "94033c62",
   "metadata": {},
   "source": [
    "Apéry lists of ideals (with respect to the multiplicity of their ambient semigroups) and minimal generators can be computed as in the following example."
   ]
  },
  {
   "cell_type": "code",
   "execution_count": 4,
   "id": "f1ea5c52",
   "metadata": {
    "vscode": {
     "languageId": "gap 4"
    }
   },
   "outputs": [
    {
     "data": {
      "text/plain": [
       "[ 0, 11, 2, 18, 9 ]"
      ]
     },
     "execution_count": 4,
     "metadata": {
      "text/plain": ""
     },
     "output_type": "execute_result"
    }
   ],
   "source": [
    "s:=NumericalSemigroup(5,7,9);;\n",
    "i:=[0,2]+s;; \n",
    "AperyList(i);"
   ]
  },
  {
   "cell_type": "code",
   "execution_count": 5,
   "id": "39408c32",
   "metadata": {
    "vscode": {
     "languageId": "gap 4"
    }
   },
   "outputs": [
    {
     "data": {
      "text/plain": [
       "[ 0, 2 ]"
      ]
     },
     "execution_count": 5,
     "metadata": {
      "text/plain": ""
     },
     "output_type": "execute_result"
    }
   ],
   "source": [
    "MinimalGenerators(i);"
   ]
  },
  {
   "cell_type": "code",
   "execution_count": 7,
   "id": "0ae02166",
   "metadata": {
    "vscode": {
     "languageId": "gap 4"
    }
   },
   "outputs": [
    {
     "data": {
      "text/plain": [
       "[ 0, 11, 7, 3, 4 ]"
      ]
     },
     "execution_count": 7,
     "metadata": {
      "text/plain": ""
     },
     "output_type": "execute_result"
    }
   ],
   "source": [
    "j:=[0,3,4]+s;;\n",
    "AperyList(j);"
   ]
  },
  {
   "cell_type": "code",
   "execution_count": 8,
   "id": "61141426",
   "metadata": {
    "vscode": {
     "languageId": "gap 4"
    }
   },
   "outputs": [
    {
     "data": {
      "text/plain": [
       "[ 0, 11, 2, 3, 4 ]"
      ]
     },
     "execution_count": 8,
     "metadata": {
      "text/plain": ""
     },
     "output_type": "execute_result"
    }
   ],
   "source": [
    "AperyList(Union(i,j));"
   ]
  },
  {
   "cell_type": "code",
   "execution_count": 9,
   "id": "24a48b3e",
   "metadata": {
    "vscode": {
     "languageId": "gap 4"
    }
   },
   "outputs": [
    {
     "data": {
      "text/plain": [
       "[ 0, 11, 7, 18, 9 ]"
      ]
     },
     "execution_count": 9,
     "metadata": {
      "text/plain": ""
     },
     "output_type": "execute_result"
    }
   ],
   "source": [
    "AperyList(Intersection(i,j));"
   ]
  },
  {
   "cell_type": "markdown",
   "id": "6080a059",
   "metadata": {},
   "source": [
    "Given a numerical semigroup $S$ with multiplicity $m$ and an $(m-1)$-tuple, the following function detects if the tuple corresponds to the Apéry set of an ideal of $S$."
   ]
  },
  {
   "cell_type": "code",
   "execution_count": 10,
   "id": "2e8b04c7",
   "metadata": {
    "vscode": {
     "languageId": "gap 4"
    }
   },
   "outputs": [
    {
     "data": {
      "text/plain": [
       "function( ap, s ) ... end"
      ]
     },
     "execution_count": 10,
     "metadata": {
      "text/plain": ""
     },
     "output_type": "execute_result"
    }
   ],
   "source": [
    "isaperylistideal:=function(ap,s)\n",
    "    local aps, m;\n",
    "    if not(IsListOfIntegersNS(ap)) then\n",
    "        return false;\n",
    "    fi;\n",
    "\n",
    "    if not(ForAll(ap, x->x>=0)) then    \n",
    "        return false;\n",
    "    fi;\n",
    "    m:=Multiplicity(s);\n",
    "    if Length(ap)<>m then\n",
    "        return false;\n",
    "    fi;\n",
    "\n",
    "    aps:=AperyList(s);\n",
    "    return ForAll(Cartesian([1..m],[1..m]), i-> ap[i[1]]+aps[i[2]] >= ap[1+(i[1]+i[2]-2) mod m]);\n",
    "end;"
   ]
  },
  {
   "cell_type": "markdown",
   "id": "4920649f",
   "metadata": {},
   "source": [
    "## The ideal class monoid"
   ]
  },
  {
   "cell_type": "markdown",
   "id": "4a7e5e06",
   "metadata": {},
   "source": [
    "With this, and making use of the Kunz coordinates of the numerical semigroup $S$, we can compute the set of ideals of $S$ whose minimum is zero, which is isomorphic to the class monoid of ideals of $S$. \n",
    "\n",
    "$$\n",
    "\\mathcal{I}_0(S) = \\{I : I \\text{ ideal of } S, \\min(I)=0\\}.\n",
    "$$"
   ]
  },
  {
   "cell_type": "code",
   "execution_count": 11,
   "id": "a3508496",
   "metadata": {
    "vscode": {
     "languageId": "gap 4"
    }
   },
   "outputs": [
    {
     "data": {
      "text/plain": [
       "function( s ) ... end"
      ]
     },
     "execution_count": 11,
     "metadata": {
      "text/plain": ""
     },
     "output_type": "execute_result"
    }
   ],
   "source": [
    "I0:=function(s)\n",
    "    local k, c, v, m;\n",
    "    m:=Multiplicity(s);\n",
    "    k:=Concatenation([0],KunzCoordinates(s));\n",
    "    c:=Cartesian(List([1..m],i->[0..k[i]]));\n",
    "    c:=Filtered(c, k->isaperylistideal(List([1..m],i->k[i]*m+i-1),s));\n",
    "    v:=List(c, k->List([1..m],i->k[i]*m+i-1)+s);\n",
    "    return v;\n",
    "end;"
   ]
  },
  {
   "cell_type": "markdown",
   "id": "6a96c3f3",
   "metadata": {},
   "source": [
    "We know that for a numerical semigroup $S$ with multiplicity $m$ and genus $g$, $2^{m-1}+g-m+1\\le |\\mathcal{I}_0(S)|$. There are three numerical semigroups attaining this bound with genus 10. "
   ]
  },
  {
   "cell_type": "code",
   "execution_count": 13,
   "id": "dfcb4b55",
   "metadata": {
    "vscode": {
     "languageId": "gap 4"
    }
   },
   "outputs": [
    {
     "data": {
      "text/plain": [
       "[ [ 11, 12, 13, 14, 15, 16, 17, 18, 19, 20, 21 ], [ 10, 11, 12, 13, 14, 15, 16, 17, 18 ], [ 2, 21 ] ]"
      ]
     },
     "execution_count": 13,
     "metadata": {
      "text/plain": ""
     },
     "output_type": "execute_result"
    }
   ],
   "source": [
    "l:=NumericalSemigroupsWithGenus(10);;\n",
    "List(Filtered(l,s->Length(I0(s))=2^(Multiplicity(s)-1)+10-Multiplicity\n",
    "(s)+1), MinimalGenerators);"
   ]
  },
  {
   "cell_type": "markdown",
   "id": "924802f0",
   "metadata": {},
   "source": [
    "We can see obtain the Hasse diagram of $\\mathcal{I}_0(S)$ with respect to inclusion in [`dot`](https://graphviz.org/doc/info/lang.html) with the following."
   ]
  },
  {
   "cell_type": "code",
   "execution_count": 14,
   "id": "04ea5fa6",
   "metadata": {
    "vscode": {
     "languageId": "gap 4"
    }
   },
   "outputs": [
    {
     "data": {
      "text/plain": [
       "function( s ) ... end"
      ]
     },
     "execution_count": 14,
     "metadata": {
      "text/plain": ""
     },
     "output_type": "execute_result"
    }
   ],
   "source": [
    "hasseI0:=function(s) \n",
    "    local  v,e, is;\n",
    "\n",
    "    is:=I0(s);\n",
    "    v:=List(is,MinimalGenerators);\n",
    "    e:=Filtered(Cartesian(v,v), p->IsSubset(p[2]+s,p[1]+s));\n",
    "    return DotBinaryRelation(HasseDiagramBinaryRelation(BinaryRelationByElements(Domain(v),List(e,Tuple))));\n",
    "end;\n"
   ]
  },
  {
   "cell_type": "markdown",
   "id": "ac10a5f3",
   "metadata": {},
   "source": [
    "Let us see an example."
   ]
  },
  {
   "cell_type": "code",
   "execution_count": 17,
   "id": "c54eb845",
   "metadata": {
    "vscode": {
     "languageId": "gap 4"
    }
   },
   "outputs": [
    {
     "data": {
      "image/svg+xml": [
       "<?xml version=\"1.0\" encoding=\"UTF-8\" standalone=\"no\"?>\n",
       "<!DOCTYPE svg PUBLIC \"-//W3C//DTD SVG 1.1//EN\"\n",
       " \"http://www.w3.org/Graphics/SVG/1.1/DTD/svg11.dtd\">\n",
       "<!-- Generated by graphviz version 2.40.1 (20161225.0304)\n",
       " -->\n",
       "<!-- Title: NSGraph Pages: 1 -->\n",
       "<svg width=\"646pt\" height=\"404pt\"\n",
       " viewBox=\"0.00 0.00 646.14 404.00\" xmlns=\"http://www.w3.org/2000/svg\" xmlns:xlink=\"http://www.w3.org/1999/xlink\">\n",
       "<g id=\"graph0\" class=\"graph\" transform=\"scale(1 1) rotate(0) translate(4 400)\">\n",
       "<title>NSGraph</title>\n",
       "<polygon fill=\"#ffffff\" stroke=\"transparent\" points=\"-4,4 -4,-400 642.1413,-400 642.1413,4 -4,4\"/>\n",
       "<!-- 1 -->\n",
       "<g id=\"node1\" class=\"node\">\n",
       "<title>1</title>\n",
       "<ellipse fill=\"none\" stroke=\"#000000\" cx=\"299.1961\" cy=\"-378\" rx=\"63.0888\" ry=\"18\"/>\n",
       "<text text-anchor=\"middle\" x=\"299.1961\" y=\"-374.3\" font-family=\"Times,serif\" font-size=\"14.00\" fill=\"#000000\">[ 0, 1, 2, 3, 4 ]</text>\n",
       "</g>\n",
       "<!-- 2 -->\n",
       "<g id=\"node2\" class=\"node\">\n",
       "<title>2</title>\n",
       "<ellipse fill=\"none\" stroke=\"#000000\" cx=\"110.1961\" cy=\"-306\" rx=\"53.8905\" ry=\"18\"/>\n",
       "<text text-anchor=\"middle\" x=\"110.1961\" y=\"-302.3\" font-family=\"Times,serif\" font-size=\"14.00\" fill=\"#000000\">[ 0, 1, 2, 3 ]</text>\n",
       "</g>\n",
       "<!-- 1&#45;&gt;2 -->\n",
       "<g id=\"edge1\" class=\"edge\">\n",
       "<title>1&#45;&gt;2</title>\n",
       "<path fill=\"none\" stroke=\"#000000\" d=\"M251.5383,-359.8447C218.6867,-347.3298 175.7258,-330.9637 145.8288,-319.5744\"/>\n",
       "<polygon fill=\"#000000\" stroke=\"#000000\" points=\"250.3582,-363.1404 260.9491,-363.4297 252.8502,-356.599 250.3582,-363.1404\"/>\n",
       "</g>\n",
       "<!-- 3 -->\n",
       "<g id=\"node3\" class=\"node\">\n",
       "<title>3</title>\n",
       "<ellipse fill=\"none\" stroke=\"#000000\" cx=\"236.1961\" cy=\"-306\" rx=\"53.8905\" ry=\"18\"/>\n",
       "<text text-anchor=\"middle\" x=\"236.1961\" y=\"-302.3\" font-family=\"Times,serif\" font-size=\"14.00\" fill=\"#000000\">[ 0, 1, 2, 4 ]</text>\n",
       "</g>\n",
       "<!-- 1&#45;&gt;3 -->\n",
       "<g id=\"edge2\" class=\"edge\">\n",
       "<title>1&#45;&gt;3</title>\n",
       "<path fill=\"none\" stroke=\"#000000\" d=\"M276.8226,-352.4303C268.3883,-342.7911 258.9986,-332.06 251.3726,-323.3446\"/>\n",
       "<polygon fill=\"#000000\" stroke=\"#000000\" points=\"274.4039,-354.9812 283.623,-360.2022 279.672,-350.3717 274.4039,-354.9812\"/>\n",
       "</g>\n",
       "<!-- 5 -->\n",
       "<g id=\"node5\" class=\"node\">\n",
       "<title>5</title>\n",
       "<ellipse fill=\"none\" stroke=\"#000000\" cx=\"488.1961\" cy=\"-306\" rx=\"53.8905\" ry=\"18\"/>\n",
       "<text text-anchor=\"middle\" x=\"488.1961\" y=\"-302.3\" font-family=\"Times,serif\" font-size=\"14.00\" fill=\"#000000\">[ 0, 1, 3, 4 ]</text>\n",
       "</g>\n",
       "<!-- 1&#45;&gt;5 -->\n",
       "<g id=\"edge5\" class=\"edge\">\n",
       "<title>1&#45;&gt;5</title>\n",
       "<path fill=\"none\" stroke=\"#000000\" d=\"M346.8538,-359.8447C379.7055,-347.3298 422.6664,-330.9637 452.5634,-319.5744\"/>\n",
       "<polygon fill=\"#000000\" stroke=\"#000000\" points=\"345.5419,-356.599 337.443,-363.4297 348.0339,-363.1404 345.5419,-356.599\"/>\n",
       "</g>\n",
       "<!-- 9 -->\n",
       "<g id=\"node9\" class=\"node\">\n",
       "<title>9</title>\n",
       "<ellipse fill=\"none\" stroke=\"#000000\" cx=\"362.1961\" cy=\"-306\" rx=\"53.8905\" ry=\"18\"/>\n",
       "<text text-anchor=\"middle\" x=\"362.1961\" y=\"-302.3\" font-family=\"Times,serif\" font-size=\"14.00\" fill=\"#000000\">[ 0, 2, 3, 4 ]</text>\n",
       "</g>\n",
       "<!-- 1&#45;&gt;9 -->\n",
       "<g id=\"edge13\" class=\"edge\">\n",
       "<title>1&#45;&gt;9</title>\n",
       "<path fill=\"none\" stroke=\"#000000\" d=\"M321.5695,-352.4303C330.0038,-342.7911 339.3936,-332.06 347.0196,-323.3446\"/>\n",
       "<polygon fill=\"#000000\" stroke=\"#000000\" points=\"318.7202,-350.3717 314.7691,-360.2022 323.9882,-354.9812 318.7202,-350.3717\"/>\n",
       "</g>\n",
       "<!-- 4 -->\n",
       "<g id=\"node4\" class=\"node\">\n",
       "<title>4</title>\n",
       "<ellipse fill=\"none\" stroke=\"#000000\" cx=\"44.1961\" cy=\"-234\" rx=\"44.393\" ry=\"18\"/>\n",
       "<text text-anchor=\"middle\" x=\"44.1961\" y=\"-230.3\" font-family=\"Times,serif\" font-size=\"14.00\" fill=\"#000000\">[ 0, 1, 2 ]</text>\n",
       "</g>\n",
       "<!-- 2&#45;&gt;4 -->\n",
       "<g id=\"edge3\" class=\"edge\">\n",
       "<title>2&#45;&gt;4</title>\n",
       "<path fill=\"none\" stroke=\"#000000\" d=\"M87.2983,-281.0206C78.299,-271.2032 68.1905,-260.1757 60.0257,-251.2687\"/>\n",
       "<polygon fill=\"#000000\" stroke=\"#000000\" points=\"84.882,-283.5643 94.2193,-288.5708 90.0421,-278.8342 84.882,-283.5643\"/>\n",
       "</g>\n",
       "<!-- 6 -->\n",
       "<g id=\"node6\" class=\"node\">\n",
       "<title>6</title>\n",
       "<ellipse fill=\"none\" stroke=\"#000000\" cx=\"362.1961\" cy=\"-234\" rx=\"44.393\" ry=\"18\"/>\n",
       "<text text-anchor=\"middle\" x=\"362.1961\" y=\"-230.3\" font-family=\"Times,serif\" font-size=\"14.00\" fill=\"#000000\">[ 0, 1, 3 ]</text>\n",
       "</g>\n",
       "<!-- 2&#45;&gt;6 -->\n",
       "<g id=\"edge6\" class=\"edge\">\n",
       "<title>2&#45;&gt;6</title>\n",
       "<path fill=\"none\" stroke=\"#000000\" d=\"M160.8688,-291.429C165.0364,-290.2589 169.1861,-289.1035 173.1961,-288 233.4814,-271.4106 249.3361,-270.0643 309.1961,-252 315.5222,-250.0909 322.2271,-247.926 328.6632,-245.7759\"/>\n",
       "<polygon fill=\"#000000\" stroke=\"#000000\" points=\"159.8415,-288.0821 151.1691,-294.168 161.7439,-294.8187 159.8415,-288.0821\"/>\n",
       "</g>\n",
       "<!-- 10 -->\n",
       "<g id=\"node10\" class=\"node\">\n",
       "<title>10</title>\n",
       "<ellipse fill=\"none\" stroke=\"#000000\" cx=\"150.1961\" cy=\"-234\" rx=\"44.393\" ry=\"18\"/>\n",
       "<text text-anchor=\"middle\" x=\"150.1961\" y=\"-230.3\" font-family=\"Times,serif\" font-size=\"14.00\" fill=\"#000000\">[ 0, 2, 3 ]</text>\n",
       "</g>\n",
       "<!-- 2&#45;&gt;10 -->\n",
       "<g id=\"edge14\" class=\"edge\">\n",
       "<title>2&#45;&gt;10</title>\n",
       "<path fill=\"none\" stroke=\"#000000\" d=\"M125.0085,-279.3377C130.1525,-270.0785 135.7883,-259.934 140.4222,-251.593\"/>\n",
       "<polygon fill=\"#000000\" stroke=\"#000000\" points=\"121.8806,-277.7609 120.0837,-288.2022 127.9998,-281.1604 121.8806,-277.7609\"/>\n",
       "</g>\n",
       "<!-- 3&#45;&gt;4 -->\n",
       "<g id=\"edge4\" class=\"edge\">\n",
       "<title>3&#45;&gt;4</title>\n",
       "<path fill=\"none\" stroke=\"#000000\" d=\"M190.5752,-288.8922C155.6142,-275.7818 108.215,-258.0071 76.9465,-246.2814\"/>\n",
       "<polygon fill=\"#000000\" stroke=\"#000000\" points=\"189.4901,-292.2232 200.0823,-292.4574 191.948,-285.6689 189.4901,-292.2232\"/>\n",
       "</g>\n",
       "<!-- 7 -->\n",
       "<g id=\"node7\" class=\"node\">\n",
       "<title>7</title>\n",
       "<ellipse fill=\"none\" stroke=\"#000000\" cx=\"468.1961\" cy=\"-234\" rx=\"44.393\" ry=\"18\"/>\n",
       "<text text-anchor=\"middle\" x=\"468.1961\" y=\"-230.3\" font-family=\"Times,serif\" font-size=\"14.00\" fill=\"#000000\">[ 0, 1, 4 ]</text>\n",
       "</g>\n",
       "<!-- 3&#45;&gt;7 -->\n",
       "<g id=\"edge8\" class=\"edge\">\n",
       "<title>3&#45;&gt;7</title>\n",
       "<path fill=\"none\" stroke=\"#000000\" d=\"M286.9584,-291.1922C322.8723,-280.5925 372.1085,-265.8115 415.1961,-252 421.3961,-250.0126 427.9811,-247.8326 434.325,-245.6968\"/>\n",
       "<polygon fill=\"#000000\" stroke=\"#000000\" points=\"285.8021,-287.8841 277.1984,-294.0667 287.7798,-294.5989 285.8021,-287.8841\"/>\n",
       "</g>\n",
       "<!-- 11 -->\n",
       "<g id=\"node11\" class=\"node\">\n",
       "<title>11</title>\n",
       "<ellipse fill=\"none\" stroke=\"#000000\" cx=\"256.1961\" cy=\"-234\" rx=\"44.393\" ry=\"18\"/>\n",
       "<text text-anchor=\"middle\" x=\"256.1961\" y=\"-230.3\" font-family=\"Times,serif\" font-size=\"14.00\" fill=\"#000000\">[ 0, 2, 4 ]</text>\n",
       "</g>\n",
       "<!-- 3&#45;&gt;11 -->\n",
       "<g id=\"edge16\" class=\"edge\">\n",
       "<title>3&#45;&gt;11</title>\n",
       "<path fill=\"none\" stroke=\"#000000\" d=\"M243.9794,-277.9801C246.4142,-269.2148 249.0336,-259.7848 251.2201,-251.9134\"/>\n",
       "<polygon fill=\"#000000\" stroke=\"#000000\" points=\"240.5471,-277.2594 241.2429,-287.8314 247.2917,-279.133 240.5471,-277.2594\"/>\n",
       "</g>\n",
       "<!-- 8 -->\n",
       "<g id=\"node8\" class=\"node\">\n",
       "<title>8</title>\n",
       "<ellipse fill=\"none\" stroke=\"#000000\" cx=\"265.1961\" cy=\"-162\" rx=\"35.194\" ry=\"18\"/>\n",
       "<text text-anchor=\"middle\" x=\"265.1961\" y=\"-158.3\" font-family=\"Times,serif\" font-size=\"14.00\" fill=\"#000000\">[ 0, 1 ]</text>\n",
       "</g>\n",
       "<!-- 4&#45;&gt;8 -->\n",
       "<g id=\"edge10\" class=\"edge\">\n",
       "<title>4&#45;&gt;8</title>\n",
       "<path fill=\"none\" stroke=\"#000000\" d=\"M87.7061,-219.1591C90.9156,-218.084 94.1051,-217.0216 97.1961,-216 145.338,-200.089 201.4482,-182.1816 235.1034,-171.5089\"/>\n",
       "<polygon fill=\"#000000\" stroke=\"#000000\" points=\"86.4574,-215.8864 78.0969,-222.3943 88.6909,-222.5205 86.4574,-215.8864\"/>\n",
       "</g>\n",
       "<!-- 12 -->\n",
       "<g id=\"node12\" class=\"node\">\n",
       "<title>12</title>\n",
       "<ellipse fill=\"none\" stroke=\"#000000\" cx=\"164.1961\" cy=\"-162\" rx=\"35.194\" ry=\"18\"/>\n",
       "<text text-anchor=\"middle\" x=\"164.1961\" y=\"-158.3\" font-family=\"Times,serif\" font-size=\"14.00\" fill=\"#000000\">[ 0, 2 ]</text>\n",
       "</g>\n",
       "<!-- 4&#45;&gt;12 -->\n",
       "<g id=\"edge18\" class=\"edge\">\n",
       "<title>4&#45;&gt;12</title>\n",
       "<path fill=\"none\" stroke=\"#000000\" d=\"M77.6455,-213.9303C97.8154,-201.8284 122.9995,-186.7179 140.9922,-175.9223\"/>\n",
       "<polygon fill=\"#000000\" stroke=\"#000000\" points=\"75.8343,-210.9353 69.0602,-219.0816 79.4359,-216.9378 75.8343,-210.9353\"/>\n",
       "</g>\n",
       "<!-- 5&#45;&gt;6 -->\n",
       "<g id=\"edge7\" class=\"edge\">\n",
       "<title>5&#45;&gt;6</title>\n",
       "<path fill=\"none\" stroke=\"#000000\" d=\"M452.1368,-285.3947C431.727,-273.732 406.6694,-259.4133 388.1911,-248.8543\"/>\n",
       "<polygon fill=\"#000000\" stroke=\"#000000\" points=\"450.437,-288.4545 460.856,-290.3771 453.91,-282.3768 450.437,-288.4545\"/>\n",
       "</g>\n",
       "<!-- 5&#45;&gt;7 -->\n",
       "<g id=\"edge9\" class=\"edge\">\n",
       "<title>5&#45;&gt;7</title>\n",
       "<path fill=\"none\" stroke=\"#000000\" d=\"M480.4128,-277.9801C477.978,-269.2148 475.3585,-259.7848 473.172,-251.9134\"/>\n",
       "<polygon fill=\"#000000\" stroke=\"#000000\" points=\"477.1004,-279.133 483.1492,-287.8314 483.845,-277.2594 477.1004,-279.133\"/>\n",
       "</g>\n",
       "<!-- 13 -->\n",
       "<g id=\"node13\" class=\"node\">\n",
       "<title>13</title>\n",
       "<ellipse fill=\"none\" stroke=\"#000000\" cx=\"584.1961\" cy=\"-234\" rx=\"53.8905\" ry=\"18\"/>\n",
       "<text text-anchor=\"middle\" x=\"584.1961\" y=\"-230.3\" font-family=\"Times,serif\" font-size=\"14.00\" fill=\"#000000\">[ 0, 3, 4, 7 ]</text>\n",
       "</g>\n",
       "<!-- 5&#45;&gt;13 -->\n",
       "<g id=\"edge21\" class=\"edge\">\n",
       "<title>5&#45;&gt;13</title>\n",
       "<path fill=\"none\" stroke=\"#000000\" d=\"M518.8577,-283.0038C532.9002,-272.4719 549.2297,-260.2248 562.0512,-250.6087\"/>\n",
       "<polygon fill=\"#000000\" stroke=\"#000000\" points=\"516.3617,-280.5007 510.4617,-289.3008 520.5617,-286.1007 516.3617,-280.5007\"/>\n",
       "</g>\n",
       "<!-- 6&#45;&gt;8 -->\n",
       "<g id=\"edge11\" class=\"edge\">\n",
       "<title>6&#45;&gt;8</title>\n",
       "<path fill=\"none\" stroke=\"#000000\" d=\"M332.524,-211.9754C317.2296,-200.6228 298.9781,-187.0753 285.3387,-176.9512\"/>\n",
       "<polygon fill=\"#000000\" stroke=\"#000000\" points=\"330.5528,-214.871 340.6686,-218.0209 334.725,-209.2502 330.5528,-214.871\"/>\n",
       "</g>\n",
       "<!-- 14 -->\n",
       "<g id=\"node14\" class=\"node\">\n",
       "<title>14</title>\n",
       "<ellipse fill=\"none\" stroke=\"#000000\" cx=\"362.1961\" cy=\"-162\" rx=\"44.393\" ry=\"18\"/>\n",
       "<text text-anchor=\"middle\" x=\"362.1961\" y=\"-158.3\" font-family=\"Times,serif\" font-size=\"14.00\" fill=\"#000000\">[ 0, 3, 7 ]</text>\n",
       "</g>\n",
       "<!-- 6&#45;&gt;14 -->\n",
       "<g id=\"edge23\" class=\"edge\">\n",
       "<title>6&#45;&gt;14</title>\n",
       "<path fill=\"none\" stroke=\"#000000\" d=\"M362.1961,-205.5726C362.1961,-197.1084 362.1961,-188.0593 362.1961,-180.4133\"/>\n",
       "<polygon fill=\"#000000\" stroke=\"#000000\" points=\"358.6962,-205.8313 362.1961,-215.8314 365.6962,-205.8314 358.6962,-205.8313\"/>\n",
       "</g>\n",
       "<!-- 7&#45;&gt;8 -->\n",
       "<g id=\"edge12\" class=\"edge\">\n",
       "<title>7&#45;&gt;8</title>\n",
       "<path fill=\"none\" stroke=\"#000000\" d=\"M424.2593,-219.0869C377.4459,-203.1962 309.9091,-180.2666 309.1961,-180 303.7847,-177.9764 298.0429,-175.7136 292.5559,-173.4937\"/>\n",
       "<polygon fill=\"#000000\" stroke=\"#000000\" points=\"423.3084,-222.4602 433.9027,-222.3603 425.5584,-215.8317 423.3084,-222.4602\"/>\n",
       "</g>\n",
       "<!-- 15 -->\n",
       "<g id=\"node15\" class=\"node\">\n",
       "<title>15</title>\n",
       "<ellipse fill=\"none\" stroke=\"#000000\" cx=\"468.1961\" cy=\"-162\" rx=\"44.393\" ry=\"18\"/>\n",
       "<text text-anchor=\"middle\" x=\"468.1961\" y=\"-158.3\" font-family=\"Times,serif\" font-size=\"14.00\" fill=\"#000000\">[ 0, 4, 7 ]</text>\n",
       "</g>\n",
       "<!-- 7&#45;&gt;15 -->\n",
       "<g id=\"edge26\" class=\"edge\">\n",
       "<title>7&#45;&gt;15</title>\n",
       "<path fill=\"none\" stroke=\"#000000\" d=\"M468.1961,-205.5726C468.1961,-197.1084 468.1961,-188.0593 468.1961,-180.4133\"/>\n",
       "<polygon fill=\"#000000\" stroke=\"#000000\" points=\"464.6962,-205.8313 468.1961,-215.8314 471.6962,-205.8314 464.6962,-205.8313\"/>\n",
       "</g>\n",
       "<!-- 16 -->\n",
       "<g id=\"node16\" class=\"node\">\n",
       "<title>16</title>\n",
       "<ellipse fill=\"none\" stroke=\"#000000\" cx=\"327.1961\" cy=\"-90\" rx=\"35.194\" ry=\"18\"/>\n",
       "<text text-anchor=\"middle\" x=\"327.1961\" y=\"-86.3\" font-family=\"Times,serif\" font-size=\"14.00\" fill=\"#000000\">[ 0, 7 ]</text>\n",
       "</g>\n",
       "<!-- 8&#45;&gt;16 -->\n",
       "<g id=\"edge29\" class=\"edge\">\n",
       "<title>8&#45;&gt;16</title>\n",
       "<path fill=\"none\" stroke=\"#000000\" d=\"M286.2912,-137.5024C295.0573,-127.3224 305.0042,-115.7712 312.8942,-106.6087\"/>\n",
       "<polygon fill=\"#000000\" stroke=\"#000000\" points=\"283.449,-135.4392 279.576,-145.3008 288.7534,-140.0069 283.449,-135.4392\"/>\n",
       "</g>\n",
       "<!-- 9&#45;&gt;10 -->\n",
       "<g id=\"edge15\" class=\"edge\">\n",
       "<title>9&#45;&gt;10</title>\n",
       "<path fill=\"none\" stroke=\"#000000\" d=\"M314.5871,-289.8309C274.9777,-276.3787 219.5572,-257.5566 184.2686,-245.5718\"/>\n",
       "<polygon fill=\"#000000\" stroke=\"#000000\" points=\"313.7003,-293.226 324.2947,-293.1278 315.9515,-286.5979 313.7003,-293.226\"/>\n",
       "</g>\n",
       "<!-- 9&#45;&gt;11 -->\n",
       "<g id=\"edge17\" class=\"edge\">\n",
       "<title>9&#45;&gt;11</title>\n",
       "<path fill=\"none\" stroke=\"#000000\" d=\"M329.696,-283.9244C313.3578,-272.8268 293.9471,-259.6422 279.1771,-249.6098\"/>\n",
       "<polygon fill=\"#000000\" stroke=\"#000000\" points=\"328.1688,-287.1182 338.4076,-289.8418 332.102,-281.3277 328.1688,-287.1182\"/>\n",
       "</g>\n",
       "<!-- 9&#45;&gt;13 -->\n",
       "<g id=\"edge22\" class=\"edge\">\n",
       "<title>9&#45;&gt;13</title>\n",
       "<path fill=\"none\" stroke=\"#000000\" d=\"M410.7567,-290.2506C451.1458,-277.1514 507.8816,-258.7507 545.3173,-246.6093\"/>\n",
       "<polygon fill=\"#000000\" stroke=\"#000000\" points=\"409.552,-286.9618 401.1196,-293.3762 411.7116,-293.6203 409.552,-286.9618\"/>\n",
       "</g>\n",
       "<!-- 10&#45;&gt;12 -->\n",
       "<g id=\"edge19\" class=\"edge\">\n",
       "<title>10&#45;&gt;12</title>\n",
       "<path fill=\"none\" stroke=\"#000000\" d=\"M155.6444,-205.9801C157.3488,-197.2148 159.1824,-187.7848 160.7129,-179.9134\"/>\n",
       "<polygon fill=\"#000000\" stroke=\"#000000\" points=\"152.202,-205.3471 153.7289,-215.8314 159.0733,-206.6833 152.202,-205.3471\"/>\n",
       "</g>\n",
       "<!-- 10&#45;&gt;14 -->\n",
       "<g id=\"edge24\" class=\"edge\">\n",
       "<title>10&#45;&gt;14</title>\n",
       "<path fill=\"none\" stroke=\"#000000\" d=\"M193.9691,-219.1337C233.801,-205.6059 291.7817,-185.9143 328.2191,-173.5393\"/>\n",
       "<polygon fill=\"#000000\" stroke=\"#000000\" points=\"192.6008,-215.902 184.2575,-222.432 194.8519,-222.5302 192.6008,-215.902\"/>\n",
       "</g>\n",
       "<!-- 11&#45;&gt;12 -->\n",
       "<g id=\"edge20\" class=\"edge\">\n",
       "<title>11&#45;&gt;12</title>\n",
       "<path fill=\"none\" stroke=\"#000000\" d=\"M227.7072,-211.7044C213.3892,-200.4989 196.4105,-187.2113 183.612,-177.1951\"/>\n",
       "<polygon fill=\"#000000\" stroke=\"#000000\" points=\"225.7461,-214.614 235.7783,-218.0209 230.0603,-209.1015 225.7461,-214.614\"/>\n",
       "</g>\n",
       "<!-- 11&#45;&gt;15 -->\n",
       "<g id=\"edge27\" class=\"edge\">\n",
       "<title>11&#45;&gt;15</title>\n",
       "<path fill=\"none\" stroke=\"#000000\" d=\"M299.9691,-219.1337C339.801,-205.6059 397.7817,-185.9143 434.2191,-173.5393\"/>\n",
       "<polygon fill=\"#000000\" stroke=\"#000000\" points=\"298.6008,-215.902 290.2575,-222.432 300.8519,-222.5302 298.6008,-215.902\"/>\n",
       "</g>\n",
       "<!-- 12&#45;&gt;16 -->\n",
       "<g id=\"edge30\" class=\"edge\">\n",
       "<title>12&#45;&gt;16</title>\n",
       "<path fill=\"none\" stroke=\"#000000\" d=\"M200.4846,-145.9707C230.7782,-132.5895 273.2631,-113.8232 300.5109,-101.7873\"/>\n",
       "<polygon fill=\"#000000\" stroke=\"#000000\" points=\"198.8454,-142.8685 191.1122,-150.1107 201.6738,-149.2716 198.8454,-142.8685\"/>\n",
       "</g>\n",
       "<!-- 13&#45;&gt;14 -->\n",
       "<g id=\"edge25\" class=\"edge\">\n",
       "<title>13&#45;&gt;14</title>\n",
       "<path fill=\"none\" stroke=\"#000000\" d=\"M535.2283,-218.6116C501.4481,-207.9327 455.5342,-193.2932 415.1961,-180 409.0124,-177.9622 402.4352,-175.7581 396.094,-173.6144\"/>\n",
       "<polygon fill=\"#000000\" stroke=\"#000000\" points=\"534.2704,-221.9794 544.8602,-221.6531 536.3783,-215.3043 534.2704,-221.9794\"/>\n",
       "</g>\n",
       "<!-- 13&#45;&gt;15 -->\n",
       "<g id=\"edge28\" class=\"edge\">\n",
       "<title>13&#45;&gt;15</title>\n",
       "<path fill=\"none\" stroke=\"#000000\" d=\"M549.7857,-212.6418C531.4267,-201.2466 509.2667,-187.4921 492.6771,-177.1951\"/>\n",
       "<polygon fill=\"#000000\" stroke=\"#000000\" points=\"548.1097,-215.7209 558.4519,-218.0209 551.8013,-209.7734 548.1097,-215.7209\"/>\n",
       "</g>\n",
       "<!-- 17 -->\n",
       "<g id=\"node17\" class=\"node\">\n",
       "<title>17</title>\n",
       "<ellipse fill=\"none\" stroke=\"#000000\" cx=\"574.1961\" cy=\"-162\" rx=\"44.393\" ry=\"18\"/>\n",
       "<text text-anchor=\"middle\" x=\"574.1961\" y=\"-158.3\" font-family=\"Times,serif\" font-size=\"14.00\" fill=\"#000000\">[ 0, 3, 4 ]</text>\n",
       "</g>\n",
       "<!-- 13&#45;&gt;17 -->\n",
       "<g id=\"edge33\" class=\"edge\">\n",
       "<title>13&#45;&gt;17</title>\n",
       "<path fill=\"none\" stroke=\"#000000\" d=\"M580.287,-205.8545C579.1002,-197.3097 577.8272,-188.1442 576.7535,-180.4133\"/>\n",
       "<polygon fill=\"#000000\" stroke=\"#000000\" points=\"576.8302,-206.408 581.6727,-215.8314 583.7636,-205.4449 576.8302,-206.408\"/>\n",
       "</g>\n",
       "<!-- 14&#45;&gt;16 -->\n",
       "<g id=\"edge31\" class=\"edge\">\n",
       "<title>14&#45;&gt;16</title>\n",
       "<path fill=\"none\" stroke=\"#000000\" d=\"M349.0945,-135.0481C344.6316,-125.8674 339.7607,-115.8471 335.7482,-107.593\"/>\n",
       "<polygon fill=\"#000000\" stroke=\"#000000\" points=\"346.0246,-136.7387 353.5444,-144.2022 352.3202,-133.6784 346.0246,-136.7387\"/>\n",
       "</g>\n",
       "<!-- 18 -->\n",
       "<g id=\"node18\" class=\"node\">\n",
       "<title>18</title>\n",
       "<ellipse fill=\"none\" stroke=\"#000000\" cx=\"415.1961\" cy=\"-90\" rx=\"35.194\" ry=\"18\"/>\n",
       "<text text-anchor=\"middle\" x=\"415.1961\" y=\"-86.3\" font-family=\"Times,serif\" font-size=\"14.00\" fill=\"#000000\">[ 0, 3 ]</text>\n",
       "</g>\n",
       "<!-- 14&#45;&gt;18 -->\n",
       "<g id=\"edge35\" class=\"edge\">\n",
       "<title>14&#45;&gt;18</title>\n",
       "<path fill=\"none\" stroke=\"#000000\" d=\"M381.0141,-136.4359C388.1313,-126.7673 396.0577,-115.9993 402.4844,-107.2687\"/>\n",
       "<polygon fill=\"#000000\" stroke=\"#000000\" points=\"378.1354,-134.4425 375.0259,-144.5708 383.7728,-138.5923 378.1354,-134.4425\"/>\n",
       "</g>\n",
       "<!-- 15&#45;&gt;16 -->\n",
       "<g id=\"edge32\" class=\"edge\">\n",
       "<title>15&#45;&gt;16</title>\n",
       "<path fill=\"none\" stroke=\"#000000\" d=\"M431.182,-143.0992C406.2656,-130.3759 374.0805,-113.941 352.1605,-102.7478\"/>\n",
       "<polygon fill=\"#000000\" stroke=\"#000000\" points=\"429.8412,-146.3444 440.339,-147.7751 433.0247,-140.1102 429.8412,-146.3444\"/>\n",
       "</g>\n",
       "<!-- 19 -->\n",
       "<g id=\"node19\" class=\"node\">\n",
       "<title>19</title>\n",
       "<ellipse fill=\"none\" stroke=\"#000000\" cx=\"503.1961\" cy=\"-90\" rx=\"35.194\" ry=\"18\"/>\n",
       "<text text-anchor=\"middle\" x=\"503.1961\" y=\"-86.3\" font-family=\"Times,serif\" font-size=\"14.00\" fill=\"#000000\">[ 0, 4 ]</text>\n",
       "</g>\n",
       "<!-- 15&#45;&gt;19 -->\n",
       "<g id=\"edge37\" class=\"edge\">\n",
       "<title>15&#45;&gt;19</title>\n",
       "<path fill=\"none\" stroke=\"#000000\" d=\"M481.2977,-135.0481C485.7606,-125.8674 490.6315,-115.8471 494.6439,-107.593\"/>\n",
       "<polygon fill=\"#000000\" stroke=\"#000000\" points=\"478.072,-133.6784 476.8478,-144.2022 484.3675,-136.7387 478.072,-133.6784\"/>\n",
       "</g>\n",
       "<!-- 20 -->\n",
       "<g id=\"node20\" class=\"node\">\n",
       "<title>20</title>\n",
       "<ellipse fill=\"none\" stroke=\"#000000\" cx=\"415.1961\" cy=\"-18\" rx=\"27\" ry=\"18\"/>\n",
       "<text text-anchor=\"middle\" x=\"415.1961\" y=\"-14.3\" font-family=\"Times,serif\" font-size=\"14.00\" fill=\"#000000\">[ 0 ]</text>\n",
       "</g>\n",
       "<!-- 16&#45;&gt;20 -->\n",
       "<g id=\"edge40\" class=\"edge\">\n",
       "<title>16&#45;&gt;20</title>\n",
       "<path fill=\"none\" stroke=\"#000000\" d=\"M353.9093,-68.1437C368.2526,-56.4083 385.5102,-42.2885 398.0526,-32.0265\"/>\n",
       "<polygon fill=\"#000000\" stroke=\"#000000\" points=\"351.3819,-65.6894 345.8586,-74.7307 355.8146,-71.1071 351.3819,-65.6894\"/>\n",
       "</g>\n",
       "<!-- 17&#45;&gt;18 -->\n",
       "<g id=\"edge34\" class=\"edge\">\n",
       "<title>17&#45;&gt;18</title>\n",
       "<path fill=\"none\" stroke=\"#000000\" d=\"M534.8327,-144.1751C505.7512,-131.0061 466.9561,-113.4385 441.5395,-101.9291\"/>\n",
       "<polygon fill=\"#000000\" stroke=\"#000000\" points=\"533.736,-147.5206 544.2894,-148.4574 536.6236,-141.1439 533.736,-147.5206\"/>\n",
       "</g>\n",
       "<!-- 17&#45;&gt;19 -->\n",
       "<g id=\"edge36\" class=\"edge\">\n",
       "<title>17&#45;&gt;19</title>\n",
       "<path fill=\"none\" stroke=\"#000000\" d=\"M550.2806,-137.7477C540.1237,-127.4477 528.5458,-115.7067 519.4126,-106.4449\"/>\n",
       "<polygon fill=\"#000000\" stroke=\"#000000\" points=\"547.8565,-140.2742 557.3701,-144.937 552.8407,-135.3591 547.8565,-140.2742\"/>\n",
       "</g>\n",
       "<!-- 18&#45;&gt;20 -->\n",
       "<g id=\"edge38\" class=\"edge\">\n",
       "<title>18&#45;&gt;20</title>\n",
       "<path fill=\"none\" stroke=\"#000000\" d=\"M415.1961,-61.5726C415.1961,-53.1084 415.1961,-44.0593 415.1961,-36.4133\"/>\n",
       "<polygon fill=\"#000000\" stroke=\"#000000\" points=\"411.6962,-61.8313 415.1961,-71.8314 418.6962,-61.8314 411.6962,-61.8313\"/>\n",
       "</g>\n",
       "<!-- 19&#45;&gt;20 -->\n",
       "<g id=\"edge39\" class=\"edge\">\n",
       "<title>19&#45;&gt;20</title>\n",
       "<path fill=\"none\" stroke=\"#000000\" d=\"M476.4828,-68.1437C462.1395,-56.4083 444.882,-42.2885 432.3396,-32.0265\"/>\n",
       "<polygon fill=\"#000000\" stroke=\"#000000\" points=\"474.5776,-71.1071 484.5335,-74.7307 479.0103,-65.6894 474.5776,-71.1071\"/>\n",
       "</g>\n",
       "</g>\n",
       "</svg>\n"
      ]
     },
     "execution_count": 17,
     "metadata": {
      "image/svg+xml": {
       "height": 500,
       "width": 500
      }
     },
     "output_type": "execute_result"
    }
   ],
   "source": [
    "s:=NumericalSemigroup(5,6,8,9);;\n",
    "h:=hasseI0(s);;\n",
    "JupyterSplashDot(h);"
   ]
  },
  {
   "cell_type": "markdown",
   "id": "9dd480fc",
   "metadata": {},
   "source": [
    "## Irreducibles, atoms, quarks, primes"
   ]
  },
  {
   "cell_type": "markdown",
   "id": "14f7a412",
   "metadata": {},
   "source": [
    "Given two ideals $I$ and $J$ in $\\mathcal{I}_0(S)$, we write $I\\preceq J$ if there exits another ideal $K$ in $\\mathcal{I}_0(S)$ such that $I+K=J$."
   ]
  },
  {
   "cell_type": "code",
   "execution_count": 18,
   "id": "7a677fea",
   "metadata": {
    "vscode": {
     "languageId": "gap 4"
    }
   },
   "outputs": [
    {
     "data": {
      "text/plain": [
       "function( i, j, ids ) ... end"
      ]
     },
     "execution_count": 18,
     "metadata": {
      "text/plain": ""
     },
     "output_type": "execute_result"
    }
   ],
   "source": [
    "leadd:=function(i,j,ids)\n",
    "    local cand;\n",
    "    if not(IsSubset(j,i)) then\n",
    "        return(false);\n",
    "    fi;\n",
    "    cand:=Filtered(ids,k->IsSubset(j,k));\n",
    "    return ForAny(cand, k->j=i+k);\n",
    "end;"
   ]
  },
  {
   "cell_type": "markdown",
   "id": "cebc0328",
   "metadata": {},
   "source": [
    "Let us find the set of irreducibles of $(\\mathcal{I}_0(S),+)$ (with respect to $\\preceq$)."
   ]
  },
  {
   "cell_type": "code",
   "execution_count": 19,
   "id": "1e8b2fa3",
   "metadata": {
    "vscode": {
     "languageId": "gap 4"
    }
   },
   "outputs": [
    {
     "data": {
      "text/plain": [
       "function( s ) ... end"
      ]
     },
     "execution_count": 19,
     "metadata": {
      "text/plain": ""
     },
     "output_type": "execute_result"
    }
   ],
   "source": [
    "irredsI0:=function(s)\n",
    "    local is, isnz;\n",
    "    is:=I0(s);;\n",
    "    isnz:=Difference(is,[0+s]);;\n",
    "    return Filtered(isnz,i->Filtered(Cartesian(isnz,isnz), p->i<>p[1] and i<>p[2] and i=p[1]+p[2])=[]);\n",
    "end;"
   ]
  },
  {
   "cell_type": "code",
   "execution_count": 20,
   "id": "fb790355",
   "metadata": {
    "vscode": {
     "languageId": "gap 4"
    }
   },
   "outputs": [
    {
     "data": {
      "text/plain": [
       "[ [ 0, 1, 3 ], [ 0, 1 ], [ 0, 2 ], [ 0, 3, 4 ], [ 0, 3 ], [ 0, 4 ], [ 0, 7 ] ]"
      ]
     },
     "execution_count": 20,
     "metadata": {
      "text/plain": ""
     },
     "output_type": "execute_result"
    }
   ],
   "source": [
    "List(irredsI0(s),MinimalGenerators);"
   ]
  },
  {
   "cell_type": "markdown",
   "id": "2c9e1115",
   "metadata": {},
   "source": [
    "And the set of atoms."
   ]
  },
  {
   "cell_type": "code",
   "execution_count": 21,
   "id": "90d40022",
   "metadata": {
    "vscode": {
     "languageId": "gap 4"
    }
   },
   "outputs": [
    {
     "data": {
      "text/plain": [
       "function( s ) ... end"
      ]
     },
     "execution_count": 21,
     "metadata": {
      "text/plain": ""
     },
     "output_type": "execute_result"
    }
   ],
   "source": [
    "atomsI0:=function(s)\n",
    "    local is, isnz;\n",
    "    is:=I0(s);;\n",
    "    isnz:=Difference(is,[0+s]);;\n",
    "    return Filtered(isnz,i->Filtered(Cartesian(isnz,isnz), p->i=p[1]+p[2])=[]);\n",
    "end;"
   ]
  },
  {
   "cell_type": "code",
   "execution_count": 22,
   "id": "e506bf00",
   "metadata": {
    "vscode": {
     "languageId": "gap 4"
    }
   },
   "outputs": [
    {
     "data": {
      "text/plain": [
       "[ [ 0, 3, 4 ] ]"
      ]
     },
     "execution_count": 22,
     "metadata": {
      "text/plain": ""
     },
     "output_type": "execute_result"
    }
   ],
   "source": [
    "List(atomsI0(s),MinimalGenerators);"
   ]
  },
  {
   "cell_type": "markdown",
   "id": "9881a8c8",
   "metadata": {},
   "source": [
    "... quarks"
   ]
  },
  {
   "cell_type": "code",
   "execution_count": 23,
   "id": "0b0362b0",
   "metadata": {
    "vscode": {
     "languageId": "gap 4"
    }
   },
   "outputs": [
    {
     "data": {
      "text/plain": [
       "function( s ) ... end"
      ]
     },
     "execution_count": 23,
     "metadata": {
      "text/plain": ""
     },
     "output_type": "execute_result"
    }
   ],
   "source": [
    "quarksI0:=function(s)\n",
    "    local is, isnz;\n",
    "    is:=I0(s);;\n",
    "    isnz:=Difference(is,[0+s]);;\n",
    "    return Filtered(isnz,i->Filtered(isnz,j->i<>j and IsSubset(i,j) and leadd(j,i,isnz))=[]);\n",
    "end;"
   ]
  },
  {
   "cell_type": "code",
   "execution_count": 24,
   "id": "71007435",
   "metadata": {
    "vscode": {
     "languageId": "gap 4"
    }
   },
   "outputs": [
    {
     "data": {
      "text/plain": [
       "[ [ 0, 3, 4 ], [ 0, 3 ], [ 0, 4 ], [ 0, 7 ] ]"
      ]
     },
     "execution_count": 24,
     "metadata": {
      "text/plain": ""
     },
     "output_type": "execute_result"
    }
   ],
   "source": [
    "List(quarksI0(s), MinimalGenerators);"
   ]
  },
  {
   "cell_type": "markdown",
   "id": "c59ad796",
   "metadata": {},
   "source": [
    "Or "
   ]
  },
  {
   "cell_type": "code",
   "execution_count": 25,
   "id": "d7b2ad2d",
   "metadata": {
    "vscode": {
     "languageId": "gap 4"
    }
   },
   "outputs": [
    {
     "data": {
      "text/plain": [
       "function( s ) ... end"
      ]
     },
     "execution_count": 25,
     "metadata": {
      "text/plain": ""
     },
     "output_type": "execute_result"
    }
   ],
   "source": [
    "quarksI0:=function(s)\n",
    "    local is, isnz, c, p, cand, i;\n",
    "    is:=I0(s);;\n",
    "    isnz:=Difference(is,[0+s]);;\n",
    "    c:=IteratorOfCartesianProduct(isnz,isnz);\n",
    "    cand:=ShallowCopy(isnz);\n",
    "    for p in c do\n",
    "        i:=p[1]+p[2];\n",
    "        if p[1]<>i then \n",
    "            RemoveSet(cand,i);\n",
    "        fi;\n",
    "    od;\n",
    "    return cand;\n",
    "end;"
   ]
  },
  {
   "cell_type": "code",
   "execution_count": 26,
   "id": "967c9d70",
   "metadata": {
    "vscode": {
     "languageId": "gap 4"
    }
   },
   "outputs": [
    {
     "data": {
      "text/plain": [
       "[ [ 0, 3, 4 ], [ 0, 3 ], [ 0, 4 ], [ 0, 7 ] ]"
      ]
     },
     "execution_count": 26,
     "metadata": {
      "text/plain": ""
     },
     "output_type": "execute_result"
    }
   ],
   "source": [
    "List(quarksI0(s), MinimalGenerators);"
   ]
  },
  {
   "cell_type": "markdown",
   "id": "b882c71e",
   "metadata": {},
   "source": [
    "and finally the set of prime elements"
   ]
  },
  {
   "cell_type": "code",
   "execution_count": 27,
   "id": "6e01942a",
   "metadata": {
    "vscode": {
     "languageId": "gap 4"
    }
   },
   "outputs": [
    {
     "data": {
      "text/plain": [
       "function( s ) ... end"
      ]
     },
     "execution_count": 27,
     "metadata": {
      "text/plain": ""
     },
     "output_type": "execute_result"
    }
   ],
   "source": [
    "primesI0:=function(s)\n",
    "    local is, isnz,irr,ci;\n",
    "    is:=I0(s);;\n",
    "    isnz:=Difference(is,[0+s]);;\n",
    "    irr:=Filtered(isnz,i->Filtered(Cartesian(isnz,isnz), p->i<>p[1] and i<>p[2] and i=p[1]+p[2])=[]);\n",
    "    ci:=Cartesian(isnz,isnz);\n",
    "    return Filtered(irr,a->ForAll(Filtered(ci, p->leadd(a,p[1]+p[2],is)), p->leadd(a,p[1],is) or leadd(a,p[2],is)));\n",
    "end;"
   ]
  },
  {
   "cell_type": "markdown",
   "id": "f52c5443",
   "metadata": {},
   "source": [
    "which in this case is empty:"
   ]
  },
  {
   "cell_type": "code",
   "execution_count": 28,
   "id": "edd6ccca",
   "metadata": {
    "vscode": {
     "languageId": "gap 4"
    }
   },
   "outputs": [
    {
     "data": {
      "text/plain": [
       "[  ]"
      ]
     },
     "execution_count": 28,
     "metadata": {
      "text/plain": ""
     },
     "output_type": "execute_result"
    }
   ],
   "source": [
    "primesI0(s);"
   ]
  },
  {
   "cell_type": "markdown",
   "id": "36bdae90",
   "metadata": {},
   "source": [
    "Let us see how we can depict the Hasse diagram of the ideal class monoid of a semigroup with respect to $\\preceq$ (or any other ordering induced by a binary operation)."
   ]
  },
  {
   "cell_type": "code",
   "execution_count": 29,
   "id": "64bfbba3",
   "metadata": {
    "vscode": {
     "languageId": "gap 4"
    }
   },
   "outputs": [
    {
     "data": {
      "text/plain": [
       "function( s, op ) ... end"
      ]
     },
     "execution_count": 29,
     "metadata": {
      "text/plain": ""
     },
     "output_type": "execute_result"
    }
   ],
   "source": [
    "hasseI0op:=function(s,op)\n",
    "    local  v,e, is;\n",
    "\n",
    "    is:=I0(s);\n",
    "    v:=List(is,MinimalGenerators);\n",
    "    e:=Filtered(Cartesian(v,v), p->ForAny(v, a->(p[2]+s)=op(p[1]+s,a+s)));\n",
    "    return DotBinaryRelation(HasseDiagramBinaryRelation(BinaryRelationByElements(Domain(v),List(e,Tuple))));\n",
    "end;"
   ]
  },
  {
   "cell_type": "code",
   "execution_count": 30,
   "id": "7efdad4d",
   "metadata": {
    "vscode": {
     "languageId": "gap 4"
    }
   },
   "outputs": [],
   "source": [
    "s:=NumericalSemigroup(4,6,9);;"
   ]
  },
  {
   "cell_type": "code",
   "execution_count": 31,
   "id": "3479af5d",
   "metadata": {
    "vscode": {
     "languageId": "gap 4"
    }
   },
   "outputs": [
    {
     "data": {
      "image/svg+xml": [
       "<?xml version=\"1.0\" encoding=\"UTF-8\" standalone=\"no\"?>\n",
       "<!DOCTYPE svg PUBLIC \"-//W3C//DTD SVG 1.1//EN\"\n",
       " \"http://www.w3.org/Graphics/SVG/1.1/DTD/svg11.dtd\">\n",
       "<!-- Generated by graphviz version 2.40.1 (20161225.0304)\n",
       " -->\n",
       "<!-- Title: NSGraph Pages: 1 -->\n",
       "<svg width=\"486pt\" height=\"476pt\"\n",
       " viewBox=\"0.00 0.00 486.39 476.00\" xmlns=\"http://www.w3.org/2000/svg\" xmlns:xlink=\"http://www.w3.org/1999/xlink\">\n",
       "<g id=\"graph0\" class=\"graph\" transform=\"scale(1 1) rotate(0) translate(4 472)\">\n",
       "<title>NSGraph</title>\n",
       "<polygon fill=\"#ffffff\" stroke=\"transparent\" points=\"-4,4 -4,-472 482.3922,-472 482.3922,4 -4,4\"/>\n",
       "<!-- 1 -->\n",
       "<g id=\"node1\" class=\"node\">\n",
       "<title>1</title>\n",
       "<ellipse fill=\"none\" stroke=\"#000000\" cx=\"150.1961\" cy=\"-450\" rx=\"53.8905\" ry=\"18\"/>\n",
       "<text text-anchor=\"middle\" x=\"150.1961\" y=\"-446.3\" font-family=\"Times,serif\" font-size=\"14.00\" fill=\"#000000\">[ 0, 1, 2, 3 ]</text>\n",
       "</g>\n",
       "<!-- 2 -->\n",
       "<g id=\"node2\" class=\"node\">\n",
       "<title>2</title>\n",
       "<ellipse fill=\"none\" stroke=\"#000000\" cx=\"44.1961\" cy=\"-378\" rx=\"44.393\" ry=\"18\"/>\n",
       "<text text-anchor=\"middle\" x=\"44.1961\" y=\"-374.3\" font-family=\"Times,serif\" font-size=\"14.00\" fill=\"#000000\">[ 0, 1, 2 ]</text>\n",
       "</g>\n",
       "<!-- 1&#45;&gt;2 -->\n",
       "<g id=\"edge1\" class=\"edge\">\n",
       "<title>1&#45;&gt;2</title>\n",
       "<path fill=\"none\" stroke=\"#000000\" d=\"M117.696,-427.9244C101.3578,-416.8268 81.9471,-403.6422 67.1771,-393.6098\"/>\n",
       "<polygon fill=\"#000000\" stroke=\"#000000\" points=\"116.1688,-431.1182 126.4076,-433.8418 120.102,-425.3277 116.1688,-431.1182\"/>\n",
       "</g>\n",
       "<!-- 3 -->\n",
       "<g id=\"node3\" class=\"node\">\n",
       "<title>3</title>\n",
       "<ellipse fill=\"none\" stroke=\"#000000\" cx=\"150.1961\" cy=\"-378\" rx=\"44.393\" ry=\"18\"/>\n",
       "<text text-anchor=\"middle\" x=\"150.1961\" y=\"-374.3\" font-family=\"Times,serif\" font-size=\"14.00\" fill=\"#000000\">[ 0, 1, 3 ]</text>\n",
       "</g>\n",
       "<!-- 1&#45;&gt;3 -->\n",
       "<g id=\"edge2\" class=\"edge\">\n",
       "<title>1&#45;&gt;3</title>\n",
       "<path fill=\"none\" stroke=\"#000000\" d=\"M150.1961,-421.5726C150.1961,-413.1084 150.1961,-404.0593 150.1961,-396.4133\"/>\n",
       "<polygon fill=\"#000000\" stroke=\"#000000\" points=\"146.6962,-421.8313 150.1961,-431.8314 153.6962,-421.8314 146.6962,-421.8313\"/>\n",
       "</g>\n",
       "<!-- 5 -->\n",
       "<g id=\"node5\" class=\"node\">\n",
       "<title>5</title>\n",
       "<ellipse fill=\"none\" stroke=\"#000000\" cx=\"266.1961\" cy=\"-378\" rx=\"53.8905\" ry=\"18\"/>\n",
       "<text text-anchor=\"middle\" x=\"266.1961\" y=\"-374.3\" font-family=\"Times,serif\" font-size=\"14.00\" fill=\"#000000\">[ 0, 2, 3, 5 ]</text>\n",
       "</g>\n",
       "<!-- 1&#45;&gt;5 -->\n",
       "<g id=\"edge5\" class=\"edge\">\n",
       "<title>1&#45;&gt;5</title>\n",
       "<path fill=\"none\" stroke=\"#000000\" d=\"M184.9133,-428.4514C202.775,-417.3648 224.1689,-404.0858 240.5239,-393.9345\"/>\n",
       "<polygon fill=\"#000000\" stroke=\"#000000\" points=\"182.5909,-425.7734 175.9402,-434.0209 186.2824,-431.7209 182.5909,-425.7734\"/>\n",
       "</g>\n",
       "<!-- 4 -->\n",
       "<g id=\"node4\" class=\"node\">\n",
       "<title>4</title>\n",
       "<ellipse fill=\"none\" stroke=\"#000000\" cx=\"62.1961\" cy=\"-306\" rx=\"35.194\" ry=\"18\"/>\n",
       "<text text-anchor=\"middle\" x=\"62.1961\" y=\"-302.3\" font-family=\"Times,serif\" font-size=\"14.00\" fill=\"#000000\">[ 0, 1 ]</text>\n",
       "</g>\n",
       "<!-- 2&#45;&gt;4 -->\n",
       "<g id=\"edge3\" class=\"edge\">\n",
       "<title>2&#45;&gt;4</title>\n",
       "<path fill=\"none\" stroke=\"#000000\" d=\"M51.201,-349.9801C53.3924,-341.2148 55.7499,-331.7848 57.7177,-323.9134\"/>\n",
       "<polygon fill=\"#000000\" stroke=\"#000000\" points=\"47.7682,-349.281 48.7382,-359.8314 54.5592,-350.9788 47.7682,-349.281\"/>\n",
       "</g>\n",
       "<!-- 3&#45;&gt;4 -->\n",
       "<g id=\"edge4\" class=\"edge\">\n",
       "<title>3&#45;&gt;4</title>\n",
       "<path fill=\"none\" stroke=\"#000000\" d=\"M122.183,-355.0802C108.6935,-344.0434 92.8838,-331.1082 80.8822,-321.2886\"/>\n",
       "<polygon fill=\"#000000\" stroke=\"#000000\" points=\"120.2716,-358.0385 130.2275,-361.6621 124.7043,-352.6208 120.2716,-358.0385\"/>\n",
       "</g>\n",
       "<!-- 8 -->\n",
       "<g id=\"node8\" class=\"node\">\n",
       "<title>8</title>\n",
       "<ellipse fill=\"none\" stroke=\"#000000\" cx=\"159.1961\" cy=\"-306\" rx=\"44.393\" ry=\"18\"/>\n",
       "<text text-anchor=\"middle\" x=\"159.1961\" y=\"-302.3\" font-family=\"Times,serif\" font-size=\"14.00\" fill=\"#000000\">[ 0, 3, 5 ]</text>\n",
       "</g>\n",
       "<!-- 3&#45;&gt;8 -->\n",
       "<g id=\"edge8\" class=\"edge\">\n",
       "<title>3&#45;&gt;8</title>\n",
       "<path fill=\"none\" stroke=\"#000000\" d=\"M153.7143,-349.8545C154.7824,-341.3097 155.9281,-332.1442 156.8944,-324.4133\"/>\n",
       "<polygon fill=\"#000000\" stroke=\"#000000\" points=\"150.2346,-349.4744 152.4672,-359.8314 157.1806,-350.3427 150.2346,-349.4744\"/>\n",
       "</g>\n",
       "<!-- 9 -->\n",
       "<g id=\"node9\" class=\"node\">\n",
       "<title>9</title>\n",
       "<ellipse fill=\"none\" stroke=\"#000000\" cx=\"62.1961\" cy=\"-234\" rx=\"44.393\" ry=\"18\"/>\n",
       "<text text-anchor=\"middle\" x=\"62.1961\" y=\"-230.3\" font-family=\"Times,serif\" font-size=\"14.00\" fill=\"#000000\">[ 0, 5, 7 ]</text>\n",
       "</g>\n",
       "<!-- 4&#45;&gt;9 -->\n",
       "<g id=\"edge10\" class=\"edge\">\n",
       "<title>4&#45;&gt;9</title>\n",
       "<path fill=\"none\" stroke=\"#000000\" d=\"M62.1961,-277.5726C62.1961,-269.1084 62.1961,-260.0593 62.1961,-252.4133\"/>\n",
       "<polygon fill=\"#000000\" stroke=\"#000000\" points=\"58.6962,-277.8313 62.1961,-287.8314 65.6962,-277.8314 58.6962,-277.8313\"/>\n",
       "</g>\n",
       "<!-- 6 -->\n",
       "<g id=\"node6\" class=\"node\">\n",
       "<title>6</title>\n",
       "<ellipse fill=\"none\" stroke=\"#000000\" cx=\"355.1961\" cy=\"-306\" rx=\"53.8905\" ry=\"18\"/>\n",
       "<text text-anchor=\"middle\" x=\"355.1961\" y=\"-302.3\" font-family=\"Times,serif\" font-size=\"14.00\" fill=\"#000000\">[ 0, 2, 5, 7 ]</text>\n",
       "</g>\n",
       "<!-- 5&#45;&gt;6 -->\n",
       "<g id=\"edge6\" class=\"edge\">\n",
       "<title>5&#45;&gt;6</title>\n",
       "<path fill=\"none\" stroke=\"#000000\" d=\"M294.9303,-354.7543C307.7664,-344.3701 322.6125,-332.3597 334.3576,-322.8581\"/>\n",
       "<polygon fill=\"#000000\" stroke=\"#000000\" points=\"292.4113,-352.2902 286.8382,-361.3008 296.814,-357.7324 292.4113,-352.2902\"/>\n",
       "</g>\n",
       "<!-- 5&#45;&gt;8 -->\n",
       "<g id=\"edge9\" class=\"edge\">\n",
       "<title>5&#45;&gt;8</title>\n",
       "<path fill=\"none\" stroke=\"#000000\" d=\"M233.8467,-356.2322C217.2603,-345.0713 197.4413,-331.7351 182.3939,-321.6098\"/>\n",
       "<polygon fill=\"#000000\" stroke=\"#000000\" points=\"231.9326,-359.1628 242.1832,-361.8418 235.8406,-353.3552 231.9326,-359.1628\"/>\n",
       "</g>\n",
       "<!-- 11 -->\n",
       "<g id=\"node11\" class=\"node\">\n",
       "<title>11</title>\n",
       "<ellipse fill=\"none\" stroke=\"#000000\" cx=\"256.1961\" cy=\"-234\" rx=\"44.393\" ry=\"18\"/>\n",
       "<text text-anchor=\"middle\" x=\"256.1961\" y=\"-230.3\" font-family=\"Times,serif\" font-size=\"14.00\" fill=\"#000000\">[ 0, 2, 3 ]</text>\n",
       "</g>\n",
       "<!-- 5&#45;&gt;11 -->\n",
       "<g id=\"edge14\" class=\"edge\">\n",
       "<title>5&#45;&gt;11</title>\n",
       "<path fill=\"none\" stroke=\"#000000\" d=\"M264.2149,-349.4713C262.2042,-320.5174 259.1525,-276.5727 257.4523,-252.0896\"/>\n",
       "<polygon fill=\"#000000\" stroke=\"#000000\" points=\"260.7451,-350.0288 264.9296,-359.7623 267.7283,-349.5438 260.7451,-350.0288\"/>\n",
       "</g>\n",
       "<!-- 7 -->\n",
       "<g id=\"node7\" class=\"node\">\n",
       "<title>7</title>\n",
       "<ellipse fill=\"none\" stroke=\"#000000\" cx=\"434.1961\" cy=\"-162\" rx=\"44.393\" ry=\"18\"/>\n",
       "<text text-anchor=\"middle\" x=\"434.1961\" y=\"-158.3\" font-family=\"Times,serif\" font-size=\"14.00\" fill=\"#000000\">[ 0, 2, 5 ]</text>\n",
       "</g>\n",
       "<!-- 6&#45;&gt;7 -->\n",
       "<g id=\"edge7\" class=\"edge\">\n",
       "<title>6&#45;&gt;7</title>\n",
       "<path fill=\"none\" stroke=\"#000000\" d=\"M387.7593,-283.2365C397.9686,-274.5658 408.347,-263.8789 415.1961,-252 428.1981,-229.4497 432.3456,-199.1288 433.6432,-180.0749\"/>\n",
       "<polygon fill=\"#000000\" stroke=\"#000000\" points=\"385.273,-280.7449 379.6786,-289.7424 389.6628,-286.1974 385.273,-280.7449\"/>\n",
       "</g>\n",
       "<!-- 6&#45;&gt;9 -->\n",
       "<g id=\"edge11\" class=\"edge\">\n",
       "<title>6&#45;&gt;9</title>\n",
       "<path fill=\"none\" stroke=\"#000000\" d=\"M298.303,-294.9727C249.4037,-285.0734 177.1814,-269.4461 115.1961,-252 108.8353,-250.2097 102.1141,-248.1005 95.6729,-245.9681\"/>\n",
       "<polygon fill=\"#000000\" stroke=\"#000000\" points=\"297.8778,-298.4572 308.3715,-296.9967 299.2574,-291.5945 297.8778,-298.4572\"/>\n",
       "</g>\n",
       "<!-- 12 -->\n",
       "<g id=\"node12\" class=\"node\">\n",
       "<title>12</title>\n",
       "<ellipse fill=\"none\" stroke=\"#000000\" cx=\"362.1961\" cy=\"-234\" rx=\"44.393\" ry=\"18\"/>\n",
       "<text text-anchor=\"middle\" x=\"362.1961\" y=\"-230.3\" font-family=\"Times,serif\" font-size=\"14.00\" fill=\"#000000\">[ 0, 2, 7 ]</text>\n",
       "</g>\n",
       "<!-- 6&#45;&gt;12 -->\n",
       "<g id=\"edge15\" class=\"edge\">\n",
       "<title>6&#45;&gt;12</title>\n",
       "<path fill=\"none\" stroke=\"#000000\" d=\"M357.9324,-277.8545C358.7632,-269.3097 359.6543,-260.1442 360.4059,-252.4133\"/>\n",
       "<polygon fill=\"#000000\" stroke=\"#000000\" points=\"354.4466,-277.5396 356.9625,-287.8314 361.4138,-278.217 354.4466,-277.5396\"/>\n",
       "</g>\n",
       "<!-- 16 -->\n",
       "<g id=\"node16\" class=\"node\">\n",
       "<title>16</title>\n",
       "<ellipse fill=\"none\" stroke=\"#000000\" cx=\"293.1961\" cy=\"-90\" rx=\"39.7935\" ry=\"18\"/>\n",
       "<text text-anchor=\"middle\" x=\"293.1961\" y=\"-86.3\" font-family=\"Times,serif\" font-size=\"14.00\" fill=\"#000000\">[ 0, 11 ]</text>\n",
       "</g>\n",
       "<!-- 7&#45;&gt;16 -->\n",
       "<g id=\"edge23\" class=\"edge\">\n",
       "<title>7&#45;&gt;16</title>\n",
       "<path fill=\"none\" stroke=\"#000000\" d=\"M397.3609,-143.1906C372.946,-130.7234 341.4919,-114.6617 319.5646,-103.4648\"/>\n",
       "<polygon fill=\"#000000\" stroke=\"#000000\" points=\"395.8412,-146.3444 406.339,-147.7751 399.0247,-140.1102 395.8412,-146.3444\"/>\n",
       "</g>\n",
       "<!-- 8&#45;&gt;9 -->\n",
       "<g id=\"edge12\" class=\"edge\">\n",
       "<title>8&#45;&gt;9</title>\n",
       "<path fill=\"none\" stroke=\"#000000\" d=\"M129.3402,-283.8389C114.5742,-272.8786 97.0886,-259.8996 83.6633,-249.9345\"/>\n",
       "<polygon fill=\"#000000\" stroke=\"#000000\" points=\"127.5528,-286.871 137.6686,-290.0209 131.725,-281.2502 127.5528,-286.871\"/>\n",
       "</g>\n",
       "<!-- 14 -->\n",
       "<g id=\"node14\" class=\"node\">\n",
       "<title>14</title>\n",
       "<ellipse fill=\"none\" stroke=\"#000000\" cx=\"159.1961\" cy=\"-234\" rx=\"35.194\" ry=\"18\"/>\n",
       "<text text-anchor=\"middle\" x=\"159.1961\" y=\"-230.3\" font-family=\"Times,serif\" font-size=\"14.00\" fill=\"#000000\">[ 0, 3 ]</text>\n",
       "</g>\n",
       "<!-- 8&#45;&gt;14 -->\n",
       "<g id=\"edge17\" class=\"edge\">\n",
       "<title>8&#45;&gt;14</title>\n",
       "<path fill=\"none\" stroke=\"#000000\" d=\"M159.1961,-277.5726C159.1961,-269.1084 159.1961,-260.0593 159.1961,-252.4133\"/>\n",
       "<polygon fill=\"#000000\" stroke=\"#000000\" points=\"155.6962,-277.8313 159.1961,-287.8314 162.6962,-277.8314 155.6962,-277.8313\"/>\n",
       "</g>\n",
       "<!-- 10 -->\n",
       "<g id=\"node10\" class=\"node\">\n",
       "<title>10</title>\n",
       "<ellipse fill=\"none\" stroke=\"#000000\" cx=\"112.1961\" cy=\"-162\" rx=\"35.194\" ry=\"18\"/>\n",
       "<text text-anchor=\"middle\" x=\"112.1961\" y=\"-158.3\" font-family=\"Times,serif\" font-size=\"14.00\" fill=\"#000000\">[ 0, 5 ]</text>\n",
       "</g>\n",
       "<!-- 9&#45;&gt;10 -->\n",
       "<g id=\"edge13\" class=\"edge\">\n",
       "<title>9&#45;&gt;10</title>\n",
       "<path fill=\"none\" stroke=\"#000000\" d=\"M80.1526,-208.1426C86.8142,-198.55 94.2022,-187.9111 100.2039,-179.2687\"/>\n",
       "<polygon fill=\"#000000\" stroke=\"#000000\" points=\"77.1289,-206.3607 74.2997,-216.5708 82.8785,-210.3535 77.1289,-206.3607\"/>\n",
       "</g>\n",
       "<!-- 15 -->\n",
       "<g id=\"node15\" class=\"node\">\n",
       "<title>15</title>\n",
       "<ellipse fill=\"none\" stroke=\"#000000\" cx=\"249.1961\" cy=\"-162\" rx=\"35.194\" ry=\"18\"/>\n",
       "<text text-anchor=\"middle\" x=\"249.1961\" y=\"-158.3\" font-family=\"Times,serif\" font-size=\"14.00\" fill=\"#000000\">[ 0, 7 ]</text>\n",
       "</g>\n",
       "<!-- 9&#45;&gt;15 -->\n",
       "<g id=\"edge21\" class=\"edge\">\n",
       "<title>9&#45;&gt;15</title>\n",
       "<path fill=\"none\" stroke=\"#000000\" d=\"M103.966,-217.9175C139.5568,-204.214 189.7408,-184.8919 220.8305,-172.9215\"/>\n",
       "<polygon fill=\"#000000\" stroke=\"#000000\" points=\"102.4171,-214.7633 94.3425,-221.6228 104.9323,-221.2958 102.4171,-214.7633\"/>\n",
       "</g>\n",
       "<!-- 10&#45;&gt;16 -->\n",
       "<g id=\"edge24\" class=\"edge\">\n",
       "<title>10&#45;&gt;16</title>\n",
       "<path fill=\"none\" stroke=\"#000000\" d=\"M149.5675,-147.134C183.2058,-133.753 232.005,-114.3412 263.168,-101.9449\"/>\n",
       "<polygon fill=\"#000000\" stroke=\"#000000\" points=\"148.0788,-143.9594 140.0807,-150.9078 150.6662,-150.4637 148.0788,-143.9594\"/>\n",
       "</g>\n",
       "<!-- 11&#45;&gt;15 -->\n",
       "<g id=\"edge18\" class=\"edge\">\n",
       "<title>11&#45;&gt;15</title>\n",
       "<path fill=\"none\" stroke=\"#000000\" d=\"M253.4597,-205.8545C252.629,-197.3097 251.7379,-188.1442 250.9863,-180.4133\"/>\n",
       "<polygon fill=\"#000000\" stroke=\"#000000\" points=\"249.9784,-206.217 254.4297,-215.8314 256.9455,-205.5396 249.9784,-206.217\"/>\n",
       "</g>\n",
       "<!-- 13 -->\n",
       "<g id=\"node13\" class=\"node\">\n",
       "<title>13</title>\n",
       "<ellipse fill=\"none\" stroke=\"#000000\" cx=\"337.1961\" cy=\"-162\" rx=\"35.194\" ry=\"18\"/>\n",
       "<text text-anchor=\"middle\" x=\"337.1961\" y=\"-158.3\" font-family=\"Times,serif\" font-size=\"14.00\" fill=\"#000000\">[ 0, 2 ]</text>\n",
       "</g>\n",
       "<!-- 12&#45;&gt;13 -->\n",
       "<g id=\"edge16\" class=\"edge\">\n",
       "<title>12&#45;&gt;13</title>\n",
       "<path fill=\"none\" stroke=\"#000000\" d=\"M352.5661,-206.2657C349.4947,-197.42 346.1789,-187.8704 343.416,-179.9134\"/>\n",
       "<polygon fill=\"#000000\" stroke=\"#000000\" points=\"349.301,-207.5327 355.8875,-215.8314 355.9137,-205.2366 349.301,-207.5327\"/>\n",
       "</g>\n",
       "<!-- 12&#45;&gt;15 -->\n",
       "<g id=\"edge19\" class=\"edge\">\n",
       "<title>12&#45;&gt;15</title>\n",
       "<path fill=\"none\" stroke=\"#000000\" d=\"M329.6889,-213.2875C310.9319,-201.3361 287.8423,-186.6241 271.2099,-176.0265\"/>\n",
       "<polygon fill=\"#000000\" stroke=\"#000000\" points=\"327.9174,-216.3088 338.2317,-218.7307 331.6789,-210.4053 327.9174,-216.3088\"/>\n",
       "</g>\n",
       "<!-- 13&#45;&gt;16 -->\n",
       "<g id=\"edge22\" class=\"edge\">\n",
       "<title>13&#45;&gt;16</title>\n",
       "<path fill=\"none\" stroke=\"#000000\" d=\"M321.2557,-135.9157C315.4862,-126.4747 309.1137,-116.047 303.9017,-107.5182\"/>\n",
       "<polygon fill=\"#000000\" stroke=\"#000000\" points=\"318.3439,-137.8631 326.5449,-144.5708 324.3169,-134.2129 318.3439,-137.8631\"/>\n",
       "</g>\n",
       "<!-- 14&#45;&gt;15 -->\n",
       "<g id=\"edge20\" class=\"edge\">\n",
       "<title>14&#45;&gt;15</title>\n",
       "<path fill=\"none\" stroke=\"#000000\" d=\"M186.2345,-212.3692C200.3872,-201.0471 217.3754,-187.4565 230.1369,-177.2473\"/>\n",
       "<polygon fill=\"#000000\" stroke=\"#000000\" points=\"183.905,-209.7506 178.2828,-218.7307 188.2779,-215.2167 183.905,-209.7506\"/>\n",
       "</g>\n",
       "<!-- 15&#45;&gt;16 -->\n",
       "<g id=\"edge25\" class=\"edge\">\n",
       "<title>15&#45;&gt;16</title>\n",
       "<path fill=\"none\" stroke=\"#000000\" d=\"M265.1365,-135.9157C270.906,-126.4747 277.2785,-116.047 282.4905,-107.5182\"/>\n",
       "<polygon fill=\"#000000\" stroke=\"#000000\" points=\"262.0753,-134.2129 259.8473,-144.5708 268.0483,-137.8631 262.0753,-134.2129\"/>\n",
       "</g>\n",
       "<!-- 17 -->\n",
       "<g id=\"node17\" class=\"node\">\n",
       "<title>17</title>\n",
       "<ellipse fill=\"none\" stroke=\"#000000\" cx=\"293.1961\" cy=\"-18\" rx=\"27\" ry=\"18\"/>\n",
       "<text text-anchor=\"middle\" x=\"293.1961\" y=\"-14.3\" font-family=\"Times,serif\" font-size=\"14.00\" fill=\"#000000\">[ 0 ]</text>\n",
       "</g>\n",
       "<!-- 16&#45;&gt;17 -->\n",
       "<g id=\"edge26\" class=\"edge\">\n",
       "<title>16&#45;&gt;17</title>\n",
       "<path fill=\"none\" stroke=\"#000000\" d=\"M293.1961,-61.5726C293.1961,-53.1084 293.1961,-44.0593 293.1961,-36.4133\"/>\n",
       "<polygon fill=\"#000000\" stroke=\"#000000\" points=\"289.6962,-61.8313 293.1961,-71.8314 296.6962,-61.8314 289.6962,-61.8313\"/>\n",
       "</g>\n",
       "</g>\n",
       "</svg>\n"
      ]
     },
     "execution_count": 31,
     "metadata": {
      "image/svg+xml": {
       "height": 500,
       "width": 500
      }
     },
     "output_type": "execute_result"
    }
   ],
   "source": [
    "JupyterSplashDot(hasseI0op(s,\\+));"
   ]
  },
  {
   "cell_type": "code",
   "execution_count": 32,
   "id": "86cf10de",
   "metadata": {
    "vscode": {
     "languageId": "gap 4"
    }
   },
   "outputs": [
    {
     "data": {
      "image/svg+xml": [
       "<?xml version=\"1.0\" encoding=\"UTF-8\" standalone=\"no\"?>\n",
       "<!DOCTYPE svg PUBLIC \"-//W3C//DTD SVG 1.1//EN\"\n",
       " \"http://www.w3.org/Graphics/SVG/1.1/DTD/svg11.dtd\">\n",
       "<!-- Generated by graphviz version 2.40.1 (20161225.0304)\n",
       " -->\n",
       "<!-- Title: NSGraph Pages: 1 -->\n",
       "<svg width=\"424pt\" height=\"476pt\"\n",
       " viewBox=\"0.00 0.00 424.39 476.00\" xmlns=\"http://www.w3.org/2000/svg\" xmlns:xlink=\"http://www.w3.org/1999/xlink\">\n",
       "<g id=\"graph0\" class=\"graph\" transform=\"scale(1 1) rotate(0) translate(4 472)\">\n",
       "<title>NSGraph</title>\n",
       "<polygon fill=\"#ffffff\" stroke=\"transparent\" points=\"-4,4 -4,-472 420.3922,-472 420.3922,4 -4,4\"/>\n",
       "<!-- 1 -->\n",
       "<g id=\"node1\" class=\"node\">\n",
       "<title>1</title>\n",
       "<ellipse fill=\"none\" stroke=\"#000000\" cx=\"150.1961\" cy=\"-450\" rx=\"53.8905\" ry=\"18\"/>\n",
       "<text text-anchor=\"middle\" x=\"150.1961\" y=\"-446.3\" font-family=\"Times,serif\" font-size=\"14.00\" fill=\"#000000\">[ 0, 1, 2, 3 ]</text>\n",
       "</g>\n",
       "<!-- 2 -->\n",
       "<g id=\"node2\" class=\"node\">\n",
       "<title>2</title>\n",
       "<ellipse fill=\"none\" stroke=\"#000000\" cx=\"44.1961\" cy=\"-378\" rx=\"44.393\" ry=\"18\"/>\n",
       "<text text-anchor=\"middle\" x=\"44.1961\" y=\"-374.3\" font-family=\"Times,serif\" font-size=\"14.00\" fill=\"#000000\">[ 0, 1, 2 ]</text>\n",
       "</g>\n",
       "<!-- 1&#45;&gt;2 -->\n",
       "<g id=\"edge1\" class=\"edge\">\n",
       "<title>1&#45;&gt;2</title>\n",
       "<path fill=\"none\" stroke=\"#000000\" d=\"M117.696,-427.9244C101.3578,-416.8268 81.9471,-403.6422 67.1771,-393.6098\"/>\n",
       "<polygon fill=\"#000000\" stroke=\"#000000\" points=\"116.1688,-431.1182 126.4076,-433.8418 120.102,-425.3277 116.1688,-431.1182\"/>\n",
       "</g>\n",
       "<!-- 3 -->\n",
       "<g id=\"node3\" class=\"node\">\n",
       "<title>3</title>\n",
       "<ellipse fill=\"none\" stroke=\"#000000\" cx=\"150.1961\" cy=\"-378\" rx=\"44.393\" ry=\"18\"/>\n",
       "<text text-anchor=\"middle\" x=\"150.1961\" y=\"-374.3\" font-family=\"Times,serif\" font-size=\"14.00\" fill=\"#000000\">[ 0, 1, 3 ]</text>\n",
       "</g>\n",
       "<!-- 1&#45;&gt;3 -->\n",
       "<g id=\"edge2\" class=\"edge\">\n",
       "<title>1&#45;&gt;3</title>\n",
       "<path fill=\"none\" stroke=\"#000000\" d=\"M150.1961,-421.5726C150.1961,-413.1084 150.1961,-404.0593 150.1961,-396.4133\"/>\n",
       "<polygon fill=\"#000000\" stroke=\"#000000\" points=\"146.6962,-421.8313 150.1961,-431.8314 153.6962,-421.8314 146.6962,-421.8313\"/>\n",
       "</g>\n",
       "<!-- 5 -->\n",
       "<g id=\"node5\" class=\"node\">\n",
       "<title>5</title>\n",
       "<ellipse fill=\"none\" stroke=\"#000000\" cx=\"266.1961\" cy=\"-378\" rx=\"53.8905\" ry=\"18\"/>\n",
       "<text text-anchor=\"middle\" x=\"266.1961\" y=\"-374.3\" font-family=\"Times,serif\" font-size=\"14.00\" fill=\"#000000\">[ 0, 2, 3, 5 ]</text>\n",
       "</g>\n",
       "<!-- 1&#45;&gt;5 -->\n",
       "<g id=\"edge5\" class=\"edge\">\n",
       "<title>1&#45;&gt;5</title>\n",
       "<path fill=\"none\" stroke=\"#000000\" d=\"M184.9133,-428.4514C202.775,-417.3648 224.1689,-404.0858 240.5239,-393.9345\"/>\n",
       "<polygon fill=\"#000000\" stroke=\"#000000\" points=\"182.5909,-425.7734 175.9402,-434.0209 186.2824,-431.7209 182.5909,-425.7734\"/>\n",
       "</g>\n",
       "<!-- 4 -->\n",
       "<g id=\"node4\" class=\"node\">\n",
       "<title>4</title>\n",
       "<ellipse fill=\"none\" stroke=\"#000000\" cx=\"43.1961\" cy=\"-306\" rx=\"35.194\" ry=\"18\"/>\n",
       "<text text-anchor=\"middle\" x=\"43.1961\" y=\"-302.3\" font-family=\"Times,serif\" font-size=\"14.00\" fill=\"#000000\">[ 0, 1 ]</text>\n",
       "</g>\n",
       "<!-- 2&#45;&gt;4 -->\n",
       "<g id=\"edge3\" class=\"edge\">\n",
       "<title>2&#45;&gt;4</title>\n",
       "<path fill=\"none\" stroke=\"#000000\" d=\"M43.8013,-349.5726C43.6837,-341.1084 43.558,-332.0593 43.4518,-324.4133\"/>\n",
       "<polygon fill=\"#000000\" stroke=\"#000000\" points=\"40.3051,-349.881 43.9437,-359.8314 47.3044,-349.7837 40.3051,-349.881\"/>\n",
       "</g>\n",
       "<!-- 6 -->\n",
       "<g id=\"node6\" class=\"node\">\n",
       "<title>6</title>\n",
       "<ellipse fill=\"none\" stroke=\"#000000\" cx=\"150.1961\" cy=\"-306\" rx=\"53.8905\" ry=\"18\"/>\n",
       "<text text-anchor=\"middle\" x=\"150.1961\" y=\"-302.3\" font-family=\"Times,serif\" font-size=\"14.00\" fill=\"#000000\">[ 0, 2, 5, 7 ]</text>\n",
       "</g>\n",
       "<!-- 2&#45;&gt;6 -->\n",
       "<g id=\"edge6\" class=\"edge\">\n",
       "<title>2&#45;&gt;6</title>\n",
       "<path fill=\"none\" stroke=\"#000000\" d=\"M75.5844,-356.6796C91.8481,-345.6326 111.388,-332.3602 126.3911,-322.1694\"/>\n",
       "<polygon fill=\"#000000\" stroke=\"#000000\" points=\"73.2413,-354.0401 66.9357,-362.5542 77.1745,-359.8306 73.2413,-354.0401\"/>\n",
       "</g>\n",
       "<!-- 3&#45;&gt;4 -->\n",
       "<g id=\"edge4\" class=\"edge\">\n",
       "<title>3&#45;&gt;4</title>\n",
       "<path fill=\"none\" stroke=\"#000000\" d=\"M118.5464,-356.703C101.1768,-345.0151 80.0969,-330.8304 64.6551,-320.4397\"/>\n",
       "<polygon fill=\"#000000\" stroke=\"#000000\" points=\"116.9913,-359.8752 127.2419,-362.5542 120.8993,-354.0676 116.9913,-359.8752\"/>\n",
       "</g>\n",
       "<!-- 8 -->\n",
       "<g id=\"node8\" class=\"node\">\n",
       "<title>8</title>\n",
       "<ellipse fill=\"none\" stroke=\"#000000\" cx=\"266.1961\" cy=\"-306\" rx=\"44.393\" ry=\"18\"/>\n",
       "<text text-anchor=\"middle\" x=\"266.1961\" y=\"-302.3\" font-family=\"Times,serif\" font-size=\"14.00\" fill=\"#000000\">[ 0, 3, 5 ]</text>\n",
       "</g>\n",
       "<!-- 3&#45;&gt;8 -->\n",
       "<g id=\"edge9\" class=\"edge\">\n",
       "<title>3&#45;&gt;8</title>\n",
       "<path fill=\"none\" stroke=\"#000000\" d=\"M183.042,-357.6129C201.7657,-345.9913 224.8271,-331.6773 241.9107,-321.0737\"/>\n",
       "<polygon fill=\"#000000\" stroke=\"#000000\" points=\"181.1641,-354.659 174.5135,-362.9064 184.8557,-360.6065 181.1641,-354.659\"/>\n",
       "</g>\n",
       "<!-- 9 -->\n",
       "<g id=\"node9\" class=\"node\">\n",
       "<title>9</title>\n",
       "<ellipse fill=\"none\" stroke=\"#000000\" cx=\"159.1961\" cy=\"-234\" rx=\"44.393\" ry=\"18\"/>\n",
       "<text text-anchor=\"middle\" x=\"159.1961\" y=\"-230.3\" font-family=\"Times,serif\" font-size=\"14.00\" fill=\"#000000\">[ 0, 5, 7 ]</text>\n",
       "</g>\n",
       "<!-- 4&#45;&gt;9 -->\n",
       "<g id=\"edge11\" class=\"edge\">\n",
       "<title>4&#45;&gt;9</title>\n",
       "<path fill=\"none\" stroke=\"#000000\" d=\"M74.1833,-286.7665C93.2155,-274.9535 117.2443,-260.039 134.8963,-249.0826\"/>\n",
       "<polygon fill=\"#000000\" stroke=\"#000000\" points=\"72.2127,-283.8703 65.562,-292.1177 75.9042,-289.8177 72.2127,-283.8703\"/>\n",
       "</g>\n",
       "<!-- 5&#45;&gt;6 -->\n",
       "<g id=\"edge7\" class=\"edge\">\n",
       "<title>5&#45;&gt;6</title>\n",
       "<path fill=\"none\" stroke=\"#000000\" d=\"M231.4788,-356.4514C213.6172,-345.3648 192.2233,-332.0858 175.8683,-321.9345\"/>\n",
       "<polygon fill=\"#000000\" stroke=\"#000000\" points=\"230.1097,-359.7209 240.4519,-362.0209 233.8013,-353.7734 230.1097,-359.7209\"/>\n",
       "</g>\n",
       "<!-- 5&#45;&gt;8 -->\n",
       "<g id=\"edge10\" class=\"edge\">\n",
       "<title>5&#45;&gt;8</title>\n",
       "<path fill=\"none\" stroke=\"#000000\" d=\"M266.1961,-349.5726C266.1961,-341.1084 266.1961,-332.0593 266.1961,-324.4133\"/>\n",
       "<polygon fill=\"#000000\" stroke=\"#000000\" points=\"262.6962,-349.8313 266.1961,-359.8314 269.6962,-349.8314 262.6962,-349.8313\"/>\n",
       "</g>\n",
       "<!-- 11 -->\n",
       "<g id=\"node11\" class=\"node\">\n",
       "<title>11</title>\n",
       "<ellipse fill=\"none\" stroke=\"#000000\" cx=\"372.1961\" cy=\"-306\" rx=\"44.393\" ry=\"18\"/>\n",
       "<text text-anchor=\"middle\" x=\"372.1961\" y=\"-302.3\" font-family=\"Times,serif\" font-size=\"14.00\" fill=\"#000000\">[ 0, 2, 3 ]</text>\n",
       "</g>\n",
       "<!-- 5&#45;&gt;11 -->\n",
       "<g id=\"edge16\" class=\"edge\">\n",
       "<title>5&#45;&gt;11</title>\n",
       "<path fill=\"none\" stroke=\"#000000\" d=\"M298.6962,-355.9244C315.0344,-344.8268 334.445,-331.6422 349.215,-321.6098\"/>\n",
       "<polygon fill=\"#000000\" stroke=\"#000000\" points=\"296.2901,-353.3277 289.9845,-361.8418 300.2233,-359.1182 296.2901,-353.3277\"/>\n",
       "</g>\n",
       "<!-- 7 -->\n",
       "<g id=\"node7\" class=\"node\">\n",
       "<title>7</title>\n",
       "<ellipse fill=\"none\" stroke=\"#000000\" cx=\"53.1961\" cy=\"-234\" rx=\"44.393\" ry=\"18\"/>\n",
       "<text text-anchor=\"middle\" x=\"53.1961\" y=\"-230.3\" font-family=\"Times,serif\" font-size=\"14.00\" fill=\"#000000\">[ 0, 2, 5 ]</text>\n",
       "</g>\n",
       "<!-- 6&#45;&gt;7 -->\n",
       "<g id=\"edge8\" class=\"edge\">\n",
       "<title>6&#45;&gt;7</title>\n",
       "<path fill=\"none\" stroke=\"#000000\" d=\"M119.4357,-283.1676C104.8311,-272.327 87.7375,-259.639 74.5732,-249.8675\"/>\n",
       "<polygon fill=\"#000000\" stroke=\"#000000\" points=\"117.5827,-286.151 127.6985,-289.3008 121.7549,-280.5301 117.5827,-286.151\"/>\n",
       "</g>\n",
       "<!-- 6&#45;&gt;9 -->\n",
       "<g id=\"edge12\" class=\"edge\">\n",
       "<title>6&#45;&gt;9</title>\n",
       "<path fill=\"none\" stroke=\"#000000\" d=\"M153.7143,-277.8545C154.7824,-269.3097 155.9281,-260.1442 156.8944,-252.4133\"/>\n",
       "<polygon fill=\"#000000\" stroke=\"#000000\" points=\"150.2346,-277.4744 152.4672,-287.8314 157.1806,-278.3427 150.2346,-277.4744\"/>\n",
       "</g>\n",
       "<!-- 12 -->\n",
       "<g id=\"node12\" class=\"node\">\n",
       "<title>12</title>\n",
       "<ellipse fill=\"none\" stroke=\"#000000\" cx=\"265.1961\" cy=\"-234\" rx=\"44.393\" ry=\"18\"/>\n",
       "<text text-anchor=\"middle\" x=\"265.1961\" y=\"-230.3\" font-family=\"Times,serif\" font-size=\"14.00\" fill=\"#000000\">[ 0, 2, 7 ]</text>\n",
       "</g>\n",
       "<!-- 6&#45;&gt;12 -->\n",
       "<g id=\"edge18\" class=\"edge\">\n",
       "<title>6&#45;&gt;12</title>\n",
       "<path fill=\"none\" stroke=\"#000000\" d=\"M184.3098,-284.6418C202.5105,-273.2466 224.4795,-259.4921 240.9261,-249.1951\"/>\n",
       "<polygon fill=\"#000000\" stroke=\"#000000\" points=\"182.3368,-281.7477 175.7183,-290.0209 186.0515,-287.6808 182.3368,-281.7477\"/>\n",
       "</g>\n",
       "<!-- 10 -->\n",
       "<g id=\"node10\" class=\"node\">\n",
       "<title>10</title>\n",
       "<ellipse fill=\"none\" stroke=\"#000000\" cx=\"89.1961\" cy=\"-162\" rx=\"35.194\" ry=\"18\"/>\n",
       "<text text-anchor=\"middle\" x=\"89.1961\" y=\"-158.3\" font-family=\"Times,serif\" font-size=\"14.00\" fill=\"#000000\">[ 0, 5 ]</text>\n",
       "</g>\n",
       "<!-- 7&#45;&gt;10 -->\n",
       "<g id=\"edge14\" class=\"edge\">\n",
       "<title>7&#45;&gt;10</title>\n",
       "<path fill=\"none\" stroke=\"#000000\" d=\"M66.672,-207.0481C71.2624,-197.8674 76.2725,-187.8471 80.3996,-179.593\"/>\n",
       "<polygon fill=\"#000000\" stroke=\"#000000\" points=\"63.4366,-205.6927 62.095,-216.2022 69.6976,-208.8232 63.4366,-205.6927\"/>\n",
       "</g>\n",
       "<!-- 13 -->\n",
       "<g id=\"node13\" class=\"node\">\n",
       "<title>13</title>\n",
       "<ellipse fill=\"none\" stroke=\"#000000\" cx=\"177.1961\" cy=\"-162\" rx=\"35.194\" ry=\"18\"/>\n",
       "<text text-anchor=\"middle\" x=\"177.1961\" y=\"-158.3\" font-family=\"Times,serif\" font-size=\"14.00\" fill=\"#000000\">[ 0, 2 ]</text>\n",
       "</g>\n",
       "<!-- 7&#45;&gt;13 -->\n",
       "<g id=\"edge19\" class=\"edge\">\n",
       "<title>7&#45;&gt;13</title>\n",
       "<path fill=\"none\" stroke=\"#000000\" d=\"M87.293,-214.2018C108.4792,-201.9001 135.1581,-186.4091 153.9318,-175.5083\"/>\n",
       "<polygon fill=\"#000000\" stroke=\"#000000\" points=\"85.479,-211.2078 78.5886,-219.256 88.9939,-217.2613 85.479,-211.2078\"/>\n",
       "</g>\n",
       "<!-- 8&#45;&gt;9 -->\n",
       "<g id=\"edge13\" class=\"edge\">\n",
       "<title>8&#45;&gt;9</title>\n",
       "<path fill=\"none\" stroke=\"#000000\" d=\"M234.7868,-284.8648C217.9109,-273.509 197.4777,-259.7596 182.1123,-249.4203\"/>\n",
       "<polygon fill=\"#000000\" stroke=\"#000000\" points=\"232.9913,-287.8752 243.2419,-290.5542 236.8993,-282.0676 232.9913,-287.8752\"/>\n",
       "</g>\n",
       "<!-- 14 -->\n",
       "<g id=\"node14\" class=\"node\">\n",
       "<title>14</title>\n",
       "<ellipse fill=\"none\" stroke=\"#000000\" cx=\"362.1961\" cy=\"-234\" rx=\"35.194\" ry=\"18\"/>\n",
       "<text text-anchor=\"middle\" x=\"362.1961\" y=\"-230.3\" font-family=\"Times,serif\" font-size=\"14.00\" fill=\"#000000\">[ 0, 3 ]</text>\n",
       "</g>\n",
       "<!-- 8&#45;&gt;14 -->\n",
       "<g id=\"edge22\" class=\"edge\">\n",
       "<title>8&#45;&gt;14</title>\n",
       "<path fill=\"none\" stroke=\"#000000\" d=\"M295.5622,-283.9754C310.699,-272.6228 328.7623,-259.0753 342.2611,-248.9512\"/>\n",
       "<polygon fill=\"#000000\" stroke=\"#000000\" points=\"293.4016,-281.2208 287.5016,-290.0209 297.6016,-286.8208 293.4016,-281.2208\"/>\n",
       "</g>\n",
       "<!-- 9&#45;&gt;10 -->\n",
       "<g id=\"edge15\" class=\"edge\">\n",
       "<title>9&#45;&gt;10</title>\n",
       "<path fill=\"none\" stroke=\"#000000\" d=\"M135.6175,-209.7477C125.6036,-199.4477 114.1887,-187.7067 105.1842,-178.4449\"/>\n",
       "<polygon fill=\"#000000\" stroke=\"#000000\" points=\"133.1267,-212.2068 142.6071,-216.937 138.1457,-207.3272 133.1267,-212.2068\"/>\n",
       "</g>\n",
       "<!-- 15 -->\n",
       "<g id=\"node15\" class=\"node\">\n",
       "<title>15</title>\n",
       "<ellipse fill=\"none\" stroke=\"#000000\" cx=\"265.1961\" cy=\"-162\" rx=\"35.194\" ry=\"18\"/>\n",
       "<text text-anchor=\"middle\" x=\"265.1961\" y=\"-158.3\" font-family=\"Times,serif\" font-size=\"14.00\" fill=\"#000000\">[ 0, 7 ]</text>\n",
       "</g>\n",
       "<!-- 9&#45;&gt;15 -->\n",
       "<g id=\"edge25\" class=\"edge\">\n",
       "<title>9&#45;&gt;15</title>\n",
       "<path fill=\"none\" stroke=\"#000000\" d=\"M190.5499,-212.703C207.7572,-201.0151 228.6402,-186.8304 243.9376,-176.4397\"/>\n",
       "<polygon fill=\"#000000\" stroke=\"#000000\" points=\"188.2413,-210.0401 181.9357,-218.5542 192.1745,-215.8306 188.2413,-210.0401\"/>\n",
       "</g>\n",
       "<!-- 16 -->\n",
       "<g id=\"node16\" class=\"node\">\n",
       "<title>16</title>\n",
       "<ellipse fill=\"none\" stroke=\"#000000\" cx=\"177.1961\" cy=\"-90\" rx=\"39.7935\" ry=\"18\"/>\n",
       "<text text-anchor=\"middle\" x=\"177.1961\" y=\"-86.3\" font-family=\"Times,serif\" font-size=\"14.00\" fill=\"#000000\">[ 0, 11 ]</text>\n",
       "</g>\n",
       "<!-- 10&#45;&gt;16 -->\n",
       "<g id=\"edge27\" class=\"edge\">\n",
       "<title>10&#45;&gt;16</title>\n",
       "<path fill=\"none\" stroke=\"#000000\" d=\"M115.9067,-140.1459C129.4655,-129.0523 145.6291,-115.8276 157.9521,-105.7451\"/>\n",
       "<polygon fill=\"#000000\" stroke=\"#000000\" points=\"113.3819,-137.6894 107.8586,-146.7307 117.8146,-143.1071 113.3819,-137.6894\"/>\n",
       "</g>\n",
       "<!-- 11&#45;&gt;12 -->\n",
       "<g id=\"edge17\" class=\"edge\">\n",
       "<title>11&#45;&gt;12</title>\n",
       "<path fill=\"none\" stroke=\"#000000\" d=\"M340.7868,-284.8648C323.9109,-273.509 303.4777,-259.7596 288.1123,-249.4203\"/>\n",
       "<polygon fill=\"#000000\" stroke=\"#000000\" points=\"338.9913,-287.8752 349.2419,-290.5542 342.8993,-282.0676 338.9913,-287.8752\"/>\n",
       "</g>\n",
       "<!-- 11&#45;&gt;14 -->\n",
       "<g id=\"edge21\" class=\"edge\">\n",
       "<title>11&#45;&gt;14</title>\n",
       "<path fill=\"none\" stroke=\"#000000\" d=\"M368.287,-277.8545C367.1002,-269.3097 365.8272,-260.1442 364.7535,-252.4133\"/>\n",
       "<polygon fill=\"#000000\" stroke=\"#000000\" points=\"364.8302,-278.408 369.6727,-287.8314 371.7636,-277.4449 364.8302,-278.408\"/>\n",
       "</g>\n",
       "<!-- 12&#45;&gt;13 -->\n",
       "<g id=\"edge20\" class=\"edge\">\n",
       "<title>12&#45;&gt;13</title>\n",
       "<path fill=\"none\" stroke=\"#000000\" d=\"M237.183,-211.0802C223.6935,-200.0434 207.8838,-187.1082 195.8822,-177.2886\"/>\n",
       "<polygon fill=\"#000000\" stroke=\"#000000\" points=\"235.2716,-214.0385 245.2275,-217.6621 239.7043,-208.6208 235.2716,-214.0385\"/>\n",
       "</g>\n",
       "<!-- 12&#45;&gt;15 -->\n",
       "<g id=\"edge23\" class=\"edge\">\n",
       "<title>12&#45;&gt;15</title>\n",
       "<path fill=\"none\" stroke=\"#000000\" d=\"M265.1961,-205.5726C265.1961,-197.1084 265.1961,-188.0593 265.1961,-180.4133\"/>\n",
       "<polygon fill=\"#000000\" stroke=\"#000000\" points=\"261.6962,-205.8313 265.1961,-215.8314 268.6962,-205.8314 261.6962,-205.8313\"/>\n",
       "</g>\n",
       "<!-- 13&#45;&gt;16 -->\n",
       "<g id=\"edge26\" class=\"edge\">\n",
       "<title>13&#45;&gt;16</title>\n",
       "<path fill=\"none\" stroke=\"#000000\" d=\"M177.1961,-133.5726C177.1961,-125.1084 177.1961,-116.0593 177.1961,-108.4133\"/>\n",
       "<polygon fill=\"#000000\" stroke=\"#000000\" points=\"173.6962,-133.8313 177.1961,-143.8314 180.6962,-133.8314 173.6962,-133.8313\"/>\n",
       "</g>\n",
       "<!-- 14&#45;&gt;15 -->\n",
       "<g id=\"edge24\" class=\"edge\">\n",
       "<title>14&#45;&gt;15</title>\n",
       "<path fill=\"none\" stroke=\"#000000\" d=\"M333.8418,-212.9535C318.262,-201.3891 299.3092,-187.3211 285.2688,-176.8993\"/>\n",
       "<polygon fill=\"#000000\" stroke=\"#000000\" points=\"331.9818,-215.9317 342.0976,-219.0816 336.154,-210.3109 331.9818,-215.9317\"/>\n",
       "</g>\n",
       "<!-- 15&#45;&gt;16 -->\n",
       "<g id=\"edge28\" class=\"edge\">\n",
       "<title>15&#45;&gt;16</title>\n",
       "<path fill=\"none\" stroke=\"#000000\" d=\"M238.4855,-140.1459C224.9266,-129.0523 208.7631,-115.8276 196.4401,-105.7451\"/>\n",
       "<polygon fill=\"#000000\" stroke=\"#000000\" points=\"236.5776,-143.1071 246.5335,-146.7307 241.0103,-137.6894 236.5776,-143.1071\"/>\n",
       "</g>\n",
       "<!-- 17 -->\n",
       "<g id=\"node17\" class=\"node\">\n",
       "<title>17</title>\n",
       "<ellipse fill=\"none\" stroke=\"#000000\" cx=\"177.1961\" cy=\"-18\" rx=\"27\" ry=\"18\"/>\n",
       "<text text-anchor=\"middle\" x=\"177.1961\" y=\"-14.3\" font-family=\"Times,serif\" font-size=\"14.00\" fill=\"#000000\">[ 0 ]</text>\n",
       "</g>\n",
       "<!-- 16&#45;&gt;17 -->\n",
       "<g id=\"edge29\" class=\"edge\">\n",
       "<title>16&#45;&gt;17</title>\n",
       "<path fill=\"none\" stroke=\"#000000\" d=\"M177.1961,-61.5726C177.1961,-53.1084 177.1961,-44.0593 177.1961,-36.4133\"/>\n",
       "<polygon fill=\"#000000\" stroke=\"#000000\" points=\"173.6962,-61.8313 177.1961,-71.8314 180.6962,-61.8314 173.6962,-61.8313\"/>\n",
       "</g>\n",
       "</g>\n",
       "</svg>\n"
      ]
     },
     "execution_count": 32,
     "metadata": {
      "image/svg+xml": {
       "height": 500,
       "width": 500
      }
     },
     "output_type": "execute_result"
    }
   ],
   "source": [
    "JupyterSplashDot(hasseI0(s));"
   ]
  },
  {
   "cell_type": "code",
   "execution_count": 33,
   "id": "003960b8",
   "metadata": {
    "vscode": {
     "languageId": "gap 4"
    }
   },
   "outputs": [],
   "source": [
    "s:=NumericalSemigroup(3,5,7);;"
   ]
  },
  {
   "cell_type": "code",
   "execution_count": 34,
   "id": "07d0fcec",
   "metadata": {
    "vscode": {
     "languageId": "gap 4"
    }
   },
   "outputs": [
    {
     "data": {
      "text/plain": [
       "true"
      ]
     },
     "execution_count": 34,
     "metadata": {
      "text/plain": ""
     },
     "output_type": "execute_result"
    }
   ],
   "source": [
    "IsIrreducible(s);"
   ]
  },
  {
   "cell_type": "code",
   "execution_count": 35,
   "id": "f5e3953f",
   "metadata": {
    "vscode": {
     "languageId": "gap 4"
    }
   },
   "outputs": [
    {
     "data": {
      "text/plain": [
       "[ [ 0, 1 ] ]"
      ]
     },
     "execution_count": 35,
     "metadata": {
      "text/plain": ""
     },
     "output_type": "execute_result"
    }
   ],
   "source": [
    "List(primesI0(s),MinimalGenerators);"
   ]
  },
  {
   "cell_type": "code",
   "execution_count": 36,
   "id": "86c76255",
   "metadata": {
    "vscode": {
     "languageId": "gap 4"
    }
   },
   "outputs": [
    {
     "data": {
      "text/plain": [
       "[ [ 0, 2 ], [ 0, 4 ] ]"
      ]
     },
     "execution_count": 36,
     "metadata": {
      "text/plain": ""
     },
     "output_type": "execute_result"
    }
   ],
   "source": [
    "List(quarksI0(s),MinimalGenerators);"
   ]
  },
  {
   "cell_type": "code",
   "execution_count": 37,
   "id": "dfc4bf5e",
   "metadata": {
    "vscode": {
     "languageId": "gap 4"
    }
   },
   "outputs": [
    {
     "data": {
      "image/svg+xml": [
       "<?xml version=\"1.0\" encoding=\"UTF-8\" standalone=\"no\"?>\n",
       "<!DOCTYPE svg PUBLIC \"-//W3C//DTD SVG 1.1//EN\"\n",
       " \"http://www.w3.org/Graphics/SVG/1.1/DTD/svg11.dtd\">\n",
       "<!-- Generated by graphviz version 2.40.1 (20161225.0304)\n",
       " -->\n",
       "<!-- Title: NSGraph Pages: 1 -->\n",
       "<svg width=\"184pt\" height=\"260pt\"\n",
       " viewBox=\"0.00 0.00 184.29 260.00\" xmlns=\"http://www.w3.org/2000/svg\" xmlns:xlink=\"http://www.w3.org/1999/xlink\">\n",
       "<g id=\"graph0\" class=\"graph\" transform=\"scale(1 1) rotate(0) translate(4 256)\">\n",
       "<title>NSGraph</title>\n",
       "<polygon fill=\"#ffffff\" stroke=\"transparent\" points=\"-4,4 -4,-256 180.293,-256 180.293,4 -4,4\"/>\n",
       "<!-- 1 -->\n",
       "<g id=\"node1\" class=\"node\">\n",
       "<title>1</title>\n",
       "<ellipse fill=\"none\" stroke=\"#000000\" cx=\"83.0969\" cy=\"-234\" rx=\"44.393\" ry=\"18\"/>\n",
       "<text text-anchor=\"middle\" x=\"83.0969\" y=\"-230.3\" font-family=\"Times,serif\" font-size=\"14.00\" fill=\"#000000\">[ 0, 1, 2 ]</text>\n",
       "</g>\n",
       "<!-- 2 -->\n",
       "<g id=\"node2\" class=\"node\">\n",
       "<title>2</title>\n",
       "<ellipse fill=\"none\" stroke=\"#000000\" cx=\"35.0969\" cy=\"-162\" rx=\"35.194\" ry=\"18\"/>\n",
       "<text text-anchor=\"middle\" x=\"35.0969\" y=\"-158.3\" font-family=\"Times,serif\" font-size=\"14.00\" fill=\"#000000\">[ 0, 1 ]</text>\n",
       "</g>\n",
       "<!-- 1&#45;&gt;2 -->\n",
       "<g id=\"edge1\" class=\"edge\">\n",
       "<title>1&#45;&gt;2</title>\n",
       "<path fill=\"none\" stroke=\"#000000\" d=\"M65.8586,-208.1426C59.4635,-198.55 52.371,-187.9111 46.6093,-179.2687\"/>\n",
       "<polygon fill=\"#000000\" stroke=\"#000000\" points=\"63.0182,-210.1918 71.4774,-216.5708 68.8426,-206.3088 63.0182,-210.1918\"/>\n",
       "</g>\n",
       "<!-- 3 -->\n",
       "<g id=\"node3\" class=\"node\">\n",
       "<title>3</title>\n",
       "<ellipse fill=\"none\" stroke=\"#000000\" cx=\"132.0969\" cy=\"-162\" rx=\"44.393\" ry=\"18\"/>\n",
       "<text text-anchor=\"middle\" x=\"132.0969\" y=\"-158.3\" font-family=\"Times,serif\" font-size=\"14.00\" fill=\"#000000\">[ 0, 2, 4 ]</text>\n",
       "</g>\n",
       "<!-- 1&#45;&gt;3 -->\n",
       "<g id=\"edge2\" class=\"edge\">\n",
       "<title>1&#45;&gt;3</title>\n",
       "<path fill=\"none\" stroke=\"#000000\" d=\"M100.6502,-208.2074C107.1273,-198.69 114.3106,-188.1349 120.1748,-179.5182\"/>\n",
       "<polygon fill=\"#000000\" stroke=\"#000000\" points=\"97.6912,-206.3345 94.9584,-216.5708 103.4782,-210.2729 97.6912,-206.3345\"/>\n",
       "</g>\n",
       "<!-- 4 -->\n",
       "<g id=\"node4\" class=\"node\">\n",
       "<title>4</title>\n",
       "<ellipse fill=\"none\" stroke=\"#000000\" cx=\"44.0969\" cy=\"-90\" rx=\"35.194\" ry=\"18\"/>\n",
       "<text text-anchor=\"middle\" x=\"44.0969\" y=\"-86.3\" font-family=\"Times,serif\" font-size=\"14.00\" fill=\"#000000\">[ 0, 4 ]</text>\n",
       "</g>\n",
       "<!-- 2&#45;&gt;4 -->\n",
       "<g id=\"edge3\" class=\"edge\">\n",
       "<title>2&#45;&gt;4</title>\n",
       "<path fill=\"none\" stroke=\"#000000\" d=\"M38.6151,-133.8545C39.6832,-125.3097 40.8289,-116.1442 41.7952,-108.4133\"/>\n",
       "<polygon fill=\"#000000\" stroke=\"#000000\" points=\"35.1354,-133.4744 37.368,-143.8314 42.0814,-134.3427 35.1354,-133.4744\"/>\n",
       "</g>\n",
       "<!-- 3&#45;&gt;4 -->\n",
       "<g id=\"edge4\" class=\"edge\">\n",
       "<title>3&#45;&gt;4</title>\n",
       "<path fill=\"none\" stroke=\"#000000\" d=\"M104.0838,-139.0802C90.5943,-128.0434 74.7846,-115.1082 62.783,-105.2886\"/>\n",
       "<polygon fill=\"#000000\" stroke=\"#000000\" points=\"102.1724,-142.0385 112.1283,-145.6621 106.6051,-136.6208 102.1724,-142.0385\"/>\n",
       "</g>\n",
       "<!-- 5 -->\n",
       "<g id=\"node5\" class=\"node\">\n",
       "<title>5</title>\n",
       "<ellipse fill=\"none\" stroke=\"#000000\" cx=\"132.0969\" cy=\"-90\" rx=\"35.194\" ry=\"18\"/>\n",
       "<text text-anchor=\"middle\" x=\"132.0969\" y=\"-86.3\" font-family=\"Times,serif\" font-size=\"14.00\" fill=\"#000000\">[ 0, 2 ]</text>\n",
       "</g>\n",
       "<!-- 3&#45;&gt;5 -->\n",
       "<g id=\"edge5\" class=\"edge\">\n",
       "<title>3&#45;&gt;5</title>\n",
       "<path fill=\"none\" stroke=\"#000000\" d=\"M132.0969,-133.5726C132.0969,-125.1084 132.0969,-116.0593 132.0969,-108.4133\"/>\n",
       "<polygon fill=\"#000000\" stroke=\"#000000\" points=\"128.597,-133.8313 132.0969,-143.8314 135.597,-133.8314 128.597,-133.8313\"/>\n",
       "</g>\n",
       "<!-- 6 -->\n",
       "<g id=\"node6\" class=\"node\">\n",
       "<title>6</title>\n",
       "<ellipse fill=\"none\" stroke=\"#000000\" cx=\"88.0969\" cy=\"-18\" rx=\"27\" ry=\"18\"/>\n",
       "<text text-anchor=\"middle\" x=\"88.0969\" y=\"-14.3\" font-family=\"Times,serif\" font-size=\"14.00\" fill=\"#000000\">[ 0 ]</text>\n",
       "</g>\n",
       "<!-- 4&#45;&gt;6 -->\n",
       "<g id=\"edge7\" class=\"edge\">\n",
       "<title>4&#45;&gt;6</title>\n",
       "<path fill=\"none\" stroke=\"#000000\" d=\"M59.9778,-64.013C65.932,-54.2698 72.5359,-43.4635 77.8468,-34.7729\"/>\n",
       "<polygon fill=\"#000000\" stroke=\"#000000\" points=\"56.9761,-62.2129 54.7481,-72.5708 62.9491,-65.8631 56.9761,-62.2129\"/>\n",
       "</g>\n",
       "<!-- 5&#45;&gt;6 -->\n",
       "<g id=\"edge6\" class=\"edge\">\n",
       "<title>5&#45;&gt;6</title>\n",
       "<path fill=\"none\" stroke=\"#000000\" d=\"M116.2159,-64.013C110.2618,-54.2698 103.6579,-43.4635 98.347,-34.7729\"/>\n",
       "<polygon fill=\"#000000\" stroke=\"#000000\" points=\"113.2447,-65.8631 121.4457,-72.5708 119.2177,-62.2129 113.2447,-65.8631\"/>\n",
       "</g>\n",
       "</g>\n",
       "</svg>\n"
      ]
     },
     "execution_count": 37,
     "metadata": {
      "image/svg+xml": {
       "height": 500,
       "width": 500
      }
     },
     "output_type": "execute_result"
    }
   ],
   "source": [
    "JupyterSplashDot(hasseI0(s));"
   ]
  },
  {
   "cell_type": "code",
   "execution_count": 51,
   "id": "4466d279",
   "metadata": {
    "vscode": {
     "languageId": "gap 4"
    }
   },
   "outputs": [],
   "source": [
    "s:=NumericalSemigroup(4,6,9);;"
   ]
  },
  {
   "cell_type": "code",
   "execution_count": 52,
   "id": "2c98988f",
   "metadata": {
    "vscode": {
     "languageId": "gap 4"
    }
   },
   "outputs": [
    {
     "data": {
      "text/plain": [
       "[ [ 0, 1 ], [ 0, 11 ] ]"
      ]
     },
     "execution_count": 52,
     "metadata": {
      "text/plain": ""
     },
     "output_type": "execute_result"
    }
   ],
   "source": [
    "List(primesI0(s),MinimalGenerators);"
   ]
  },
  {
   "cell_type": "code",
   "execution_count": 53,
   "id": "e013f726",
   "metadata": {
    "vscode": {
     "languageId": "gap 4"
    }
   },
   "outputs": [
    {
     "data": {
      "image/svg+xml": [
       "<?xml version=\"1.0\" encoding=\"UTF-8\" standalone=\"no\"?>\n",
       "<!DOCTYPE svg PUBLIC \"-//W3C//DTD SVG 1.1//EN\"\n",
       " \"http://www.w3.org/Graphics/SVG/1.1/DTD/svg11.dtd\">\n",
       "<!-- Generated by graphviz version 2.40.1 (20161225.0304)\n",
       " -->\n",
       "<!-- Title: NSGraph Pages: 1 -->\n",
       "<svg width=\"424pt\" height=\"476pt\"\n",
       " viewBox=\"0.00 0.00 424.39 476.00\" xmlns=\"http://www.w3.org/2000/svg\" xmlns:xlink=\"http://www.w3.org/1999/xlink\">\n",
       "<g id=\"graph0\" class=\"graph\" transform=\"scale(1 1) rotate(0) translate(4 472)\">\n",
       "<title>NSGraph</title>\n",
       "<polygon fill=\"#ffffff\" stroke=\"transparent\" points=\"-4,4 -4,-472 420.3922,-472 420.3922,4 -4,4\"/>\n",
       "<!-- 1 -->\n",
       "<g id=\"node1\" class=\"node\">\n",
       "<title>1</title>\n",
       "<ellipse fill=\"none\" stroke=\"#000000\" cx=\"150.1961\" cy=\"-450\" rx=\"53.8905\" ry=\"18\"/>\n",
       "<text text-anchor=\"middle\" x=\"150.1961\" y=\"-446.3\" font-family=\"Times,serif\" font-size=\"14.00\" fill=\"#000000\">[ 0, 1, 2, 3 ]</text>\n",
       "</g>\n",
       "<!-- 2 -->\n",
       "<g id=\"node2\" class=\"node\">\n",
       "<title>2</title>\n",
       "<ellipse fill=\"none\" stroke=\"#000000\" cx=\"44.1961\" cy=\"-378\" rx=\"44.393\" ry=\"18\"/>\n",
       "<text text-anchor=\"middle\" x=\"44.1961\" y=\"-374.3\" font-family=\"Times,serif\" font-size=\"14.00\" fill=\"#000000\">[ 0, 1, 2 ]</text>\n",
       "</g>\n",
       "<!-- 1&#45;&gt;2 -->\n",
       "<g id=\"edge1\" class=\"edge\">\n",
       "<title>1&#45;&gt;2</title>\n",
       "<path fill=\"none\" stroke=\"#000000\" d=\"M117.696,-427.9244C101.3578,-416.8268 81.9471,-403.6422 67.1771,-393.6098\"/>\n",
       "<polygon fill=\"#000000\" stroke=\"#000000\" points=\"116.1688,-431.1182 126.4076,-433.8418 120.102,-425.3277 116.1688,-431.1182\"/>\n",
       "</g>\n",
       "<!-- 3 -->\n",
       "<g id=\"node3\" class=\"node\">\n",
       "<title>3</title>\n",
       "<ellipse fill=\"none\" stroke=\"#000000\" cx=\"150.1961\" cy=\"-378\" rx=\"44.393\" ry=\"18\"/>\n",
       "<text text-anchor=\"middle\" x=\"150.1961\" y=\"-374.3\" font-family=\"Times,serif\" font-size=\"14.00\" fill=\"#000000\">[ 0, 1, 3 ]</text>\n",
       "</g>\n",
       "<!-- 1&#45;&gt;3 -->\n",
       "<g id=\"edge2\" class=\"edge\">\n",
       "<title>1&#45;&gt;3</title>\n",
       "<path fill=\"none\" stroke=\"#000000\" d=\"M150.1961,-421.5726C150.1961,-413.1084 150.1961,-404.0593 150.1961,-396.4133\"/>\n",
       "<polygon fill=\"#000000\" stroke=\"#000000\" points=\"146.6962,-421.8313 150.1961,-431.8314 153.6962,-421.8314 146.6962,-421.8313\"/>\n",
       "</g>\n",
       "<!-- 5 -->\n",
       "<g id=\"node5\" class=\"node\">\n",
       "<title>5</title>\n",
       "<ellipse fill=\"none\" stroke=\"#000000\" cx=\"266.1961\" cy=\"-378\" rx=\"53.8905\" ry=\"18\"/>\n",
       "<text text-anchor=\"middle\" x=\"266.1961\" y=\"-374.3\" font-family=\"Times,serif\" font-size=\"14.00\" fill=\"#000000\">[ 0, 2, 3, 5 ]</text>\n",
       "</g>\n",
       "<!-- 1&#45;&gt;5 -->\n",
       "<g id=\"edge5\" class=\"edge\">\n",
       "<title>1&#45;&gt;5</title>\n",
       "<path fill=\"none\" stroke=\"#000000\" d=\"M184.9133,-428.4514C202.775,-417.3648 224.1689,-404.0858 240.5239,-393.9345\"/>\n",
       "<polygon fill=\"#000000\" stroke=\"#000000\" points=\"182.5909,-425.7734 175.9402,-434.0209 186.2824,-431.7209 182.5909,-425.7734\"/>\n",
       "</g>\n",
       "<!-- 4 -->\n",
       "<g id=\"node4\" class=\"node\">\n",
       "<title>4</title>\n",
       "<ellipse fill=\"none\" stroke=\"#000000\" cx=\"43.1961\" cy=\"-306\" rx=\"35.194\" ry=\"18\"/>\n",
       "<text text-anchor=\"middle\" x=\"43.1961\" y=\"-302.3\" font-family=\"Times,serif\" font-size=\"14.00\" fill=\"#000000\">[ 0, 1 ]</text>\n",
       "</g>\n",
       "<!-- 2&#45;&gt;4 -->\n",
       "<g id=\"edge3\" class=\"edge\">\n",
       "<title>2&#45;&gt;4</title>\n",
       "<path fill=\"none\" stroke=\"#000000\" d=\"M43.8013,-349.5726C43.6837,-341.1084 43.558,-332.0593 43.4518,-324.4133\"/>\n",
       "<polygon fill=\"#000000\" stroke=\"#000000\" points=\"40.3051,-349.881 43.9437,-359.8314 47.3044,-349.7837 40.3051,-349.881\"/>\n",
       "</g>\n",
       "<!-- 6 -->\n",
       "<g id=\"node6\" class=\"node\">\n",
       "<title>6</title>\n",
       "<ellipse fill=\"none\" stroke=\"#000000\" cx=\"150.1961\" cy=\"-306\" rx=\"53.8905\" ry=\"18\"/>\n",
       "<text text-anchor=\"middle\" x=\"150.1961\" y=\"-302.3\" font-family=\"Times,serif\" font-size=\"14.00\" fill=\"#000000\">[ 0, 2, 5, 7 ]</text>\n",
       "</g>\n",
       "<!-- 2&#45;&gt;6 -->\n",
       "<g id=\"edge6\" class=\"edge\">\n",
       "<title>2&#45;&gt;6</title>\n",
       "<path fill=\"none\" stroke=\"#000000\" d=\"M75.5844,-356.6796C91.8481,-345.6326 111.388,-332.3602 126.3911,-322.1694\"/>\n",
       "<polygon fill=\"#000000\" stroke=\"#000000\" points=\"73.2413,-354.0401 66.9357,-362.5542 77.1745,-359.8306 73.2413,-354.0401\"/>\n",
       "</g>\n",
       "<!-- 3&#45;&gt;4 -->\n",
       "<g id=\"edge4\" class=\"edge\">\n",
       "<title>3&#45;&gt;4</title>\n",
       "<path fill=\"none\" stroke=\"#000000\" d=\"M118.5464,-356.703C101.1768,-345.0151 80.0969,-330.8304 64.6551,-320.4397\"/>\n",
       "<polygon fill=\"#000000\" stroke=\"#000000\" points=\"116.9913,-359.8752 127.2419,-362.5542 120.8993,-354.0676 116.9913,-359.8752\"/>\n",
       "</g>\n",
       "<!-- 8 -->\n",
       "<g id=\"node8\" class=\"node\">\n",
       "<title>8</title>\n",
       "<ellipse fill=\"none\" stroke=\"#000000\" cx=\"266.1961\" cy=\"-306\" rx=\"44.393\" ry=\"18\"/>\n",
       "<text text-anchor=\"middle\" x=\"266.1961\" y=\"-302.3\" font-family=\"Times,serif\" font-size=\"14.00\" fill=\"#000000\">[ 0, 3, 5 ]</text>\n",
       "</g>\n",
       "<!-- 3&#45;&gt;8 -->\n",
       "<g id=\"edge9\" class=\"edge\">\n",
       "<title>3&#45;&gt;8</title>\n",
       "<path fill=\"none\" stroke=\"#000000\" d=\"M183.042,-357.6129C201.7657,-345.9913 224.8271,-331.6773 241.9107,-321.0737\"/>\n",
       "<polygon fill=\"#000000\" stroke=\"#000000\" points=\"181.1641,-354.659 174.5135,-362.9064 184.8557,-360.6065 181.1641,-354.659\"/>\n",
       "</g>\n",
       "<!-- 9 -->\n",
       "<g id=\"node9\" class=\"node\">\n",
       "<title>9</title>\n",
       "<ellipse fill=\"none\" stroke=\"#000000\" cx=\"159.1961\" cy=\"-234\" rx=\"44.393\" ry=\"18\"/>\n",
       "<text text-anchor=\"middle\" x=\"159.1961\" y=\"-230.3\" font-family=\"Times,serif\" font-size=\"14.00\" fill=\"#000000\">[ 0, 5, 7 ]</text>\n",
       "</g>\n",
       "<!-- 4&#45;&gt;9 -->\n",
       "<g id=\"edge11\" class=\"edge\">\n",
       "<title>4&#45;&gt;9</title>\n",
       "<path fill=\"none\" stroke=\"#000000\" d=\"M74.1833,-286.7665C93.2155,-274.9535 117.2443,-260.039 134.8963,-249.0826\"/>\n",
       "<polygon fill=\"#000000\" stroke=\"#000000\" points=\"72.2127,-283.8703 65.562,-292.1177 75.9042,-289.8177 72.2127,-283.8703\"/>\n",
       "</g>\n",
       "<!-- 5&#45;&gt;6 -->\n",
       "<g id=\"edge7\" class=\"edge\">\n",
       "<title>5&#45;&gt;6</title>\n",
       "<path fill=\"none\" stroke=\"#000000\" d=\"M231.4788,-356.4514C213.6172,-345.3648 192.2233,-332.0858 175.8683,-321.9345\"/>\n",
       "<polygon fill=\"#000000\" stroke=\"#000000\" points=\"230.1097,-359.7209 240.4519,-362.0209 233.8013,-353.7734 230.1097,-359.7209\"/>\n",
       "</g>\n",
       "<!-- 5&#45;&gt;8 -->\n",
       "<g id=\"edge10\" class=\"edge\">\n",
       "<title>5&#45;&gt;8</title>\n",
       "<path fill=\"none\" stroke=\"#000000\" d=\"M266.1961,-349.5726C266.1961,-341.1084 266.1961,-332.0593 266.1961,-324.4133\"/>\n",
       "<polygon fill=\"#000000\" stroke=\"#000000\" points=\"262.6962,-349.8313 266.1961,-359.8314 269.6962,-349.8314 262.6962,-349.8313\"/>\n",
       "</g>\n",
       "<!-- 11 -->\n",
       "<g id=\"node11\" class=\"node\">\n",
       "<title>11</title>\n",
       "<ellipse fill=\"none\" stroke=\"#000000\" cx=\"372.1961\" cy=\"-306\" rx=\"44.393\" ry=\"18\"/>\n",
       "<text text-anchor=\"middle\" x=\"372.1961\" y=\"-302.3\" font-family=\"Times,serif\" font-size=\"14.00\" fill=\"#000000\">[ 0, 2, 3 ]</text>\n",
       "</g>\n",
       "<!-- 5&#45;&gt;11 -->\n",
       "<g id=\"edge16\" class=\"edge\">\n",
       "<title>5&#45;&gt;11</title>\n",
       "<path fill=\"none\" stroke=\"#000000\" d=\"M298.6962,-355.9244C315.0344,-344.8268 334.445,-331.6422 349.215,-321.6098\"/>\n",
       "<polygon fill=\"#000000\" stroke=\"#000000\" points=\"296.2901,-353.3277 289.9845,-361.8418 300.2233,-359.1182 296.2901,-353.3277\"/>\n",
       "</g>\n",
       "<!-- 7 -->\n",
       "<g id=\"node7\" class=\"node\">\n",
       "<title>7</title>\n",
       "<ellipse fill=\"none\" stroke=\"#000000\" cx=\"53.1961\" cy=\"-234\" rx=\"44.393\" ry=\"18\"/>\n",
       "<text text-anchor=\"middle\" x=\"53.1961\" y=\"-230.3\" font-family=\"Times,serif\" font-size=\"14.00\" fill=\"#000000\">[ 0, 2, 5 ]</text>\n",
       "</g>\n",
       "<!-- 6&#45;&gt;7 -->\n",
       "<g id=\"edge8\" class=\"edge\">\n",
       "<title>6&#45;&gt;7</title>\n",
       "<path fill=\"none\" stroke=\"#000000\" d=\"M119.4357,-283.1676C104.8311,-272.327 87.7375,-259.639 74.5732,-249.8675\"/>\n",
       "<polygon fill=\"#000000\" stroke=\"#000000\" points=\"117.5827,-286.151 127.6985,-289.3008 121.7549,-280.5301 117.5827,-286.151\"/>\n",
       "</g>\n",
       "<!-- 6&#45;&gt;9 -->\n",
       "<g id=\"edge12\" class=\"edge\">\n",
       "<title>6&#45;&gt;9</title>\n",
       "<path fill=\"none\" stroke=\"#000000\" d=\"M153.7143,-277.8545C154.7824,-269.3097 155.9281,-260.1442 156.8944,-252.4133\"/>\n",
       "<polygon fill=\"#000000\" stroke=\"#000000\" points=\"150.2346,-277.4744 152.4672,-287.8314 157.1806,-278.3427 150.2346,-277.4744\"/>\n",
       "</g>\n",
       "<!-- 12 -->\n",
       "<g id=\"node12\" class=\"node\">\n",
       "<title>12</title>\n",
       "<ellipse fill=\"none\" stroke=\"#000000\" cx=\"265.1961\" cy=\"-234\" rx=\"44.393\" ry=\"18\"/>\n",
       "<text text-anchor=\"middle\" x=\"265.1961\" y=\"-230.3\" font-family=\"Times,serif\" font-size=\"14.00\" fill=\"#000000\">[ 0, 2, 7 ]</text>\n",
       "</g>\n",
       "<!-- 6&#45;&gt;12 -->\n",
       "<g id=\"edge18\" class=\"edge\">\n",
       "<title>6&#45;&gt;12</title>\n",
       "<path fill=\"none\" stroke=\"#000000\" d=\"M184.3098,-284.6418C202.5105,-273.2466 224.4795,-259.4921 240.9261,-249.1951\"/>\n",
       "<polygon fill=\"#000000\" stroke=\"#000000\" points=\"182.3368,-281.7477 175.7183,-290.0209 186.0515,-287.6808 182.3368,-281.7477\"/>\n",
       "</g>\n",
       "<!-- 10 -->\n",
       "<g id=\"node10\" class=\"node\">\n",
       "<title>10</title>\n",
       "<ellipse fill=\"none\" stroke=\"#000000\" cx=\"89.1961\" cy=\"-162\" rx=\"35.194\" ry=\"18\"/>\n",
       "<text text-anchor=\"middle\" x=\"89.1961\" y=\"-158.3\" font-family=\"Times,serif\" font-size=\"14.00\" fill=\"#000000\">[ 0, 5 ]</text>\n",
       "</g>\n",
       "<!-- 7&#45;&gt;10 -->\n",
       "<g id=\"edge14\" class=\"edge\">\n",
       "<title>7&#45;&gt;10</title>\n",
       "<path fill=\"none\" stroke=\"#000000\" d=\"M66.672,-207.0481C71.2624,-197.8674 76.2725,-187.8471 80.3996,-179.593\"/>\n",
       "<polygon fill=\"#000000\" stroke=\"#000000\" points=\"63.4366,-205.6927 62.095,-216.2022 69.6976,-208.8232 63.4366,-205.6927\"/>\n",
       "</g>\n",
       "<!-- 13 -->\n",
       "<g id=\"node13\" class=\"node\">\n",
       "<title>13</title>\n",
       "<ellipse fill=\"none\" stroke=\"#000000\" cx=\"177.1961\" cy=\"-162\" rx=\"35.194\" ry=\"18\"/>\n",
       "<text text-anchor=\"middle\" x=\"177.1961\" y=\"-158.3\" font-family=\"Times,serif\" font-size=\"14.00\" fill=\"#000000\">[ 0, 2 ]</text>\n",
       "</g>\n",
       "<!-- 7&#45;&gt;13 -->\n",
       "<g id=\"edge19\" class=\"edge\">\n",
       "<title>7&#45;&gt;13</title>\n",
       "<path fill=\"none\" stroke=\"#000000\" d=\"M87.293,-214.2018C108.4792,-201.9001 135.1581,-186.4091 153.9318,-175.5083\"/>\n",
       "<polygon fill=\"#000000\" stroke=\"#000000\" points=\"85.479,-211.2078 78.5886,-219.256 88.9939,-217.2613 85.479,-211.2078\"/>\n",
       "</g>\n",
       "<!-- 8&#45;&gt;9 -->\n",
       "<g id=\"edge13\" class=\"edge\">\n",
       "<title>8&#45;&gt;9</title>\n",
       "<path fill=\"none\" stroke=\"#000000\" d=\"M234.7868,-284.8648C217.9109,-273.509 197.4777,-259.7596 182.1123,-249.4203\"/>\n",
       "<polygon fill=\"#000000\" stroke=\"#000000\" points=\"232.9913,-287.8752 243.2419,-290.5542 236.8993,-282.0676 232.9913,-287.8752\"/>\n",
       "</g>\n",
       "<!-- 14 -->\n",
       "<g id=\"node14\" class=\"node\">\n",
       "<title>14</title>\n",
       "<ellipse fill=\"none\" stroke=\"#000000\" cx=\"362.1961\" cy=\"-234\" rx=\"35.194\" ry=\"18\"/>\n",
       "<text text-anchor=\"middle\" x=\"362.1961\" y=\"-230.3\" font-family=\"Times,serif\" font-size=\"14.00\" fill=\"#000000\">[ 0, 3 ]</text>\n",
       "</g>\n",
       "<!-- 8&#45;&gt;14 -->\n",
       "<g id=\"edge22\" class=\"edge\">\n",
       "<title>8&#45;&gt;14</title>\n",
       "<path fill=\"none\" stroke=\"#000000\" d=\"M295.5622,-283.9754C310.699,-272.6228 328.7623,-259.0753 342.2611,-248.9512\"/>\n",
       "<polygon fill=\"#000000\" stroke=\"#000000\" points=\"293.4016,-281.2208 287.5016,-290.0209 297.6016,-286.8208 293.4016,-281.2208\"/>\n",
       "</g>\n",
       "<!-- 9&#45;&gt;10 -->\n",
       "<g id=\"edge15\" class=\"edge\">\n",
       "<title>9&#45;&gt;10</title>\n",
       "<path fill=\"none\" stroke=\"#000000\" d=\"M135.6175,-209.7477C125.6036,-199.4477 114.1887,-187.7067 105.1842,-178.4449\"/>\n",
       "<polygon fill=\"#000000\" stroke=\"#000000\" points=\"133.1267,-212.2068 142.6071,-216.937 138.1457,-207.3272 133.1267,-212.2068\"/>\n",
       "</g>\n",
       "<!-- 15 -->\n",
       "<g id=\"node15\" class=\"node\">\n",
       "<title>15</title>\n",
       "<ellipse fill=\"none\" stroke=\"#000000\" cx=\"265.1961\" cy=\"-162\" rx=\"35.194\" ry=\"18\"/>\n",
       "<text text-anchor=\"middle\" x=\"265.1961\" y=\"-158.3\" font-family=\"Times,serif\" font-size=\"14.00\" fill=\"#000000\">[ 0, 7 ]</text>\n",
       "</g>\n",
       "<!-- 9&#45;&gt;15 -->\n",
       "<g id=\"edge25\" class=\"edge\">\n",
       "<title>9&#45;&gt;15</title>\n",
       "<path fill=\"none\" stroke=\"#000000\" d=\"M190.5499,-212.703C207.7572,-201.0151 228.6402,-186.8304 243.9376,-176.4397\"/>\n",
       "<polygon fill=\"#000000\" stroke=\"#000000\" points=\"188.2413,-210.0401 181.9357,-218.5542 192.1745,-215.8306 188.2413,-210.0401\"/>\n",
       "</g>\n",
       "<!-- 16 -->\n",
       "<g id=\"node16\" class=\"node\">\n",
       "<title>16</title>\n",
       "<ellipse fill=\"none\" stroke=\"#000000\" cx=\"177.1961\" cy=\"-90\" rx=\"39.7935\" ry=\"18\"/>\n",
       "<text text-anchor=\"middle\" x=\"177.1961\" y=\"-86.3\" font-family=\"Times,serif\" font-size=\"14.00\" fill=\"#000000\">[ 0, 11 ]</text>\n",
       "</g>\n",
       "<!-- 10&#45;&gt;16 -->\n",
       "<g id=\"edge27\" class=\"edge\">\n",
       "<title>10&#45;&gt;16</title>\n",
       "<path fill=\"none\" stroke=\"#000000\" d=\"M115.9067,-140.1459C129.4655,-129.0523 145.6291,-115.8276 157.9521,-105.7451\"/>\n",
       "<polygon fill=\"#000000\" stroke=\"#000000\" points=\"113.3819,-137.6894 107.8586,-146.7307 117.8146,-143.1071 113.3819,-137.6894\"/>\n",
       "</g>\n",
       "<!-- 11&#45;&gt;12 -->\n",
       "<g id=\"edge17\" class=\"edge\">\n",
       "<title>11&#45;&gt;12</title>\n",
       "<path fill=\"none\" stroke=\"#000000\" d=\"M340.7868,-284.8648C323.9109,-273.509 303.4777,-259.7596 288.1123,-249.4203\"/>\n",
       "<polygon fill=\"#000000\" stroke=\"#000000\" points=\"338.9913,-287.8752 349.2419,-290.5542 342.8993,-282.0676 338.9913,-287.8752\"/>\n",
       "</g>\n",
       "<!-- 11&#45;&gt;14 -->\n",
       "<g id=\"edge21\" class=\"edge\">\n",
       "<title>11&#45;&gt;14</title>\n",
       "<path fill=\"none\" stroke=\"#000000\" d=\"M368.287,-277.8545C367.1002,-269.3097 365.8272,-260.1442 364.7535,-252.4133\"/>\n",
       "<polygon fill=\"#000000\" stroke=\"#000000\" points=\"364.8302,-278.408 369.6727,-287.8314 371.7636,-277.4449 364.8302,-278.408\"/>\n",
       "</g>\n",
       "<!-- 12&#45;&gt;13 -->\n",
       "<g id=\"edge20\" class=\"edge\">\n",
       "<title>12&#45;&gt;13</title>\n",
       "<path fill=\"none\" stroke=\"#000000\" d=\"M237.183,-211.0802C223.6935,-200.0434 207.8838,-187.1082 195.8822,-177.2886\"/>\n",
       "<polygon fill=\"#000000\" stroke=\"#000000\" points=\"235.2716,-214.0385 245.2275,-217.6621 239.7043,-208.6208 235.2716,-214.0385\"/>\n",
       "</g>\n",
       "<!-- 12&#45;&gt;15 -->\n",
       "<g id=\"edge23\" class=\"edge\">\n",
       "<title>12&#45;&gt;15</title>\n",
       "<path fill=\"none\" stroke=\"#000000\" d=\"M265.1961,-205.5726C265.1961,-197.1084 265.1961,-188.0593 265.1961,-180.4133\"/>\n",
       "<polygon fill=\"#000000\" stroke=\"#000000\" points=\"261.6962,-205.8313 265.1961,-215.8314 268.6962,-205.8314 261.6962,-205.8313\"/>\n",
       "</g>\n",
       "<!-- 13&#45;&gt;16 -->\n",
       "<g id=\"edge26\" class=\"edge\">\n",
       "<title>13&#45;&gt;16</title>\n",
       "<path fill=\"none\" stroke=\"#000000\" d=\"M177.1961,-133.5726C177.1961,-125.1084 177.1961,-116.0593 177.1961,-108.4133\"/>\n",
       "<polygon fill=\"#000000\" stroke=\"#000000\" points=\"173.6962,-133.8313 177.1961,-143.8314 180.6962,-133.8314 173.6962,-133.8313\"/>\n",
       "</g>\n",
       "<!-- 14&#45;&gt;15 -->\n",
       "<g id=\"edge24\" class=\"edge\">\n",
       "<title>14&#45;&gt;15</title>\n",
       "<path fill=\"none\" stroke=\"#000000\" d=\"M333.8418,-212.9535C318.262,-201.3891 299.3092,-187.3211 285.2688,-176.8993\"/>\n",
       "<polygon fill=\"#000000\" stroke=\"#000000\" points=\"331.9818,-215.9317 342.0976,-219.0816 336.154,-210.3109 331.9818,-215.9317\"/>\n",
       "</g>\n",
       "<!-- 15&#45;&gt;16 -->\n",
       "<g id=\"edge28\" class=\"edge\">\n",
       "<title>15&#45;&gt;16</title>\n",
       "<path fill=\"none\" stroke=\"#000000\" d=\"M238.4855,-140.1459C224.9266,-129.0523 208.7631,-115.8276 196.4401,-105.7451\"/>\n",
       "<polygon fill=\"#000000\" stroke=\"#000000\" points=\"236.5776,-143.1071 246.5335,-146.7307 241.0103,-137.6894 236.5776,-143.1071\"/>\n",
       "</g>\n",
       "<!-- 17 -->\n",
       "<g id=\"node17\" class=\"node\">\n",
       "<title>17</title>\n",
       "<ellipse fill=\"none\" stroke=\"#000000\" cx=\"177.1961\" cy=\"-18\" rx=\"27\" ry=\"18\"/>\n",
       "<text text-anchor=\"middle\" x=\"177.1961\" y=\"-14.3\" font-family=\"Times,serif\" font-size=\"14.00\" fill=\"#000000\">[ 0 ]</text>\n",
       "</g>\n",
       "<!-- 16&#45;&gt;17 -->\n",
       "<g id=\"edge29\" class=\"edge\">\n",
       "<title>16&#45;&gt;17</title>\n",
       "<path fill=\"none\" stroke=\"#000000\" d=\"M177.1961,-61.5726C177.1961,-53.1084 177.1961,-44.0593 177.1961,-36.4133\"/>\n",
       "<polygon fill=\"#000000\" stroke=\"#000000\" points=\"173.6962,-61.8313 177.1961,-71.8314 180.6962,-61.8314 173.6962,-61.8313\"/>\n",
       "</g>\n",
       "</g>\n",
       "</svg>\n"
      ]
     },
     "execution_count": 53,
     "metadata": {
      "image/svg+xml": {
       "height": 500,
       "width": 500
      }
     },
     "output_type": "execute_result"
    }
   ],
   "source": [
    "JupyterSplashDot(hasseI0(s));"
   ]
  },
  {
   "cell_type": "markdown",
   "id": "41a9003a",
   "metadata": {},
   "source": [
    "Oversemigroups correspond with idempotent ideals."
   ]
  },
  {
   "cell_type": "code",
   "execution_count": 58,
   "id": "4f6e145e",
   "metadata": {
    "vscode": {
     "languageId": "gap 4"
    }
   },
   "outputs": [
    {
     "data": {
      "text/plain": [
       "[ [ 0 ], [ 0, 1, 2, 3 ], [ 0, 2 ], [ 0, 2, 3, 5 ], [ 0, 2, 5, 7 ], [ 0, 2, 7 ], [ 0, 3 ], [ 0, 3, 5 ], [ 0, 5 ], [ 0, 5, 7 ], [ 0, 7 ], [ 0, 11 ] ]"
      ]
     },
     "execution_count": 58,
     "metadata": {
      "text/plain": ""
     },
     "output_type": "execute_result"
    }
   ],
   "source": [
    "os:=OverSemigroups(s);;\n",
    "Set(List(List(os,s->AperyList(s,4)),ap->ap+s),MinimalGenerators);"
   ]
  },
  {
   "cell_type": "code",
   "execution_count": 59,
   "id": "e61b22a4",
   "metadata": {
    "vscode": {
     "languageId": "gap 4"
    }
   },
   "outputs": [
    {
     "data": {
      "text/plain": [
       "[ [ 0 ], [ 0, 1, 2, 3 ], [ 0, 2 ], [ 0, 2, 3, 5 ], [ 0, 2, 5, 7 ], [ 0, 2, 7 ], [ 0, 3 ], [ 0, 3, 5 ], [ 0, 5 ], [ 0, 5, 7 ], [ 0, 7 ], [ 0, 11 ] ]"
      ]
     },
     "execution_count": 59,
     "metadata": {
      "text/plain": ""
     },
     "output_type": "execute_result"
    }
   ],
   "source": [
    "Set(Filtered(I0(s),i->i+i=i),MinimalGenerators);"
   ]
  },
  {
   "cell_type": "markdown",
   "id": "c3fb9c9f",
   "metadata": {},
   "source": [
    "## Decomposition into irreducibles"
   ]
  },
  {
   "cell_type": "markdown",
   "id": "5a2fd2ee",
   "metadata": {},
   "source": [
    "Let us take advantage of the Kunz coordinates to write a function that for a given ideal $I$ of $S$, finds all possible expressions of the form $I=J+K$ with $J$ and $K$ ideals of $S$ different from $I$. The output will be the Apéry sets of the possible $J$ and $K$."
   ]
  },
  {
   "cell_type": "code",
   "execution_count": 41,
   "id": "bdba0a61",
   "metadata": {
    "vscode": {
     "languageId": "gap 4"
    }
   },
   "outputs": [
    {
     "data": {
      "text/plain": [
       "function( i ) ... end"
      ]
     },
     "execution_count": 41,
     "metadata": {
      "text/plain": ""
     },
     "output_type": "execute_result"
    }
   ],
   "source": [
    "decompose_proper:=function(i)\n",
    "    local s, ap, m, k, c, kc;\n",
    "    s:=AmbientNumericalSemigroupOfIdeal(i);\n",
    "    kc:=Concatenation([0],KunzCoordinates(s));\n",
    "    m:=Multiplicity(s);\n",
    "    ap:=AperyList(i,m);    \n",
    "    k:=List([1..m], i-> (ap[i]-(i-1))/m);\n",
    "    c:=Cartesian(List([1..m],i->[k[i]..kc[i]]));\n",
    "    c:=Filtered(c, k->isaperylistideal(List([1..m],i->k[i]*m+i-1),s));\n",
    "    c:=Difference(List(c, k->List([1..m],i->k[i]*m+i-1)), [ap,AperyList(s)]);\n",
    "    c:=Filtered(Cartesian(c,c), a-> (a[1]+s)+(a[2]+s)=i);\n",
    "    return c;\n",
    "end;"
   ]
  },
  {
   "cell_type": "markdown",
   "id": "4460dc26",
   "metadata": {},
   "source": [
    "With this, we can recurrently decompose $I$ as a sum of irreducibles (the output will be lists of Apéry sets of irreducible ideals)."
   ]
  },
  {
   "cell_type": "code",
   "execution_count": 42,
   "id": "6c175c78",
   "metadata": {
    "vscode": {
     "languageId": "gap 4"
    }
   },
   "outputs": [
    {
     "data": {
      "text/plain": [
       "function( i ) ... end"
      ]
     },
     "execution_count": 42,
     "metadata": {
      "text/plain": ""
     },
     "output_type": "execute_result"
    }
   ],
   "source": [
    "factorizations_irr:=function(i)\n",
    "    local lsp, fs, f, p, irs, sp, q,s;\n",
    "\n",
    "    s:=AmbientNumericalSemigroupOfIdeal(i);\n",
    "    lsp:=decompose_proper(i);\n",
    "    if lsp=[] then \n",
    "        return [[AperyList(i)]];\n",
    "    fi;\n",
    "    irs:=[];\n",
    "    fs:=[];\n",
    "    while lsp<>[] do\n",
    "        f:=lsp[1];\n",
    "        p:=First(f,a->not(a in irs));\n",
    "        if p=fail then\n",
    "            Remove(lsp,1);\n",
    "            AddSet(fs,SortedList(f));\n",
    "            # Print(\"new factorization \",f,\"\\n\");\n",
    "        else\n",
    "            sp:=decompose_proper(p+s);\n",
    "            if sp=[] then\n",
    "                Add(irs,p);\n",
    "                # Print(\"new irreducible \",p,\"\\n\");\n",
    "            else \n",
    "                Remove(lsp,1);\n",
    "                Remove(f,Position(f,p));\n",
    "                for q in sp do\n",
    "                    Add(lsp,Concatenation(f,q));\n",
    "                od;\n",
    "            fi;\n",
    "        fi;\n",
    "    od;\n",
    "    return fs;\n",
    "end;"
   ]
  },
  {
   "cell_type": "markdown",
   "id": "0762480b",
   "metadata": {},
   "source": [
    "Let us see how this works with an example."
   ]
  },
  {
   "cell_type": "code",
   "execution_count": 43,
   "id": "f82f3be1",
   "metadata": {
    "vscode": {
     "languageId": "gap 4"
    }
   },
   "outputs": [],
   "source": [
    "s:=NumericalSemigroup(3,5,7);;"
   ]
  },
  {
   "cell_type": "code",
   "execution_count": 44,
   "id": "5784c6a7",
   "metadata": {
    "vscode": {
     "languageId": "gap 4"
    }
   },
   "outputs": [],
   "source": [
    "i:=[0,4]+s;;"
   ]
  },
  {
   "cell_type": "code",
   "execution_count": 45,
   "id": "4902b979",
   "metadata": {
    "vscode": {
     "languageId": "gap 4"
    }
   },
   "outputs": [
    {
     "data": {
      "text/plain": [
       "[ [ [ 0, 4, 5 ] ] ]"
      ]
     },
     "execution_count": 45,
     "metadata": {
      "text/plain": ""
     },
     "output_type": "execute_result"
    }
   ],
   "source": [
    "fs:=factorizations_irr(i);"
   ]
  },
  {
   "cell_type": "markdown",
   "id": "63d35907",
   "metadata": {},
   "source": [
    "This, in particular, means that $\\{0,4\\}+S$ is irreducible."
   ]
  },
  {
   "cell_type": "code",
   "execution_count": 46,
   "id": "06be25f7",
   "metadata": {
    "vscode": {
     "languageId": "gap 4"
    }
   },
   "outputs": [],
   "source": [
    "i:=[0,2,4]+s;;"
   ]
  },
  {
   "cell_type": "code",
   "execution_count": 47,
   "id": "cbb6c3ad",
   "metadata": {
    "vscode": {
     "languageId": "gap 4"
    }
   },
   "outputs": [
    {
     "data": {
      "text/plain": [
       "[ [ [ 0, 4, 5 ], [ 0, 7, 2 ] ], [ [ 0, 7, 2 ], [ 0, 7, 2 ] ] ]"
      ]
     },
     "execution_count": 47,
     "metadata": {
      "text/plain": ""
     },
     "output_type": "execute_result"
    }
   ],
   "source": [
    "fs:=factorizations_irr(i);"
   ]
  },
  {
   "cell_type": "code",
   "execution_count": 48,
   "id": "040288e0",
   "metadata": {
    "vscode": {
     "languageId": "gap 4"
    }
   },
   "outputs": [
    {
     "data": {
      "text/plain": [
       "[ [ [ 0, 4 ], [ 0, 2 ] ], [ [ 0, 2 ], [ 0, 2 ] ] ]"
      ]
     },
     "execution_count": 48,
     "metadata": {
      "text/plain": ""
     },
     "output_type": "execute_result"
    }
   ],
   "source": [
    "List(fs,f->List(f,a->MinimalGenerators(a+s)));"
   ]
  },
  {
   "cell_type": "markdown",
   "id": "8803c1bc",
   "metadata": {},
   "source": [
    "That is, $\\{0,2,4\\}+S$ has two different factorizations in terms of irreducibles of $\\mathcal{I}_0(S)$: $\\{0,2,4\\}+S=(\\{0,4\\}+S)+(\\{0,2\\}+S)=(\\{0,2\\}+S)+(\\{0,2\\}+S)$.\n",
    "\n",
    "In particular, all factorizations of $\\{0,2,3\\}+S$ have length two (two irreducibles are involved in each factorization)."
   ]
  },
  {
   "cell_type": "code",
   "execution_count": 50,
   "id": "aa3eecc8",
   "metadata": {
    "vscode": {
     "languageId": "gap 4"
    }
   },
   "outputs": [
    {
     "name": "stdout",
     "output_type": "stream",
     "text": [
      "[ 0, 1, 2 ] lengths of factorizations [ 2, 3 ]\n",
      "[ 0, 1 ] lengths of factorizations [ 1 ]\n",
      "[ 0, 2, 4 ] lengths of factorizations [ 2 ]\n",
      "[ 0, 2 ] lengths of factorizations [ 1 ]\n",
      "[ 0, 4 ] lengths of factorizations [ 1 ]\n"
     ]
    }
   ],
   "source": [
    "is:=I0(s);;\n",
    "for i in Difference(is,[0+s]) do\n",
    "    Print(MinimalGenerators(i),\" lengths of factorizations \",Set(factorizations_irr(i),Length),\"\\n\");\n",
    "od;"
   ]
  },
  {
   "cell_type": "code",
   "execution_count": 75,
   "id": "d6d31179",
   "metadata": {
    "vscode": {
     "languageId": "gap 4"
    }
   },
   "outputs": [
    {
     "data": {
      "text/plain": [
       "[ [ [ 0, 1 ], [ 0, 5 ], [ 0, 3 ] ], [ [ 0, 1 ], [ 0, 5 ], [ 0, 3 ], [ 0, 7 ] ], [ [ 0, 1 ], [ 0, 3 ] ] ]"
      ]
     },
     "execution_count": 75,
     "metadata": {
      "text/plain": ""
     },
     "output_type": "execute_result"
    }
   ],
   "source": [
    "s:=NumericalSemigroup(4,6,9);;\n",
    "i:=[0,1,3]+s;;\n",
    "fs:=factorizations_irr(i);;\n",
    "List(fs,f->List(f,a->MinimalGenerators(a+s)));"
   ]
  }
 ],
 "metadata": {
  "kernelspec": {
   "display_name": "GAP 4",
   "language": "gap",
   "name": "gap-4"
  },
  "language_info": {
   "codemirror_mode": "gap",
   "file_extension": ".g",
   "mimetype": "text/x-gap",
   "name": "GAP 4",
   "nbconvert_exporter": "",
   "pygments_lexer": "gap",
   "version": "4.10.0"
  }
 },
 "nbformat": 4,
 "nbformat_minor": 5
}
