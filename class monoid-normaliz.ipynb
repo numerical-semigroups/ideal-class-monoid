{
 "cells": [
  {
   "cell_type": "markdown",
   "id": "50334419",
   "metadata": {},
   "source": [
    "# Computing the set of normalized ideals of a numerical semigroup with Normaliz"
   ]
  },
  {
   "cell_type": "markdown",
   "id": "1a334fd9",
   "metadata": {},
   "source": [
    "In this notebook, we present an alternative for computing the ideal class monoid of a numerical semigroups, using [normalizinterface](https://gap-packages.github.io/NormalizInterface/) to solve the system of inequalities proposed in Theorem 4.4 in the paper *Apéry sets and the class monoid of ideals of a numerical semigroup* by L. Casabella, M. D'Anna and P. A. García-Sánchez.\n",
    "\n",
    "We start by loading [`numericalsgps`](https://www.gap-system.org/Packages/numericalsgps.html), a [`GAP`](https://www.gap-system.org) package that allows to make computations with numerical and affine semigroups, and tell `numericalsgs` to benefit from `normalizinterface`"
   ]
  },
  {
   "cell_type": "code",
   "execution_count": 3,
   "id": "f8d88947",
   "metadata": {
    "vscode": {
     "languageId": "gap"
    }
   },
   "outputs": [
    {
     "data": {
      "text/plain": [
       "true"
      ]
     },
     "execution_count": 2,
     "metadata": {
      "text/plain": ""
     },
     "output_type": "execute_result"
    },
    {
     "data": {
      "text/plain": [
       "true"
      ]
     },
     "execution_count": 3,
     "metadata": {
      "text/plain": ""
     },
     "output_type": "execute_result"
    }
   ],
   "source": [
    "LoadPackage(\"num\");\n",
    "NumSgpsUseNormaliz();"
   ]
  },
  {
   "cell_type": "markdown",
   "id": "f149a8d7",
   "metadata": {},
   "source": [
    "We start by writing a function that computes the inequalities in [Normaliz](https://www.normaliz.uni-osnabrueck.de/) `inhom_inequalities` notation."
   ]
  },
  {
   "cell_type": "code",
   "execution_count": 5,
   "id": "57dc2a42",
   "metadata": {
    "vscode": {
     "languageId": "gap"
    }
   },
   "outputs": [
    {
     "data": {
      "text/plain": [
       "function( s ) ... end"
      ]
     },
     "execution_count": 5,
     "metadata": {
      "text/plain": ""
     },
     "output_type": "execute_result"
    }
   ],
   "source": [
    "I0ineq:=function(s)\n",
    "    local k, ineq, m, i,j, id;\n",
    "    m:=Multiplicity(s);\n",
    "    id:=IdentityMat(m);\n",
    "    ineq:=id{[1..m-1]}; # x_i>=0 para todo i in {1,...,m-1}\n",
    "    k:=KunzCoordinates(s);\n",
    "    for i in [1..m-1] do\n",
    "        Add(ineq, -id[i]+k[i]*id[m]); # first inequalities from Th. 4.4, x_i<=k_i\n",
    "    od;\n",
    "    for i in [1..m-1] do\n",
    "        for j in [1..m-1] do\n",
    "            if (i+j)< m then\n",
    "                Add(ineq, k[j]*id[m]+id[i]-id[i+j]); #second family of inequalities Th. 4.4\n",
    "            elif (i+j)>m then\n",
    "                Add(ineq, (k[j]+1)*id[m]+id[i]-id[i+j-m]); #third family\n",
    "            fi;\n",
    "        od;\n",
    "    od;\n",
    "    return ineq;\n",
    "end;"
   ]
  },
  {
   "cell_type": "markdown",
   "id": "24dae2f0",
   "metadata": {},
   "source": [
    "Then we write a procedure to translate from Kunz coordinates to ideal of a numerical semigroup."
   ]
  },
  {
   "cell_type": "code",
   "execution_count": 4,
   "id": "019095e7",
   "metadata": {
    "vscode": {
     "languageId": "gap"
    }
   },
   "outputs": [
    {
     "data": {
      "text/plain": [
       "function( k, s ) ... end"
      ]
     },
     "execution_count": 4,
     "metadata": {
      "text/plain": ""
     },
     "output_type": "execute_result"
    }
   ],
   "source": [
    "idealByKunzCoordinates:=function(k,s)\n",
    "    local m;\n",
    "    m:=Length(k)+1;\n",
    "    return Concatenation([0],List([1..m-1],i->k[i]*m+i))+s;\n",
    "end;"
   ]
  },
  {
   "cell_type": "markdown",
   "id": "66f72953",
   "metadata": {},
   "source": [
    "Finally, we solve the system of inequalities proposed in Theorem 4.4 and to each solution we associate the corresponding ideal of the semigroup."
   ]
  },
  {
   "cell_type": "code",
   "execution_count": 6,
   "id": "f78e2ad0",
   "metadata": {
    "vscode": {
     "languageId": "gap"
    }
   },
   "outputs": [
    {
     "data": {
      "text/plain": [
       "function( s ) ... end"
      ]
     },
     "execution_count": 6,
     "metadata": {
      "text/plain": ""
     },
     "output_type": "execute_result"
    }
   ],
   "source": [
    "I0N:=function(s)\n",
    "    local c, points,m;\n",
    "    m:=Multiplicity(s);\n",
    "    c:=NmzCone([\"inhom_inequalities\",I0ineq(s)]);\n",
    "    points:=NmzLatticePoints(c);\n",
    "    return List(points,p->idealByKunzCoordinates(p{[1..m-1]},s));\n",
    "end;"
   ]
  },
  {
   "cell_type": "markdown",
   "id": "a2f149cf",
   "metadata": {},
   "source": [
    "An example of use:"
   ]
  },
  {
   "cell_type": "code",
   "execution_count": 9,
   "id": "2fe253cd",
   "metadata": {
    "vscode": {
     "languageId": "gap"
    }
   },
   "outputs": [
    {
     "data": {
      "text/plain": [
       "[ [ 0, 1, 2 ], [ 0, 1 ], [ 0, 2, 4 ], [ 0, 4 ], [ 0, 2 ], [ 0 ] ]"
      ]
     },
     "execution_count": 9,
     "metadata": {
      "text/plain": ""
     },
     "output_type": "execute_result"
    }
   ],
   "source": [
    "s:=NumericalSemigroup(3,5,7);;\n",
    "is:=I0N(s);;\n",
    "List(is,MinimalGenerators);"
   ]
  }
 ],
 "metadata": {
  "kernelspec": {
   "display_name": "GAP 4",
   "language": "gap",
   "name": "gap-4"
  },
  "language_info": {
   "codemirror_mode": "gap",
   "file_extension": ".g",
   "mimetype": "text/x-gap",
   "name": "GAP 4",
   "nbconvert_exporter": "",
   "pygments_lexer": "gap",
   "version": "4.12.2"
  }
 },
 "nbformat": 4,
 "nbformat_minor": 5
}
